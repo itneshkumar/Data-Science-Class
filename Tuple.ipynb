{
 "cells": [
  {
   "cell_type": "code",
   "execution_count": null,
   "id": "welcome-superior",
   "metadata": {},
   "outputs": [],
   "source": [
    "t=()\n",
    "type(t)"
   ]
  },
  {
   "cell_type": "code",
   "execution_count": null,
   "id": "balanced-notebook",
   "metadata": {},
   "outputs": [],
   "source": [
    "l=[]\n",
    "type(l)"
   ]
  },
  {
   "cell_type": "code",
   "execution_count": null,
   "id": "found-literature",
   "metadata": {},
   "outputs": [],
   "source": [
    "t1=(2,'itneh',3.5,True)"
   ]
  },
  {
   "cell_type": "code",
   "execution_count": null,
   "id": "agreed-piano",
   "metadata": {},
   "outputs": [],
   "source": [
    "type(t1)"
   ]
  },
  {
   "cell_type": "code",
   "execution_count": null,
   "id": "taken-injection",
   "metadata": {},
   "outputs": [],
   "source": [
    "t1[3]"
   ]
  },
  {
   "cell_type": "code",
   "execution_count": null,
   "id": "massive-pound",
   "metadata": {},
   "outputs": [],
   "source": [
    "t1[2]"
   ]
  },
  {
   "cell_type": "code",
   "execution_count": null,
   "id": "facial-davis",
   "metadata": {},
   "outputs": [],
   "source": [
    "t1[0:2]"
   ]
  },
  {
   "cell_type": "code",
   "execution_count": null,
   "id": "civic-truck",
   "metadata": {},
   "outputs": [],
   "source": [
    "t1(::-1)"
   ]
  },
  {
   "cell_type": "code",
   "execution_count": null,
   "id": "domestic-structure",
   "metadata": {},
   "outputs": [],
   "source": [
    "t1[::-1]"
   ]
  },
  {
   "cell_type": "code",
   "execution_count": null,
   "id": "retired-diving",
   "metadata": {},
   "outputs": [],
   "source": [
    "l=[2,'itnesh',3.5]"
   ]
  },
  {
   "cell_type": "code",
   "execution_count": null,
   "id": "measured-colon",
   "metadata": {},
   "outputs": [],
   "source": [
    "type(l)"
   ]
  },
  {
   "cell_type": "code",
   "execution_count": null,
   "id": "located-sound",
   "metadata": {},
   "outputs": [],
   "source": [
    "l[0]='kumar'"
   ]
  },
  {
   "cell_type": "code",
   "execution_count": null,
   "id": "earlier-armor",
   "metadata": {},
   "outputs": [],
   "source": [
    "l"
   ]
  },
  {
   "cell_type": "code",
   "execution_count": null,
   "id": "greater-belly",
   "metadata": {},
   "outputs": [],
   "source": [
    "t1[0]=3"
   ]
  },
  {
   "cell_type": "code",
   "execution_count": null,
   "id": "preceding-scotland",
   "metadata": {},
   "outputs": [],
   "source": [
    "t3=(4,6,5)"
   ]
  },
  {
   "cell_type": "code",
   "execution_count": null,
   "id": "dried-designation",
   "metadata": {},
   "outputs": [],
   "source": [
    "t1+t3"
   ]
  },
  {
   "cell_type": "code",
   "execution_count": null,
   "id": "universal-modification",
   "metadata": {},
   "outputs": [],
   "source": [
    "t1*4"
   ]
  },
  {
   "cell_type": "code",
   "execution_count": null,
   "id": "usual-edmonton",
   "metadata": {},
   "outputs": [],
   "source": [
    "t1"
   ]
  },
  {
   "cell_type": "code",
   "execution_count": null,
   "id": "hundred-gilbert",
   "metadata": {},
   "outputs": [],
   "source": [
    "3.5 in t1"
   ]
  },
  {
   "cell_type": "code",
   "execution_count": null,
   "id": "tight-support",
   "metadata": {},
   "outputs": [],
   "source": [
    "'itne' in t1"
   ]
  },
  {
   "cell_type": "code",
   "execution_count": null,
   "id": "cardiac-complaint",
   "metadata": {},
   "outputs": [],
   "source": [
    "max(t1)"
   ]
  },
  {
   "cell_type": "code",
   "execution_count": null,
   "id": "fifty-camcorder",
   "metadata": {},
   "outputs": [],
   "source": [
    "t2=(3,5,64.6,5)"
   ]
  },
  {
   "cell_type": "code",
   "execution_count": null,
   "id": "protective-census",
   "metadata": {},
   "outputs": [],
   "source": [
    "max(t2)"
   ]
  },
  {
   "cell_type": "code",
   "execution_count": null,
   "id": "inclusive-opposition",
   "metadata": {},
   "outputs": [],
   "source": [
    "t2.index(5)"
   ]
  },
  {
   "cell_type": "code",
   "execution_count": null,
   "id": "civil-domestic",
   "metadata": {},
   "outputs": [],
   "source": [
    "t2.count(5)"
   ]
  },
  {
   "cell_type": "code",
   "execution_count": null,
   "id": "legitimate-inspection",
   "metadata": {},
   "outputs": [],
   "source": [
    "min(t2)"
   ]
  },
  {
   "cell_type": "code",
   "execution_count": null,
   "id": "ambient-forestry",
   "metadata": {},
   "outputs": [],
   "source": [
    "t4=(5,5)"
   ]
  },
  {
   "cell_type": "code",
   "execution_count": null,
   "id": "active-beach",
   "metadata": {},
   "outputs": [],
   "source": [
    "t1+t4"
   ]
  },
  {
   "cell_type": "code",
   "execution_count": null,
   "id": "common-muslim",
   "metadata": {},
   "outputs": [],
   "source": [
    "l7=list(t1)"
   ]
  },
  {
   "cell_type": "code",
   "execution_count": null,
   "id": "violent-natural",
   "metadata": {},
   "outputs": [],
   "source": [
    "l7"
   ]
  },
  {
   "cell_type": "code",
   "execution_count": null,
   "id": "wrong-chase",
   "metadata": {},
   "outputs": [],
   "source": [
    "l7[3]='you'"
   ]
  },
  {
   "cell_type": "code",
   "execution_count": null,
   "id": "structured-cleaning",
   "metadata": {},
   "outputs": [],
   "source": [
    "l7"
   ]
  },
  {
   "cell_type": "code",
   "execution_count": null,
   "id": "naughty-citizen",
   "metadata": {},
   "outputs": [],
   "source": [
    "l7[2]='touple'"
   ]
  },
  {
   "cell_type": "code",
   "execution_count": null,
   "id": "increasing-soviet",
   "metadata": {},
   "outputs": [],
   "source": [
    "l7"
   ]
  },
  {
   "cell_type": "code",
   "execution_count": null,
   "id": "complete-affair",
   "metadata": {},
   "outputs": [],
   "source": [
    "tuple(l7)"
   ]
  },
  {
   "cell_type": "code",
   "execution_count": null,
   "id": "acoustic-fancy",
   "metadata": {},
   "outputs": [],
   "source": [
    "y=(('ram','kumar',4),(4,5,5,6,7),[34,5,7,6])"
   ]
  },
  {
   "cell_type": "code",
   "execution_count": null,
   "id": "detailed-india",
   "metadata": {},
   "outputs": [],
   "source": [
    "y"
   ]
  },
  {
   "cell_type": "code",
   "execution_count": null,
   "id": "second-enlargement",
   "metadata": {},
   "outputs": [],
   "source": [
    "y[3,3]"
   ]
  },
  {
   "cell_type": "code",
   "execution_count": null,
   "id": "following-toner",
   "metadata": {},
   "outputs": [],
   "source": [
    "y[2][3]"
   ]
  },
  {
   "cell_type": "code",
   "execution_count": null,
   "id": "subtle-theorem",
   "metadata": {},
   "outputs": [],
   "source": [
    "for i in y:\n",
    "    print(i)"
   ]
  },
  {
   "cell_type": "code",
   "execution_count": null,
   "id": "alternative-hunter",
   "metadata": {},
   "outputs": [],
   "source": [
    "for i in y:\n",
    "    if type(i)==tuple:\n",
    "        print(i[0])\n",
    "    "
   ]
  },
  {
   "cell_type": "code",
   "execution_count": null,
   "id": "virtual-consensus",
   "metadata": {},
   "outputs": [],
   "source": [
    "t1"
   ]
  },
  {
   "cell_type": "code",
   "execution_count": null,
   "id": "fancy-device",
   "metadata": {},
   "outputs": [],
   "source": [
    "t2"
   ]
  },
  {
   "cell_type": "code",
   "execution_count": null,
   "id": "nominated-warrant",
   "metadata": {},
   "outputs": [],
   "source": [
    "if len(t1)==len(t2):\n",
    "    print('its same')\n",
    "else:\n",
    "    print('not same')"
   ]
  },
  {
   "cell_type": "code",
   "execution_count": null,
   "id": "worldwide-collaboration",
   "metadata": {},
   "outputs": [],
   "source": [
    "t3"
   ]
  },
  {
   "cell_type": "code",
   "execution_count": null,
   "id": "unusual-enlargement",
   "metadata": {},
   "outputs": [],
   "source": [
    "t"
   ]
  },
  {
   "cell_type": "code",
   "execution_count": null,
   "id": "authentic-awareness",
   "metadata": {},
   "outputs": [],
   "source": [
    "t7"
   ]
  },
  {
   "cell_type": "code",
   "execution_count": null,
   "id": "historic-commons",
   "metadata": {},
   "outputs": [],
   "source": [
    "y"
   ]
  },
  {
   "cell_type": "code",
   "execution_count": null,
   "id": "according-manufacturer",
   "metadata": {},
   "outputs": [],
   "source": [
    "t=('itnesh',3,5,6,7,'kumar','man','rohan')"
   ]
  },
  {
   "cell_type": "code",
   "execution_count": null,
   "id": "economic-bloom",
   "metadata": {},
   "outputs": [],
   "source": [
    "i,j=input('enter your first name and space after space if second name present').split(\" \")\n",
    "if i and j in t:\n",
    "    print('present')\n",
    "elif i in t:\n",
    "    print('data insufficent only your first name present')\n",
    "elif j in t:\n",
    "    print('data insufficient only second name is present')\n",
    "else:\n",
    "    print('you are not present')"
   ]
  },
  {
   "cell_type": "code",
   "execution_count": null,
   "id": "directed-oxford",
   "metadata": {},
   "outputs": [],
   "source": [
    "l5=('itnesh',4,4)"
   ]
  },
  {
   "cell_type": "code",
   "execution_count": null,
   "id": "swiss-boston",
   "metadata": {},
   "outputs": [],
   "source": [
    "del(l5)"
   ]
  },
  {
   "cell_type": "code",
   "execution_count": null,
   "id": "innovative-translation",
   "metadata": {},
   "outputs": [],
   "source": [
    "l5"
   ]
  },
  {
   "cell_type": "code",
   "execution_count": null,
   "id": "passive-desire",
   "metadata": {},
   "outputs": [],
   "source": [
    "x=set()\n",
    "type(x)"
   ]
  },
  {
   "cell_type": "code",
   "execution_count": null,
   "id": "phantom-edgar",
   "metadata": {},
   "outputs": [],
   "source": [
    "l5=[3,5,6,6,6,3,3,'itensh','Itnesh','kumar',4556,64,454564,44,['itnesh','kumar']]"
   ]
  },
  {
   "cell_type": "code",
   "execution_count": null,
   "id": "baking-interpretation",
   "metadata": {},
   "outputs": [],
   "source": [
    "set(l5)"
   ]
  },
  {
   "cell_type": "code",
   "execution_count": null,
   "id": "ancient-punch",
   "metadata": {},
   "outputs": [],
   "source": [
    "l5"
   ]
  },
  {
   "cell_type": "code",
   "execution_count": null,
   "id": "saved-palestine",
   "metadata": {},
   "outputs": [],
   "source": [
    "s=set(l5)"
   ]
  },
  {
   "cell_type": "code",
   "execution_count": null,
   "id": "isolated-antarctica",
   "metadata": {},
   "outputs": [],
   "source": [
    "for i in s:\n",
    "    print(i)"
   ]
  },
  {
   "cell_type": "code",
   "execution_count": null,
   "id": "piano-benchmark",
   "metadata": {},
   "outputs": [],
   "source": [
    "s"
   ]
  },
  {
   "cell_type": "code",
   "execution_count": null,
   "id": "exterior-exchange",
   "metadata": {},
   "outputs": [],
   "source": [
    "s=set()"
   ]
  },
  {
   "cell_type": "code",
   "execution_count": null,
   "id": "banner-procurement",
   "metadata": {},
   "outputs": [],
   "source": [
    "s"
   ]
  },
  {
   "cell_type": "code",
   "execution_count": null,
   "id": "interpreted-despite",
   "metadata": {},
   "outputs": [],
   "source": [
    "s.add(45)"
   ]
  },
  {
   "cell_type": "code",
   "execution_count": null,
   "id": "desirable-injection",
   "metadata": {},
   "outputs": [],
   "source": [
    "s"
   ]
  },
  {
   "cell_type": "code",
   "execution_count": null,
   "id": "funky-ranking",
   "metadata": {},
   "outputs": [],
   "source": [
    "s.add('itnesh')"
   ]
  },
  {
   "cell_type": "code",
   "execution_count": null,
   "id": "loose-blame",
   "metadata": {},
   "outputs": [],
   "source": [
    "s.add('itneh',kumar)"
   ]
  },
  {
   "cell_type": "code",
   "execution_count": null,
   "id": "expected-apparatus",
   "metadata": {},
   "outputs": [],
   "source": [
    "s=set()"
   ]
  },
  {
   "cell_type": "code",
   "execution_count": null,
   "id": "extended-spyware",
   "metadata": {},
   "outputs": [],
   "source": [
    "s.add('itnesh')"
   ]
  },
  {
   "cell_type": "code",
   "execution_count": null,
   "id": "angry-crowd",
   "metadata": {},
   "outputs": [],
   "source": [
    "s.add(434)"
   ]
  },
  {
   "cell_type": "code",
   "execution_count": null,
   "id": "double-reputation",
   "metadata": {},
   "outputs": [],
   "source": [
    "s.add('kumar')"
   ]
  },
  {
   "cell_type": "code",
   "execution_count": null,
   "id": "southwest-resistance",
   "metadata": {},
   "outputs": [],
   "source": [
    "s"
   ]
  },
  {
   "cell_type": "code",
   "execution_count": null,
   "id": "professional-award",
   "metadata": {},
   "outputs": [],
   "source": [
    "s1=set()"
   ]
  },
  {
   "cell_type": "code",
   "execution_count": null,
   "id": "compound-tunnel",
   "metadata": {},
   "outputs": [],
   "source": [
    "s1.add('itnesh')"
   ]
  },
  {
   "cell_type": "code",
   "execution_count": null,
   "id": "adolescent-library",
   "metadata": {},
   "outputs": [],
   "source": [
    "s1.add('kumar')"
   ]
  },
  {
   "cell_type": "code",
   "execution_count": null,
   "id": "wanted-poultry",
   "metadata": {},
   "outputs": [],
   "source": [
    "s1.add(45)"
   ]
  },
  {
   "cell_type": "code",
   "execution_count": null,
   "id": "racial-jewelry",
   "metadata": {},
   "outputs": [],
   "source": [
    "s1"
   ]
  },
  {
   "cell_type": "code",
   "execution_count": null,
   "id": "proof-burner",
   "metadata": {},
   "outputs": [],
   "source": [
    "s+s1"
   ]
  },
  {
   "cell_type": "code",
   "execution_count": null,
   "id": "continuous-career",
   "metadata": {},
   "outputs": [],
   "source": [
    "t=list(s)"
   ]
  },
  {
   "cell_type": "code",
   "execution_count": null,
   "id": "statewide-soccer",
   "metadata": {},
   "outputs": [],
   "source": [
    "t"
   ]
  },
  {
   "cell_type": "code",
   "execution_count": null,
   "id": "indonesian-laugh",
   "metadata": {},
   "outputs": [],
   "source": [
    "t.append('rajn')"
   ]
  },
  {
   "cell_type": "code",
   "execution_count": null,
   "id": "broad-chair",
   "metadata": {},
   "outputs": [],
   "source": [
    "t"
   ]
  },
  {
   "cell_type": "code",
   "execution_count": null,
   "id": "immune-england",
   "metadata": {},
   "outputs": [],
   "source": [
    "set(t)"
   ]
  },
  {
   "cell_type": "code",
   "execution_count": null,
   "id": "significant-objective",
   "metadata": {},
   "outputs": [],
   "source": [
    "tuple(s)"
   ]
  },
  {
   "cell_type": "code",
   "execution_count": null,
   "id": "automated-giant",
   "metadata": {},
   "outputs": [],
   "source": [
    "t=('rajan','roahan')"
   ]
  },
  {
   "cell_type": "code",
   "execution_count": null,
   "id": "genetic-cotton",
   "metadata": {},
   "outputs": [],
   "source": [
    "type(t)"
   ]
  },
  {
   "cell_type": "code",
   "execution_count": null,
   "id": "associate-guest",
   "metadata": {},
   "outputs": [],
   "source": [
    "set(t)"
   ]
  },
  {
   "cell_type": "code",
   "execution_count": null,
   "id": "vocational-alignment",
   "metadata": {},
   "outputs": [],
   "source": [
    "s[4]"
   ]
  },
  {
   "cell_type": "code",
   "execution_count": null,
   "id": "administrative-mainland",
   "metadata": {},
   "outputs": [],
   "source": [
    "x={}"
   ]
  },
  {
   "cell_type": "code",
   "execution_count": null,
   "id": "interstate-cooper",
   "metadata": {},
   "outputs": [],
   "source": [
    "type(x)"
   ]
  },
  {
   "cell_type": "code",
   "execution_count": null,
   "id": "parental-empty",
   "metadata": {},
   "outputs": [],
   "source": [
    "x1={'itnehs','kumar'}"
   ]
  },
  {
   "cell_type": "code",
   "execution_count": null,
   "id": "genetic-caution",
   "metadata": {},
   "outputs": [],
   "source": [
    "type(x1)"
   ]
  },
  {
   "cell_type": "code",
   "execution_count": null,
   "id": "toxic-nylon",
   "metadata": {},
   "outputs": [],
   "source": [
    "x={'name':'itnesh','age':45}"
   ]
  },
  {
   "cell_type": "code",
   "execution_count": null,
   "id": "durable-stick",
   "metadata": {},
   "outputs": [],
   "source": [
    "type(x)"
   ]
  },
  {
   "cell_type": "code",
   "execution_count": null,
   "id": "complimentary-shareware",
   "metadata": {},
   "outputs": [],
   "source": [
    "x1={'name':'itnesh', True:'rohan',34:45,'age':45,'name':'rahan','set':[34,'iten',45,'rohan'],34:(4,5,6,'naina')}"
   ]
  },
  {
   "cell_type": "markdown",
   "id": "muslim-navigation",
   "metadata": {},
   "source": [
    "# x1"
   ]
  },
  {
   "cell_type": "code",
   "execution_count": null,
   "id": "entire-video",
   "metadata": {},
   "outputs": [],
   "source": [
    "x1"
   ]
  },
  {
   "cell_type": "code",
   "execution_count": null,
   "id": "typical-active",
   "metadata": {},
   "outputs": [],
   "source": [
    "x1['set'][0]"
   ]
  },
  {
   "cell_type": "code",
   "execution_count": null,
   "id": "occasional-blues",
   "metadata": {},
   "outputs": [],
   "source": [
    "x3={4:'rhsk','key':[3,5,6,'rhhsk']}\n"
   ]
  },
  {
   "cell_type": "code",
   "execution_count": null,
   "id": "international-blues",
   "metadata": {},
   "outputs": [],
   "source": [
    "x4={'key':'rajan'}"
   ]
  },
  {
   "cell_type": "code",
   "execution_count": null,
   "id": "pursuant-split",
   "metadata": {},
   "outputs": [],
   "source": [
    "x3*x4"
   ]
  },
  {
   "cell_type": "code",
   "execution_count": null,
   "id": "responsible-surveillance",
   "metadata": {},
   "outputs": [],
   "source": [
    "x3"
   ]
  },
  {
   "cell_type": "code",
   "execution_count": null,
   "id": "fleet-graham",
   "metadata": {},
   "outputs": [],
   "source": [
    "x3['key']='itnesh'"
   ]
  },
  {
   "cell_type": "code",
   "execution_count": null,
   "id": "smoking-details",
   "metadata": {},
   "outputs": [],
   "source": [
    "x3"
   ]
  },
  {
   "cell_type": "code",
   "execution_count": null,
   "id": "preceding-microwave",
   "metadata": {},
   "outputs": [],
   "source": [
    "x3['key']=234"
   ]
  },
  {
   "cell_type": "code",
   "execution_count": null,
   "id": "buried-laundry",
   "metadata": {},
   "outputs": [],
   "source": [
    "x3['key'] -=10"
   ]
  },
  {
   "cell_type": "code",
   "execution_count": null,
   "id": "adjacent-situation",
   "metadata": {},
   "outputs": [],
   "source": [
    "x3"
   ]
  },
  {
   "cell_type": "code",
   "execution_count": null,
   "id": "gross-badge",
   "metadata": {},
   "outputs": [],
   "source": [
    "'key' in x3.keys()"
   ]
  },
  {
   "cell_type": "code",
   "execution_count": null,
   "id": "renewable-violence",
   "metadata": {},
   "outputs": [],
   "source": [
    "'key' in x3.keys()"
   ]
  },
  {
   "cell_type": "code",
   "execution_count": null,
   "id": "mature-fifth",
   "metadata": {},
   "outputs": [],
   "source": [
    "x3.keys"
   ]
  },
  {
   "cell_type": "code",
   "execution_count": null,
   "id": "exceptional-centre",
   "metadata": {},
   "outputs": [],
   "source": [
    "x3.keys()"
   ]
  },
  {
   "cell_type": "code",
   "execution_count": null,
   "id": "united-journalist",
   "metadata": {},
   "outputs": [],
   "source": [
    "for i in x1.keys():\n",
    "    print(type(x1[i]))"
   ]
  },
  {
   "cell_type": "code",
   "execution_count": null,
   "id": "looking-beatles",
   "metadata": {},
   "outputs": [],
   "source": [
    "x1.items()"
   ]
  },
  {
   "cell_type": "code",
   "execution_count": null,
   "id": "dietary-banner",
   "metadata": {},
   "outputs": [],
   "source": [
    "for i in x1.items():\n",
    "    print(i[1])"
   ]
  },
  {
   "cell_type": "code",
   "execution_count": null,
   "id": "still-angel",
   "metadata": {},
   "outputs": [],
   "source": [
    "l={(3,5,3,2):'tiensh'}"
   ]
  },
  {
   "cell_type": "code",
   "execution_count": null,
   "id": "outside-costume",
   "metadata": {},
   "outputs": [],
   "source": [
    "l[(3,5,3,2)]"
   ]
  },
  {
   "cell_type": "code",
   "execution_count": null,
   "id": "skilled-aaron",
   "metadata": {},
   "outputs": [],
   "source": [
    "len(x3)"
   ]
  },
  {
   "cell_type": "code",
   "execution_count": null,
   "id": "connected-stage",
   "metadata": {},
   "outputs": [],
   "source": [
    "e={4:{46,6,23}}"
   ]
  },
  {
   "cell_type": "code",
   "execution_count": null,
   "id": "interstate-transcript",
   "metadata": {},
   "outputs": [],
   "source": [
    "e[4]"
   ]
  },
  {
   "cell_type": "code",
   "execution_count": null,
   "id": "saving-ethnic",
   "metadata": {},
   "outputs": [],
   "source": [
    "e[4][0]"
   ]
  },
  {
   "cell_type": "code",
   "execution_count": null,
   "id": "likely-stephen",
   "metadata": {},
   "outputs": [],
   "source": [
    "r=list(e[4])"
   ]
  },
  {
   "cell_type": "code",
   "execution_count": null,
   "id": "satisfied-wagner",
   "metadata": {},
   "outputs": [],
   "source": [
    "r[0]"
   ]
  },
  {
   "cell_type": "code",
   "execution_count": null,
   "id": "surprising-ontario",
   "metadata": {},
   "outputs": [],
   "source": [
    "r"
   ]
  },
  {
   "cell_type": "code",
   "execution_count": null,
   "id": "mounted-nightmare",
   "metadata": {},
   "outputs": [],
   "source": [
    "input_value=('Isopogon anethifolius is a shrub in the family Proteaceae. The species is found only in coastal areas near Sydney in New South Wales, and to the immediate west. It occurs naturally in woodland, open forest and heathland on sandstone soils. An upright shrub, it can reach to 3 m (10 ft) in height, with terete leaves that are divided and narrow. The yellow flowers appear from September to December and are prominently displayed. They are followed by round grey cones, which give the plant its common name of drumsticks. The small hairy seeds are found in the old flower parts. I. anethifolius regenerates after bushfire by resprouting from its woody base, known as a lignotuber, as well as from seed. It was described by Richard Salisbury in 1796, and was first grown in the United Kingdom the same year. One of the easiest members of the genus Isopogon to cultivate, I. anethifolius grows readily in the garden if located in a sunny or partly shaded spot with sandy soil and good drainage').split(' ')"
   ]
  },
  {
   "cell_type": "code",
   "execution_count": null,
   "id": "sustained-collect",
   "metadata": {},
   "outputs": [],
   "source": [
    "no_duplicate=set(input_value)"
   ]
  },
  {
   "cell_type": "code",
   "execution_count": null,
   "id": "higher-edgar",
   "metadata": {},
   "outputs": [],
   "source": [
    "# dict_name={}\n",
    "# for i in no_duplicate:\n",
    "#     dict_name[i]='Itnesh'\n",
    "dict_name=dict.fromkeys(no_duplicate,'itnesh')"
   ]
  },
  {
   "cell_type": "code",
   "execution_count": null,
   "id": "authentic-rehabilitation",
   "metadata": {},
   "outputs": [],
   "source": [
    "dict_name\n"
   ]
  },
  {
   "cell_type": "code",
   "execution_count": null,
   "id": "moderate-extra",
   "metadata": {},
   "outputs": [],
   "source": [
    "tuple_k=[]\n",
    "for i in dict_name.keys():\n",
    "    tuple_k.append(dict_name[i])"
   ]
  },
  {
   "cell_type": "code",
   "execution_count": null,
   "id": "centered-synthetic",
   "metadata": {},
   "outputs": [],
   "source": [
    "print(tuple(tuple_k))"
   ]
  },
  {
   "cell_type": "code",
   "execution_count": null,
   "id": "african-terrorism",
   "metadata": {},
   "outputs": [],
   "source": []
  },
  {
   "cell_type": "code",
   "execution_count": null,
   "id": "comfortable-tablet",
   "metadata": {},
   "outputs": [],
   "source": [
    "print(list(dict_name))"
   ]
  },
  {
   "cell_type": "code",
   "execution_count": 1,
   "id": "specific-learning",
   "metadata": {},
   "outputs": [
    {
     "name": "stdout",
     "output_type": "stream",
     "text": [
      "enter the paragraphA paragraph is a series of related sentences developing a central idea, called the topic. Try to think about paragraphs in terms of thematic unity: a paragraph is a sentence or a group of sentences that supports one central, unified idea. Paragraphs add one idea at a time to your broader argument\n"
     ]
    }
   ],
   "source": [
    "paragraph=input('enter the paragraph')\n",
    "\n",
    "\n"
   ]
  },
  {
   "cell_type": "code",
   "execution_count": 3,
   "id": "resistant-terrorist",
   "metadata": {},
   "outputs": [],
   "source": [
    "s1=set(paragraph.split(' '))"
   ]
  },
  {
   "cell_type": "code",
   "execution_count": 4,
   "id": "academic-kingston",
   "metadata": {},
   "outputs": [],
   "source": [
    "d=dict.fromkeys(s1,'itnesh')"
   ]
  },
  {
   "cell_type": "code",
   "execution_count": 5,
   "id": "sitting-stanford",
   "metadata": {},
   "outputs": [],
   "source": [
    "t1=tuple(d.keys())"
   ]
  },
  {
   "cell_type": "code",
   "execution_count": 6,
   "id": "subsequent-digit",
   "metadata": {},
   "outputs": [
    {
     "data": {
      "text/plain": [
       "('related',\n",
       " 'is',\n",
       " 'thematic',\n",
       " 'central',\n",
       " 'broader',\n",
       " 'supports',\n",
       " 'terms',\n",
       " 'topic.',\n",
       " 'in',\n",
       " 'unified',\n",
       " 'argument',\n",
       " 'your',\n",
       " 'group',\n",
       " 'that',\n",
       " 'paragraph',\n",
       " 'Try',\n",
       " 'add',\n",
       " 'time',\n",
       " 'A',\n",
       " 'central,',\n",
       " 'idea.',\n",
       " 'about',\n",
       " 'series',\n",
       " 'to',\n",
       " 'unity:',\n",
       " 'sentence',\n",
       " 'paragraphs',\n",
       " 'sentences',\n",
       " 'one',\n",
       " 'Paragraphs',\n",
       " 'called',\n",
       " 'the',\n",
       " 'or',\n",
       " 'idea',\n",
       " 'a',\n",
       " 'of',\n",
       " 'at',\n",
       " 'developing',\n",
       " 'idea,',\n",
       " 'think')"
      ]
     },
     "execution_count": 6,
     "metadata": {},
     "output_type": "execute_result"
    }
   ],
   "source": [
    "t1"
   ]
  },
  {
   "cell_type": "code",
   "execution_count": 7,
   "id": "absolute-client",
   "metadata": {},
   "outputs": [],
   "source": [
    "l=list(d.values())"
   ]
  },
  {
   "cell_type": "code",
   "execution_count": 8,
   "id": "experienced-scanner",
   "metadata": {},
   "outputs": [
    {
     "data": {
      "text/plain": [
       "['itnesh',\n",
       " 'itnesh',\n",
       " 'itnesh',\n",
       " 'itnesh',\n",
       " 'itnesh',\n",
       " 'itnesh',\n",
       " 'itnesh',\n",
       " 'itnesh',\n",
       " 'itnesh',\n",
       " 'itnesh',\n",
       " 'itnesh',\n",
       " 'itnesh',\n",
       " 'itnesh',\n",
       " 'itnesh',\n",
       " 'itnesh',\n",
       " 'itnesh',\n",
       " 'itnesh',\n",
       " 'itnesh',\n",
       " 'itnesh',\n",
       " 'itnesh',\n",
       " 'itnesh',\n",
       " 'itnesh',\n",
       " 'itnesh',\n",
       " 'itnesh',\n",
       " 'itnesh',\n",
       " 'itnesh',\n",
       " 'itnesh',\n",
       " 'itnesh',\n",
       " 'itnesh',\n",
       " 'itnesh',\n",
       " 'itnesh',\n",
       " 'itnesh',\n",
       " 'itnesh',\n",
       " 'itnesh',\n",
       " 'itnesh',\n",
       " 'itnesh',\n",
       " 'itnesh',\n",
       " 'itnesh',\n",
       " 'itnesh',\n",
       " 'itnesh']"
      ]
     },
     "execution_count": 8,
     "metadata": {},
     "output_type": "execute_result"
    }
   ],
   "source": [
    "l"
   ]
  },
  {
   "cell_type": "code",
   "execution_count": 9,
   "id": "skilled-peoples",
   "metadata": {},
   "outputs": [],
   "source": [
    "d={'company':'ineuron','course':'full_stack data science','year':2021}"
   ]
  },
  {
   "cell_type": "code",
   "execution_count": 12,
   "id": "silent-french",
   "metadata": {},
   "outputs": [
    {
     "name": "stdout",
     "output_type": "stream",
     "text": [
      "print key:  company , print the values: ineuron\n",
      "print key:  course , print the values: full_stack data science\n",
      "print key:  year , print the values: 2021\n"
     ]
    }
   ],
   "source": [
    "for i in d:\n",
    "    print('print key: ', i ,', print the values:',d[i])"
   ]
  },
  {
   "cell_type": "code",
   "execution_count": 16,
   "id": "alternative-fellowship",
   "metadata": {},
   "outputs": [
    {
     "data": {
      "text/plain": [
       "True"
      ]
     },
     "execution_count": 16,
     "metadata": {},
     "output_type": "execute_result"
    }
   ],
   "source": [
    "\"course\" in d\n",
    "    "
   ]
  },
  {
   "cell_type": "code",
   "execution_count": 21,
   "id": "attached-auditor",
   "metadata": {},
   "outputs": [
    {
     "name": "stdout",
     "output_type": "stream",
     "text": [
      "year  is fine\n"
     ]
    }
   ],
   "source": [
    "for i in d:\n",
    "    if i=='year':\n",
    "        if d[i]>2021:\n",
    "            print('year  is fine')\n",
    "        else:\n",
    "            d[i]=2022"
   ]
  },
  {
   "cell_type": "code",
   "execution_count": 22,
   "id": "loving-balance",
   "metadata": {},
   "outputs": [
    {
     "data": {
      "text/plain": [
       "{'company': 'ineuron', 'course': 'full_stack data science', 'year': 2022}"
      ]
     },
     "execution_count": 22,
     "metadata": {},
     "output_type": "execute_result"
    }
   ],
   "source": [
    "d"
   ]
  },
  {
   "cell_type": "code",
   "execution_count": 3,
   "id": "dependent-computer",
   "metadata": {},
   "outputs": [],
   "source": [
    "my_dict={}\n",
    "for i in range(10):\n",
    "    my_dict[i]=i*i"
   ]
  },
  {
   "cell_type": "code",
   "execution_count": 4,
   "id": "imported-saver",
   "metadata": {},
   "outputs": [
    {
     "data": {
      "text/plain": [
       "{0: 0, 1: 1, 2: 4, 3: 9, 4: 16, 5: 25, 6: 36, 7: 49, 8: 64, 9: 81}"
      ]
     },
     "execution_count": 4,
     "metadata": {},
     "output_type": "execute_result"
    }
   ],
   "source": [
    "my_dict"
   ]
  },
  {
   "cell_type": "code",
   "execution_count": 9,
   "id": "wicked-passage",
   "metadata": {},
   "outputs": [
    {
     "data": {
      "text/plain": [
       "{0: 0, 3: 9, 6: 36, 9: 81}"
      ]
     },
     "execution_count": 9,
     "metadata": {},
     "output_type": "execute_result"
    }
   ],
   "source": [
    "{i:i*i for i in range(0,10,3)}"
   ]
  },
  {
   "cell_type": "code",
   "execution_count": 1,
   "id": "communist-captain",
   "metadata": {},
   "outputs": [
    {
     "data": {
      "text/plain": [
       "-1"
      ]
     },
     "execution_count": 1,
     "metadata": {},
     "output_type": "execute_result"
    }
   ],
   "source": [
    "-1\n"
   ]
  },
  {
   "cell_type": "code",
   "execution_count": 2,
   "id": "9cec4458",
   "metadata": {},
   "outputs": [
    {
     "data": {
      "text/plain": [
       "int"
      ]
     },
     "execution_count": 2,
     "metadata": {},
     "output_type": "execute_result"
    }
   ],
   "source": [
    "type(-1)\n"
   ]
  },
  {
   "cell_type": "code",
   "execution_count": 3,
   "id": "99dabc94",
   "metadata": {},
   "outputs": [
    {
     "data": {
      "text/plain": [
       "(2+6j)"
      ]
     },
     "execution_count": 3,
     "metadata": {},
     "output_type": "execute_result"
    }
   ],
   "source": [
    "2+6j"
   ]
  },
  {
   "cell_type": "code",
   "execution_count": 4,
   "id": "f6e236cb",
   "metadata": {},
   "outputs": [
    {
     "data": {
      "text/plain": [
       "complex"
      ]
     },
     "execution_count": 4,
     "metadata": {},
     "output_type": "execute_result"
    }
   ],
   "source": [
    "type(2+6j)"
   ]
  },
  {
   "cell_type": "code",
   "execution_count": 5,
   "id": "119b3c12",
   "metadata": {},
   "outputs": [
    {
     "data": {
      "text/plain": [
       "list"
      ]
     },
     "execution_count": 5,
     "metadata": {},
     "output_type": "execute_result"
    }
   ],
   "source": [
    "type([2,3])"
   ]
  },
  {
   "cell_type": "code",
   "execution_count": 8,
   "id": "39d8b008",
   "metadata": {},
   "outputs": [
    {
     "data": {
      "text/plain": [
       "[1, 2, 'itnesh']"
      ]
     },
     "execution_count": 8,
     "metadata": {},
     "output_type": "execute_result"
    }
   ],
   "source": [
    "[1,2,'itnesh']\n"
   ]
  },
  {
   "cell_type": "code",
   "execution_count": 10,
   "id": "f3fbd44e",
   "metadata": {},
   "outputs": [
    {
     "data": {
      "text/plain": [
       "(1, 2, 'itnesh')"
      ]
     },
     "execution_count": 10,
     "metadata": {},
     "output_type": "execute_result"
    }
   ],
   "source": [
    "(1,2,'itnesh')"
   ]
  },
  {
   "cell_type": "code",
   "execution_count": 12,
   "id": "a17d9614",
   "metadata": {},
   "outputs": [
    {
     "data": {
      "text/plain": [
       "{'name': 'itnesh', 'age': 24}"
      ]
     },
     "execution_count": 12,
     "metadata": {},
     "output_type": "execute_result"
    }
   ],
   "source": [
    "{\"name\": \"itnesh\", \"age\":24}"
   ]
  },
  {
   "cell_type": "code",
   "execution_count": 13,
   "id": "9f19934b",
   "metadata": {},
   "outputs": [
    {
     "data": {
      "text/plain": [
       "2"
      ]
     },
     "execution_count": 13,
     "metadata": {},
     "output_type": "execute_result"
    }
   ],
   "source": [
    "int(2.3)"
   ]
  },
  {
   "cell_type": "code",
   "execution_count": 14,
   "id": "1e02db37",
   "metadata": {},
   "outputs": [
    {
     "data": {
      "text/plain": [
       "'5'"
      ]
     },
     "execution_count": 14,
     "metadata": {},
     "output_type": "execute_result"
    }
   ],
   "source": [
    "str(5)"
   ]
  },
  {
   "cell_type": "code",
   "execution_count": 15,
   "id": "3ba83a65",
   "metadata": {},
   "outputs": [
    {
     "data": {
      "text/plain": [
       "5.0"
      ]
     },
     "execution_count": 15,
     "metadata": {},
     "output_type": "execute_result"
    }
   ],
   "source": [
    "float(5)"
   ]
  },
  {
   "cell_type": "code",
   "execution_count": 17,
   "id": "e0faefd7",
   "metadata": {},
   "outputs": [
    {
     "data": {
      "text/plain": [
       "('s',)"
      ]
     },
     "execution_count": 17,
     "metadata": {},
     "output_type": "execute_result"
    }
   ],
   "source": [
    "tuple('s')"
   ]
  },
  {
   "cell_type": "code",
   "execution_count": 19,
   "id": "bb36ed6a",
   "metadata": {},
   "outputs": [
    {
     "data": {
      "text/plain": [
       "['1']"
      ]
     },
     "execution_count": 19,
     "metadata": {},
     "output_type": "execute_result"
    }
   ],
   "source": [
    "list('1')"
   ]
  },
  {
   "cell_type": "code",
   "execution_count": 20,
   "id": "ccba7365",
   "metadata": {},
   "outputs": [
    {
     "data": {
      "text/plain": [
       "{'d'}"
      ]
     },
     "execution_count": 20,
     "metadata": {},
     "output_type": "execute_result"
    }
   ],
   "source": [
    "set('d')"
   ]
  },
  {
   "cell_type": "code",
   "execution_count": 24,
   "id": "3d6cb7fe",
   "metadata": {},
   "outputs": [
    {
     "ename": "SyntaxError",
     "evalue": "invalid syntax (<ipython-input-24-159d3798af7c>, line 1)",
     "output_type": "error",
     "traceback": [
      "\u001b[1;36m  File \u001b[1;32m\"<ipython-input-24-159d3798af7c>\"\u001b[1;36m, line \u001b[1;32m1\u001b[0m\n\u001b[1;33m    dict('d':1)\u001b[0m\n\u001b[1;37m            ^\u001b[0m\n\u001b[1;31mSyntaxError\u001b[0m\u001b[1;31m:\u001b[0m invalid syntax\n"
     ]
    }
   ],
   "source": [
    "dict{}'d':1)"
   ]
  },
  {
   "cell_type": "code",
   "execution_count": 1,
   "id": "3e9153dd",
   "metadata": {},
   "outputs": [
    {
     "ename": "SyntaxError",
     "evalue": "invalid syntax (<ipython-input-1-21a696479752>, line 1)",
     "output_type": "error",
     "traceback": [
      "\u001b[1;36m  File \u001b[1;32m\"<ipython-input-1-21a696479752>\"\u001b[1;36m, line \u001b[1;32m1\u001b[0m\n\u001b[1;33m    dict{1:'apple', 2:'ball'}\u001b[0m\n\u001b[1;37m        ^\u001b[0m\n\u001b[1;31mSyntaxError\u001b[0m\u001b[1;31m:\u001b[0m invalid syntax\n"
     ]
    }
   ],
   "source": [
    "dict{1:'apple', 2:'ball'}"
   ]
  },
  {
   "cell_type": "code",
   "execution_count": null,
   "id": "026a4e43",
   "metadata": {},
   "outputs": [],
   "source": []
  },
  {
   "cell_type": "code",
   "execution_count": null,
   "id": "a243f15c",
   "metadata": {},
   "outputs": [],
   "source": [
    "dict([(1,'apple'), (2,'ball')]"
   ]
  },
  {
   "cell_type": "code",
   "execution_count": 2,
   "id": "47b6e7f3",
   "metadata": {},
   "outputs": [
    {
     "data": {
      "text/plain": [
       "{1: 'apple', 2: 'ball'}"
      ]
     },
     "execution_count": 2,
     "metadata": {},
     "output_type": "execute_result"
    }
   ],
   "source": [
    "dict([(1,'apple'), (2,'ball')])\n"
   ]
  },
  {
   "cell_type": "code",
   "execution_count": 3,
   "id": "808ec92b",
   "metadata": {},
   "outputs": [
    {
     "ename": "TypeError",
     "evalue": "an integer is required (got type str)",
     "output_type": "error",
     "traceback": [
      "\u001b[1;31m---------------------------------------------------------------------------\u001b[0m",
      "\u001b[1;31mTypeError\u001b[0m                                 Traceback (most recent call last)",
      "\u001b[1;32m<ipython-input-3-5d0bb6b0a347>\u001b[0m in \u001b[0;36m<module>\u001b[1;34m\u001b[0m\n\u001b[1;32m----> 1\u001b[1;33m \u001b[0mchr\u001b[0m\u001b[1;33m(\u001b[0m\u001b[1;34m'x'\u001b[0m\u001b[1;33m)\u001b[0m\u001b[1;33m\u001b[0m\u001b[1;33m\u001b[0m\u001b[0m\n\u001b[0m",
      "\u001b[1;31mTypeError\u001b[0m: an integer is required (got type str)"
     ]
    }
   ],
   "source": [
    "chr('x')"
   ]
  },
  {
   "cell_type": "code",
   "execution_count": 4,
   "id": "7c646897",
   "metadata": {},
   "outputs": [
    {
     "data": {
      "text/plain": [
       "0.8"
      ]
     },
     "execution_count": 4,
     "metadata": {},
     "output_type": "execute_result"
    }
   ],
   "source": [
    "4/5"
   ]
  },
  {
   "cell_type": "code",
   "execution_count": 5,
   "id": "1a49f8a6",
   "metadata": {},
   "outputs": [
    {
     "data": {
      "text/plain": [
       "1"
      ]
     },
     "execution_count": 5,
     "metadata": {},
     "output_type": "execute_result"
    }
   ],
   "source": [
    "5%2"
   ]
  },
  {
   "cell_type": "code",
   "execution_count": 6,
   "id": "debf7a0b",
   "metadata": {},
   "outputs": [
    {
     "data": {
      "text/plain": [
       "2"
      ]
     },
     "execution_count": 6,
     "metadata": {},
     "output_type": "execute_result"
    }
   ],
   "source": [
    "5//2"
   ]
  },
  {
   "cell_type": "code",
   "execution_count": 31,
   "id": "1b6a3851",
   "metadata": {},
   "outputs": [],
   "source": [
    "a=\"  Hello World  \"\n"
   ]
  },
  {
   "cell_type": "code",
   "execution_count": 10,
   "id": "42acd7c7",
   "metadata": {},
   "outputs": [
    {
     "name": "stdout",
     "output_type": "stream",
     "text": [
      "Hel\n",
      "Hel\n",
      "lo World\n",
      "Hello Wo\n"
     ]
    }
   ],
   "source": [
    "print(word[0:3])\n",
    "print(word[:3])\n",
    "print(word[3:])\n",
    "print(word[:-3])\n"
   ]
  },
  {
   "cell_type": "code",
   "execution_count": 13,
   "id": "acfb7db9",
   "metadata": {},
   "outputs": [
    {
     "data": {
      "text/plain": [
       "True"
      ]
     },
     "execution_count": 13,
     "metadata": {},
     "output_type": "execute_result"
    }
   ],
   "source": [
    "a.startswith(\"H\")"
   ]
  },
  {
   "cell_type": "code",
   "execution_count": 23,
   "id": "063359db",
   "metadata": {},
   "outputs": [
    {
     "name": "stdout",
     "output_type": "stream",
     "text": [
      "HELLO WORLD\n"
     ]
    }
   ],
   "source": [
    "print(a.upper())"
   ]
  },
  {
   "cell_type": "code",
   "execution_count": 24,
   "id": "0c895a20",
   "metadata": {},
   "outputs": [
    {
     "name": "stdout",
     "output_type": "stream",
     "text": [
      "hELLO wORLD\n"
     ]
    }
   ],
   "source": [
    "print(a.swapcase())"
   ]
  },
  {
   "cell_type": "code",
   "execution_count": 25,
   "id": "887f99cf",
   "metadata": {},
   "outputs": [
    {
     "data": {
      "text/plain": [
       "'Goodbye World'"
      ]
     },
     "execution_count": 25,
     "metadata": {},
     "output_type": "execute_result"
    }
   ],
   "source": [
    "a.replace(\"Hello\", \"Goodbye\")"
   ]
  },
  {
   "cell_type": "code",
   "execution_count": 29,
   "id": "abeda2a3",
   "metadata": {},
   "outputs": [
    {
     "ename": "NameError",
     "evalue": "name 'reverse' is not defined",
     "output_type": "error",
     "traceback": [
      "\u001b[1;31m---------------------------------------------------------------------------\u001b[0m",
      "\u001b[1;31mNameError\u001b[0m                                 Traceback (most recent call last)",
      "\u001b[1;32m<ipython-input-29-725c8d0d94e6>\u001b[0m in \u001b[0;36m<module>\u001b[1;34m\u001b[0m\n\u001b[1;32m----> 1\u001b[1;33m \u001b[0mprint\u001b[0m\u001b[1;33m(\u001b[0m\u001b[0mreverse\u001b[0m\u001b[1;33m(\u001b[0m\u001b[1;34m'hello'\u001b[0m\u001b[1;33m)\u001b[0m\u001b[1;33m)\u001b[0m\u001b[1;33m\u001b[0m\u001b[1;33m\u001b[0m\u001b[0m\n\u001b[0m",
      "\u001b[1;31mNameError\u001b[0m: name 'reverse' is not defined"
     ]
    }
   ],
   "source": [
    "print(reverse('hello'))"
   ]
  },
  {
   "cell_type": "code",
   "execution_count": 35,
   "id": "c3b2920b",
   "metadata": {},
   "outputs": [
    {
     "data": {
      "text/plain": [
       "'kumar'"
      ]
     },
     "execution_count": 35,
     "metadata": {},
     "output_type": "execute_result"
    }
   ],
   "source": [
    "j.strip() "
   ]
  },
  {
   "cell_type": "code",
   "execution_count": 34,
   "id": "617584af",
   "metadata": {},
   "outputs": [],
   "source": [
    "j=\"      kumar  \""
   ]
  },
  {
   "cell_type": "code",
   "execution_count": 36,
   "id": "2ef0a200",
   "metadata": {},
   "outputs": [
    {
     "name": "stdout",
     "output_type": "stream",
     "text": [
      " : :H:e:l:l:o: :W:o:r:l:d: : \n"
     ]
    }
   ],
   "source": [
    "print(\":\".join(a)) "
   ]
  },
  {
   "cell_type": "code",
   "execution_count": 37,
   "id": "32f373da",
   "metadata": {},
   "outputs": [
    {
     "data": {
      "text/plain": [
       "(1, 2, 3, 1, 2, 3, 1, 2, 3)"
      ]
     },
     "execution_count": 37,
     "metadata": {},
     "output_type": "execute_result"
    }
   ],
   "source": [
    "(1,2,3)*3"
   ]
  },
  {
   "cell_type": "code",
   "execution_count": 52,
   "id": "54436476",
   "metadata": {},
   "outputs": [],
   "source": [
    "Days={\"Mon\",\"Tue\",\"Wed\",\"Thu\",\"Fri\",\"Sat\"}"
   ]
  },
  {
   "cell_type": "code",
   "execution_count": null,
   "id": "57fbd23b",
   "metadata": {},
   "outputs": [],
   "source": []
  },
  {
   "cell_type": "code",
   "execution_count": 53,
   "id": "6c24371f",
   "metadata": {},
   "outputs": [],
   "source": [
    "Days.add(\"Sun\")"
   ]
  },
  {
   "cell_type": "code",
   "execution_count": 54,
   "id": "e5fb82d2",
   "metadata": {},
   "outputs": [
    {
     "name": "stdout",
     "output_type": "stream",
     "text": [
      "{'Thu', 'Fri', 'Tue', 'Mon', 'Sun', 'Sat', 'Wed'}\n"
     ]
    }
   ],
   "source": [
    "print(Days)"
   ]
  },
  {
   "cell_type": "code",
   "execution_count": 60,
   "id": "eeb6f203",
   "metadata": {},
   "outputs": [],
   "source": [
    "Days.discard('Tue')"
   ]
  },
  {
   "cell_type": "code",
   "execution_count": 61,
   "id": "6265eac3",
   "metadata": {},
   "outputs": [
    {
     "name": "stdout",
     "output_type": "stream",
     "text": [
      "{'Thu', 'Fri', 'Mon', 'Sun', 'Sat', 'Wed'}\n"
     ]
    }
   ],
   "source": [
    "print(Days)"
   ]
  },
  {
   "cell_type": "code",
   "execution_count": 64,
   "id": "4eb5e9b2",
   "metadata": {},
   "outputs": [
    {
     "ename": "TypeError",
     "evalue": "'set' object does not support indexing",
     "output_type": "error",
     "traceback": [
      "\u001b[1;31m---------------------------------------------------------------------------\u001b[0m",
      "\u001b[1;31mTypeError\u001b[0m                                 Traceback (most recent call last)",
      "\u001b[1;32m<ipython-input-64-95b559831a10>\u001b[0m in \u001b[0;36m<module>\u001b[1;34m\u001b[0m\n\u001b[1;32m----> 1\u001b[1;33m \u001b[0mDays\u001b[0m\u001b[1;33m[\u001b[0m\u001b[1;36m1\u001b[0m\u001b[1;33m]\u001b[0m\u001b[1;33m.\u001b[0m\u001b[0mitems\u001b[0m\u001b[1;33m(\u001b[0m\u001b[1;33m)\u001b[0m\u001b[1;33m\u001b[0m\u001b[1;33m\u001b[0m\u001b[0m\n\u001b[0m",
      "\u001b[1;31mTypeError\u001b[0m: 'set' object does not support indexing"
     ]
    }
   ],
   "source": []
  },
  {
   "cell_type": "code",
   "execution_count": 71,
   "id": "647611b2",
   "metadata": {},
   "outputs": [],
   "source": [
    "d = {'a': 10, 'b': 20, 'c': 30}"
   ]
  },
  {
   "cell_type": "code",
   "execution_count": 72,
   "id": "01db15b3",
   "metadata": {},
   "outputs": [
    {
     "ename": "AttributeError",
     "evalue": "'int' object has no attribute 'items'",
     "output_type": "error",
     "traceback": [
      "\u001b[1;31m---------------------------------------------------------------------------\u001b[0m",
      "\u001b[1;31mAttributeError\u001b[0m                            Traceback (most recent call last)",
      "\u001b[1;32m<ipython-input-72-2517ab537905>\u001b[0m in \u001b[0;36m<module>\u001b[1;34m\u001b[0m\n\u001b[1;32m----> 1\u001b[1;33m \u001b[0md\u001b[0m\u001b[1;33m[\u001b[0m\u001b[1;34m'a'\u001b[0m\u001b[1;33m]\u001b[0m\u001b[1;33m.\u001b[0m\u001b[0mitems\u001b[0m\u001b[1;33m(\u001b[0m\u001b[1;33m)\u001b[0m\u001b[1;33m\u001b[0m\u001b[1;33m\u001b[0m\u001b[0m\n\u001b[0m",
      "\u001b[1;31mAttributeError\u001b[0m: 'int' object has no attribute 'items'"
     ]
    }
   ],
   "source": [
    "d['a'].items()"
   ]
  },
  {
   "cell_type": "code",
   "execution_count": 74,
   "id": "b9c56763",
   "metadata": {},
   "outputs": [
    {
     "data": {
      "text/plain": [
       "dict_items([('a', 10), ('b', 20), ('c', 30)])"
      ]
     },
     "execution_count": 74,
     "metadata": {},
     "output_type": "execute_result"
    }
   ],
   "source": [
    "d.items()"
   ]
  },
  {
   "cell_type": "code",
   "execution_count": 75,
   "id": "019014fd",
   "metadata": {},
   "outputs": [],
   "source": [
    "dict = {'Name': 'Zara', 'Age': 7, 'Class': 'First'}"
   ]
  },
  {
   "cell_type": "code",
   "execution_count": 76,
   "id": "dd4ad6ca",
   "metadata": {},
   "outputs": [
    {
     "data": {
      "text/plain": [
       "['a', 'b', 'c']"
      ]
     },
     "execution_count": 76,
     "metadata": {},
     "output_type": "execute_result"
    }
   ],
   "source": [
    "list(d.keys())"
   ]
  },
  {
   "cell_type": "code",
   "execution_count": 77,
   "id": "6e09695b",
   "metadata": {},
   "outputs": [
    {
     "data": {
      "text/plain": [
       "[10, 20, 30]"
      ]
     },
     "execution_count": 77,
     "metadata": {},
     "output_type": "execute_result"
    }
   ],
   "source": [
    "list(d.values())"
   ]
  },
  {
   "cell_type": "code",
   "execution_count": 78,
   "id": "dee5c9cf",
   "metadata": {},
   "outputs": [
    {
     "data": {
      "text/plain": [
       "range(0, 3)"
      ]
     },
     "execution_count": 78,
     "metadata": {},
     "output_type": "execute_result"
    }
   ],
   "source": [
    "range(3) \n"
   ]
  },
  {
   "cell_type": "code",
   "execution_count": 79,
   "id": "231fadd8",
   "metadata": {},
   "outputs": [
    {
     "name": "stdout",
     "output_type": "stream",
     "text": [
      "2\n",
      "3\n",
      "4\n"
     ]
    }
   ],
   "source": [
    "for i in range(2,5):\n",
    "\tprint(i)\n"
   ]
  },
  {
   "cell_type": "code",
   "execution_count": 80,
   "id": "ef7e247c",
   "metadata": {},
   "outputs": [],
   "source": [
    "import os"
   ]
  },
  {
   "cell_type": "code",
   "execution_count": 81,
   "id": "b7bf4c5b",
   "metadata": {},
   "outputs": [
    {
     "data": {
      "text/plain": [
       "'D:\\\\Data_science_class'"
      ]
     },
     "execution_count": 81,
     "metadata": {},
     "output_type": "execute_result"
    }
   ],
   "source": [
    "pwd()"
   ]
  },
  {
   "cell_type": "code",
   "execution_count": null,
   "id": "3d37fefa",
   "metadata": {},
   "outputs": [],
   "source": []
  }
 ],
 "metadata": {
  "kernelspec": {
   "display_name": "Python 3",
   "language": "python",
   "name": "python3"
  },
  "language_info": {
   "codemirror_mode": {
    "name": "ipython",
    "version": 3
   },
   "file_extension": ".py",
   "mimetype": "text/x-python",
   "name": "python",
   "nbconvert_exporter": "python",
   "pygments_lexer": "ipython3",
   "version": "3.6.8"
  }
 },
 "nbformat": 4,
 "nbformat_minor": 5
}
