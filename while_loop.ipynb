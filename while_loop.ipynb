{
 "cells": [
  {
   "cell_type": "code",
   "execution_count": 1,
   "id": "uniform-values",
   "metadata": {},
   "outputs": [
    {
     "name": "stdout",
     "output_type": "stream",
     "text": [
      "this is valid condition\n"
     ]
    }
   ],
   "source": [
    "a=10\n",
    "b=20\n",
    "if a==10 and b==20:\n",
    "    print('this is valid condition')"
   ]
  },
  {
   "cell_type": "code",
   "execution_count": null,
   "id": "choice-librarian",
   "metadata": {},
   "outputs": [],
   "source": [
    "first_name,last_name=input('enter the number').split(',')\n",
    "if last_name=='kumar':\n",
    "    print('last name is kumar')\n",
    "elif fist_name=='itnesh':\n",
    "    print('first name is itnesh')\n",
    "else:\n",
    "    print(' this is your full name {first_name} {last_name}').formate()"
   ]
  },
  {
   "cell_type": "code",
   "execution_count": null,
   "id": "breeding-sunglasses",
   "metadata": {},
   "outputs": [],
   "source": [
    "inital_speed=0\n",
    "final_speed=100\n",
    "count=1\n",
    "while initial_speed<final_speed:\n",
    "    print('fina_speed is greater than intial_speed')\n",
    "    count=count+1\n",
    "    if count==10:\n",
    "        break"
   ]
  },
  {
   "cell_type": "code",
   "execution_count": 4,
   "id": "violent-walnut",
   "metadata": {},
   "outputs": [
    {
     "name": "stdout",
     "output_type": "stream",
     "text": [
      "1\n",
      "2\n",
      "3\n",
      "4\n",
      "5\n",
      "5\n",
      "10 rupees notes are not present\n"
     ]
    }
   ],
   "source": [
    "notes=5\n",
    "i=1\n",
    "j=0\n",
    "while i< notes:\n",
    "    print(i)\n",
    "    i+=1\n",
    "else:\n",
    "    while j< 2:\n",
    "        print(i)\n",
    "        j=j+1\n",
    "    print('10 rupees notes are not present')"
   ]
  },
  {
   "cell_type": "code",
   "execution_count": 5,
   "id": "catholic-louisville",
   "metadata": {},
   "outputs": [
    {
     "ename": "SyntaxError",
     "evalue": "invalid syntax (<ipython-input-5-a186cf59f1a9>, line 1)",
     "output_type": "error",
     "traceback": [
      "\u001b[1;36m  File \u001b[1;32m\"<ipython-input-5-a186cf59f1a9>\"\u001b[1;36m, line \u001b[1;32m1\u001b[0m\n\u001b[1;33m    2r\u001b[0m\n\u001b[1;37m     ^\u001b[0m\n\u001b[1;31mSyntaxError\u001b[0m\u001b[1;31m:\u001b[0m invalid syntax\n"
     ]
    }
   ],
   "source": [
    "2r\n"
   ]
  },
  {
   "cell_type": "code",
   "execution_count": 6,
   "id": "russian-elements",
   "metadata": {},
   "outputs": [
    {
     "ename": "SyntaxError",
     "evalue": "invalid syntax (<ipython-input-6-ee518cad647c>, line 1)",
     "output_type": "error",
     "traceback": [
      "\u001b[1;36m  File \u001b[1;32m\"<ipython-input-6-ee518cad647c>\"\u001b[1;36m, line \u001b[1;32m1\u001b[0m\n\u001b[1;33m    3r\u001b[0m\n\u001b[1;37m     ^\u001b[0m\n\u001b[1;31mSyntaxError\u001b[0m\u001b[1;31m:\u001b[0m invalid syntax\n"
     ]
    }
   ],
   "source": [
    "3r"
   ]
  },
  {
   "cell_type": "code",
   "execution_count": 7,
   "id": "suspended-drove",
   "metadata": {},
   "outputs": [
    {
     "ename": "NameError",
     "evalue": "name '_d' is not defined",
     "output_type": "error",
     "traceback": [
      "\u001b[1;31m---------------------------------------------------------------------------\u001b[0m",
      "\u001b[1;31mNameError\u001b[0m                                 Traceback (most recent call last)",
      "\u001b[1;32m<ipython-input-7-2a0d662020c7>\u001b[0m in \u001b[0;36m<module>\u001b[1;34m\u001b[0m\n\u001b[1;32m----> 1\u001b[1;33m \u001b[0m_d\u001b[0m\u001b[1;33m\u001b[0m\u001b[1;33m\u001b[0m\u001b[0m\n\u001b[0m",
      "\u001b[1;31mNameError\u001b[0m: name '_d' is not defined"
     ]
    }
   ],
   "source": [
    "_d"
   ]
  },
  {
   "cell_type": "code",
   "execution_count": 8,
   "id": "spare-asset",
   "metadata": {},
   "outputs": [],
   "source": [
    "_d={}"
   ]
  },
  {
   "cell_type": "code",
   "execution_count": 9,
   "id": "functioning-niagara",
   "metadata": {},
   "outputs": [
    {
     "ename": "SyntaxError",
     "evalue": "invalid syntax (<ipython-input-9-b9bed0340522>, line 1)",
     "output_type": "error",
     "traceback": [
      "\u001b[1;36m  File \u001b[1;32m\"<ipython-input-9-b9bed0340522>\"\u001b[1;36m, line \u001b[1;32m1\u001b[0m\n\u001b[1;33m    4d={}\u001b[0m\n\u001b[1;37m     ^\u001b[0m\n\u001b[1;31mSyntaxError\u001b[0m\u001b[1;31m:\u001b[0m invalid syntax\n"
     ]
    }
   ],
   "source": [
    "4d={}"
   ]
  },
  {
   "cell_type": "code",
   "execution_count": 10,
   "id": "found-decade",
   "metadata": {},
   "outputs": [],
   "source": [
    "d=[]"
   ]
  },
  {
   "cell_type": "code",
   "execution_count": 12,
   "id": "scenic-syndication",
   "metadata": {},
   "outputs": [
    {
     "name": "stdout",
     "output_type": "stream",
     "text": [
      "3.0\n"
     ]
    }
   ],
   "source": [
    "print(float(3))"
   ]
  },
  {
   "cell_type": "code",
   "execution_count": 13,
   "id": "disabled-magic",
   "metadata": {},
   "outputs": [
    {
     "data": {
      "text/plain": [
       "'4'"
      ]
     },
     "execution_count": 13,
     "metadata": {},
     "output_type": "execute_result"
    }
   ],
   "source": [
    "str(4)"
   ]
  },
  {
   "cell_type": "code",
   "execution_count": 15,
   "id": "assured-robertson",
   "metadata": {},
   "outputs": [
    {
     "data": {
      "text/plain": [
       "'itnesh'"
      ]
     },
     "execution_count": 15,
     "metadata": {},
     "output_type": "execute_result"
    }
   ],
   "source": [
    "str(\"itnesh\")"
   ]
  },
  {
   "cell_type": "code",
   "execution_count": null,
   "id": "motivated-surgery",
   "metadata": {},
   "outputs": [],
   "source": []
  }
 ],
 "metadata": {
  "kernelspec": {
   "display_name": "Python 3",
   "language": "python",
   "name": "python3"
  },
  "language_info": {
   "codemirror_mode": {
    "name": "ipython",
    "version": 3
   },
   "file_extension": ".py",
   "mimetype": "text/x-python",
   "name": "python",
   "nbconvert_exporter": "python",
   "pygments_lexer": "ipython3",
   "version": "3.6.8"
  }
 },
 "nbformat": 4,
 "nbformat_minor": 5
}
