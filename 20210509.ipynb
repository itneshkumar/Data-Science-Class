{
 "cells": [
  {
   "cell_type": "code",
   "execution_count": 1,
   "id": "b5de98d5",
   "metadata": {},
   "outputs": [],
   "source": [
    "def __mul__(self, other):\n",
    "    return self.a*other.a\n"
   ]
  },
  {
   "cell_type": "code",
   "execution_count": 2,
   "id": "06b9e25d",
   "metadata": {},
   "outputs": [],
   "source": [
    "def test(a,b):\n",
    "    return a+b\n"
   ]
  },
  {
   "cell_type": "code",
   "execution_count": 3,
   "id": "95b2dca5",
   "metadata": {},
   "outputs": [
    {
     "name": "stdout",
     "output_type": "stream",
     "text": [
      "11\n"
     ]
    }
   ],
   "source": [
    "print(test(5,6))"
   ]
  },
  {
   "cell_type": "code",
   "execution_count": 4,
   "id": "620c269f",
   "metadata": {},
   "outputs": [
    {
     "name": "stdout",
     "output_type": "stream",
     "text": [
      "inesh  kumar\n"
     ]
    }
   ],
   "source": [
    "print(test('inesh ',' kumar'))"
   ]
  },
  {
   "cell_type": "code",
   "execution_count": 5,
   "id": "ae7592c6",
   "metadata": {},
   "outputs": [
    {
     "name": "stdout",
     "output_type": "stream",
     "text": [
      "[1, 4, 34, 6]\n"
     ]
    }
   ],
   "source": [
    "print(test([1,4],[34,6]))"
   ]
  },
  {
   "cell_type": "markdown",
   "id": "e3ebbddc",
   "metadata": {},
   "source": [
    "## Polymorphism"
   ]
  },
  {
   "cell_type": "code",
   "execution_count": 11,
   "id": "93fb9a16",
   "metadata": {},
   "outputs": [],
   "source": [
    "class ineuron:\n",
    "    def msg(self):\n",
    "        print('This from the msg from  ineuron')\n",
    "class xyz:\n",
    "    def msg(self):\n",
    "        print( 'This is msg from xyz')"
   ]
  },
  {
   "cell_type": "code",
   "execution_count": 12,
   "id": "5c629b4a",
   "metadata": {},
   "outputs": [],
   "source": [
    "def test(notes):\n",
    "    notes.msg()"
   ]
  },
  {
   "cell_type": "code",
   "execution_count": 13,
   "id": "cfea390a",
   "metadata": {},
   "outputs": [],
   "source": [
    "i=ineuron()\n",
    "x=xyz()"
   ]
  },
  {
   "cell_type": "code",
   "execution_count": 14,
   "id": "148f89c3",
   "metadata": {},
   "outputs": [
    {
     "name": "stdout",
     "output_type": "stream",
     "text": [
      "This is msg from xyz\n"
     ]
    }
   ],
   "source": [
    "test(x)"
   ]
  },
  {
   "cell_type": "code",
   "execution_count": 15,
   "id": "c2ecf04a",
   "metadata": {},
   "outputs": [
    {
     "name": "stdout",
     "output_type": "stream",
     "text": [
      "This from the msg from  ineuron\n"
     ]
    }
   ],
   "source": [
    "test(i)"
   ]
  },
  {
   "cell_type": "code",
   "execution_count": null,
   "id": "a04a0659",
   "metadata": {},
   "outputs": [],
   "source": []
  }
 ],
 "metadata": {
  "kernelspec": {
   "display_name": "Python 3",
   "language": "python",
   "name": "python3"
  },
  "language_info": {
   "codemirror_mode": {
    "name": "ipython",
    "version": 3
   },
   "file_extension": ".py",
   "mimetype": "text/x-python",
   "name": "python",
   "nbconvert_exporter": "python",
   "pygments_lexer": "ipython3",
   "version": "3.6.8"
  }
 },
 "nbformat": 4,
 "nbformat_minor": 5
}
