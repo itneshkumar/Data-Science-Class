{
 "cells": [
  {
   "cell_type": "code",
   "execution_count": 1,
   "id": "framed-bradley",
   "metadata": {},
   "outputs": [],
   "source": [
    "import os"
   ]
  },
  {
   "cell_type": "code",
   "execution_count": 2,
   "id": "rough-demonstration",
   "metadata": {},
   "outputs": [
    {
     "data": {
      "text/plain": [
       "'D:\\\\Data_science_class'"
      ]
     },
     "execution_count": 2,
     "metadata": {},
     "output_type": "execute_result"
    }
   ],
   "source": [
    "pwd()"
   ]
  },
  {
   "cell_type": "code",
   "execution_count": 3,
   "id": "secure-marketplace",
   "metadata": {},
   "outputs": [
    {
     "data": {
      "text/plain": [
       "'D:\\\\Data_science_class'"
      ]
     },
     "execution_count": 3,
     "metadata": {},
     "output_type": "execute_result"
    }
   ],
   "source": [
    "os.getcwd()"
   ]
  },
  {
   "cell_type": "code",
   "execution_count": 5,
   "id": "junior-correspondence",
   "metadata": {},
   "outputs": [
    {
     "data": {
      "text/plain": [
       "['.ipynb_checkpoints',\n",
       " 'addition.py',\n",
       " 'Assignment_1.docx',\n",
       " 'Assignment_2.docx',\n",
       " 'class function.ipynb',\n",
       " 'class function2.ipynb',\n",
       " 'class4.ipynb',\n",
       " 'dictionary.ipynb',\n",
       " 'function.ipynb',\n",
       " 'installation.ipynb',\n",
       " 'math_module.ipynb',\n",
       " 'New_folder_for_definition',\n",
       " 'opps.ipynb',\n",
       " 'os_module.ipynb',\n",
       " 'python basics.ipynb',\n",
       " 'string.ipynb',\n",
       " 'test.py',\n",
       " 'test5.py',\n",
       " 'test6.py',\n",
       " 'Tuple.ipynb',\n",
       " 'Untitled5.ipynb',\n",
       " 'while_loop.ipynb',\n",
       " '__pycache__']"
      ]
     },
     "execution_count": 5,
     "metadata": {},
     "output_type": "execute_result"
    }
   ],
   "source": [
    "os.listdir()"
   ]
  },
  {
   "cell_type": "code",
   "execution_count": 9,
   "id": "aerial-plane",
   "metadata": {},
   "outputs": [
    {
     "data": {
      "text/plain": [
       "['$RECYCLE.BIN',\n",
       " '10 Python Tips and Tricks For Writing Better Code - YouTube.mkv',\n",
       " 'API_Coding',\n",
       " 'Azure Full Course - Learn Microsoft Azure in 8 Hours - Azure Tutorial For Beginners - Edureka - YouTube.mkv',\n",
       " 'Big Data & Hadoop Full Course - Learn Hadoop In 10 Hours - Hadoop Tutorial For Beginners - Edureka - YouTube.mkv',\n",
       " 'C++_Naresh',\n",
       " 'Complete Life Cycle of a Data Science Project - YouTube.mkv',\n",
       " 'CSDojo',\n",
       " 'CS_Dojo',\n",
       " 'Dataquest_tutorial',\n",
       " 'Data_Analyst_codeBsics',\n",
       " 'Data_camp',\n",
       " 'Data_Structure by BinaryWebTechnology',\n",
       " 'Data_Structure_python_nptel',\n",
       " 'DS_for_Engg_NPTEL',\n",
       " 'Flask_Corey Shafer',\n",
       " 'Greeky_show_outlook,python,sql',\n",
       " 'Hadoop',\n",
       " 'Intoduction_Data_Analytics_NPTEL',\n",
       " 'Into_ML_NPTEL',\n",
       " 'Introduction_to_python_for _Data_science_NPLTEL',\n",
       " 'Java',\n",
       " 'Julia_JuanKolper',\n",
       " 'Krish Naik',\n",
       " 'MarinStats_Statistics',\n",
       " 'Mongodb',\n",
       " 'Node_JS_tutorial_website',\n",
       " 'Power BI Advanced Tutorial - YouTube.mkv',\n",
       " 'Practice',\n",
       " 'Project 1- Iron Man Jarvis AI Desktop Voice Assistant - Python Tutorials For Absolute Beginners #120 - YouTube.mkv',\n",
       " 'Python',\n",
       " 'Python Projects For Beginners - Python Projects Examples - Python Tutorial - Edureka - YouTube.mkv',\n",
       " 'pythonlearn.pdf',\n",
       " 'Python_Harsh',\n",
       " 'Python_Tutorial',\n",
       " 'redirector.googlevideo.com',\n",
       " 'R_CSGeeks',\n",
       " 'Satequest',\n",
       " 'sentdesk_machine learning',\n",
       " 'System Volume Information',\n",
       " 'Tablue',\n",
       " 'Tech_Tim',\n",
       " 'thinkCSpy.pdf',\n",
       " 'Watson_studio',\n",
       " 'webscrapig_buildwithpython']"
      ]
     },
     "execution_count": 9,
     "metadata": {},
     "output_type": "execute_result"
    }
   ],
   "source": [
    "os.listdir('E:/')"
   ]
  },
  {
   "cell_type": "code",
   "execution_count": 10,
   "id": "catholic-bones",
   "metadata": {},
   "outputs": [
    {
     "data": {
      "text/plain": [
       "'D:\\\\Data_science_class'"
      ]
     },
     "execution_count": 10,
     "metadata": {},
     "output_type": "execute_result"
    }
   ],
   "source": [
    "pwd()"
   ]
  },
  {
   "cell_type": "code",
   "execution_count": 11,
   "id": "optical-producer",
   "metadata": {},
   "outputs": [],
   "source": [
    "os.chdir('D:/')"
   ]
  },
  {
   "cell_type": "code",
   "execution_count": 12,
   "id": "cleared-choice",
   "metadata": {},
   "outputs": [
    {
     "data": {
      "text/plain": [
       "'D:\\\\'"
      ]
     },
     "execution_count": 12,
     "metadata": {},
     "output_type": "execute_result"
    }
   ],
   "source": [
    "pwd()"
   ]
  },
  {
   "cell_type": "code",
   "execution_count": 13,
   "id": "stainless-alloy",
   "metadata": {},
   "outputs": [],
   "source": [
    "os.chdir('D:\\\\Data_science_class')"
   ]
  },
  {
   "cell_type": "code",
   "execution_count": 14,
   "id": "frequent-grenada",
   "metadata": {},
   "outputs": [
    {
     "data": {
      "text/plain": [
       "'D:\\\\Data_science_class'"
      ]
     },
     "execution_count": 14,
     "metadata": {},
     "output_type": "execute_result"
    }
   ],
   "source": [
    "pwd()"
   ]
  },
  {
   "cell_type": "code",
   "execution_count": 15,
   "id": "southeast-dining",
   "metadata": {},
   "outputs": [],
   "source": [
    "os.mkdir('itnesh')"
   ]
  },
  {
   "cell_type": "code",
   "execution_count": 16,
   "id": "applied-dictionary",
   "metadata": {},
   "outputs": [
    {
     "data": {
      "text/plain": [
       "['.ipynb_checkpoints',\n",
       " 'addition.py',\n",
       " 'Assignment_1.docx',\n",
       " 'Assignment_2.docx',\n",
       " 'class function.ipynb',\n",
       " 'class function2.ipynb',\n",
       " 'class4.ipynb',\n",
       " 'dictionary.ipynb',\n",
       " 'function.ipynb',\n",
       " 'installation.ipynb',\n",
       " 'itnesh',\n",
       " 'math_module.ipynb',\n",
       " 'New_folder_for_definition',\n",
       " 'opps.ipynb',\n",
       " 'os_module.ipynb',\n",
       " 'python basics.ipynb',\n",
       " 'string.ipynb',\n",
       " 'test.py',\n",
       " 'test5.py',\n",
       " 'test6.py',\n",
       " 'Tuple.ipynb',\n",
       " 'Untitled5.ipynb',\n",
       " 'while_loop.ipynb',\n",
       " '__pycache__']"
      ]
     },
     "execution_count": 16,
     "metadata": {},
     "output_type": "execute_result"
    }
   ],
   "source": [
    "os.listdir()"
   ]
  },
  {
   "cell_type": "code",
   "execution_count": 19,
   "id": "intended-russian",
   "metadata": {},
   "outputs": [
    {
     "name": "stdout",
     "output_type": "stream",
     "text": [
      "no this is not present\n"
     ]
    }
   ],
   "source": [
    "if 'test.txt' in os.listdir():\n",
    "    print('yes present this file in this directory')\n",
    "else:\n",
    "    print('no this is not present')"
   ]
  },
  {
   "cell_type": "code",
   "execution_count": 21,
   "id": "becoming-dublin",
   "metadata": {},
   "outputs": [
    {
     "data": {
      "text/plain": [
       "['.ipynb_checkpoints',\n",
       " 'addition.py',\n",
       " 'Assignment_1.docx',\n",
       " 'Assignment_2.docx',\n",
       " 'class function.ipynb',\n",
       " 'class function2.ipynb',\n",
       " 'class4.ipynb',\n",
       " 'dictionary.ipynb',\n",
       " 'function.ipynb',\n",
       " 'installation.ipynb',\n",
       " 'itnesh',\n",
       " 'math_module.ipynb',\n",
       " 'New_folder_for_function_fileModule',\n",
       " 'opps.ipynb',\n",
       " 'os_module.ipynb',\n",
       " 'python basics.ipynb',\n",
       " 'string.ipynb',\n",
       " 'test.py',\n",
       " 'test5.py',\n",
       " 'test6.py',\n",
       " 'Tuple.ipynb',\n",
       " 'Untitled5.ipynb',\n",
       " 'while_loop.ipynb',\n",
       " '__pycache__']"
      ]
     },
     "execution_count": 21,
     "metadata": {},
     "output_type": "execute_result"
    }
   ],
   "source": [
    "os.listdir()"
   ]
  },
  {
   "cell_type": "code",
   "execution_count": 22,
   "id": "intended-airplane",
   "metadata": {},
   "outputs": [],
   "source": [
    "os.chdir('D:/Data_science_class/New_folder_for_function_fileModule')"
   ]
  },
  {
   "cell_type": "code",
   "execution_count": 23,
   "id": "familiar-morrison",
   "metadata": {},
   "outputs": [
    {
     "data": {
      "text/plain": [
       "'D:\\\\Data_science_class\\\\New_folder_for_function_fileModule'"
      ]
     },
     "execution_count": 23,
     "metadata": {},
     "output_type": "execute_result"
    }
   ],
   "source": [
    "pwd()"
   ]
  },
  {
   "cell_type": "code",
   "execution_count": 30,
   "id": "thirty-participant",
   "metadata": {},
   "outputs": [
    {
     "name": "stdout",
     "output_type": "stream",
     "text": [
      "yes it is present in this folder\n",
      "my name is itnesh kumar\n",
      "\n",
      "what is your name \n",
      "\n",
      "so i don't know \n",
      "\n",
      "what will i do\n",
      "\n",
      "what are you doingwhat are you doingwhat are you doing\n"
     ]
    }
   ],
   "source": [
    "if 'test.txt' in os.listdir():\n",
    "    print('yes it is present in this folder')\n",
    "    f=open('test.txt','r+')\n",
    "    for i in f:\n",
    "        print(i)\n",
    "else:\n",
    "    print('no, this is not present in this folder')"
   ]
  },
  {
   "cell_type": "code",
   "execution_count": 31,
   "id": "cooked-flavor",
   "metadata": {},
   "outputs": [],
   "source": [
    "os.mkdir('itne')"
   ]
  },
  {
   "cell_type": "code",
   "execution_count": 32,
   "id": "restricted-fence",
   "metadata": {},
   "outputs": [
    {
     "data": {
      "text/plain": [
       "['.ipynb_checkpoints',\n",
       " 'file_handling.ipynb',\n",
       " 'itne',\n",
       " 'myfile.txt',\n",
       " 'test.txt',\n",
       " 'test1.txt',\n",
       " 'test2.txt',\n",
       " 'test5.txt']"
      ]
     },
     "execution_count": 32,
     "metadata": {},
     "output_type": "execute_result"
    }
   ],
   "source": [
    "os.listdir()"
   ]
  },
  {
   "cell_type": "code",
   "execution_count": 33,
   "id": "binary-boundary",
   "metadata": {},
   "outputs": [
    {
     "ename": "FileExistsError",
     "evalue": "[WinError 183] Cannot create a file when that file already exists: 'itne'",
     "output_type": "error",
     "traceback": [
      "\u001b[1;31m---------------------------------------------------------------------------\u001b[0m",
      "\u001b[1;31mFileExistsError\u001b[0m                           Traceback (most recent call last)",
      "\u001b[1;32m<ipython-input-33-75f2ef1aa5d0>\u001b[0m in \u001b[0;36m<module>\u001b[1;34m\u001b[0m\n\u001b[1;32m----> 1\u001b[1;33m \u001b[0mos\u001b[0m\u001b[1;33m.\u001b[0m\u001b[0mmkdir\u001b[0m\u001b[1;33m(\u001b[0m\u001b[1;34m'itne'\u001b[0m\u001b[1;33m)\u001b[0m\u001b[1;33m\u001b[0m\u001b[1;33m\u001b[0m\u001b[0m\n\u001b[0m",
      "\u001b[1;31mFileExistsError\u001b[0m: [WinError 183] Cannot create a file when that file already exists: 'itne'"
     ]
    }
   ],
   "source": [
    "os.mkdir('itne')"
   ]
  },
  {
   "cell_type": "code",
   "execution_count": 34,
   "id": "rotary-council",
   "metadata": {},
   "outputs": [],
   "source": [
    "if not os.path.isdir('itne'):\n",
    "    os.mkdir('itne')"
   ]
  },
  {
   "cell_type": "code",
   "execution_count": 35,
   "id": "simplified-occupation",
   "metadata": {},
   "outputs": [],
   "source": [
    "os.rename('itne','itnesh')"
   ]
  },
  {
   "cell_type": "code",
   "execution_count": 37,
   "id": "starting-spirit",
   "metadata": {},
   "outputs": [
    {
     "data": {
      "text/plain": [
       "['.ipynb_checkpoints',\n",
       " 'file_handling.ipynb',\n",
       " 'itnesh',\n",
       " 'myfile.txt',\n",
       " 'test.txt',\n",
       " 'test1.txt',\n",
       " 'test2.txt',\n",
       " 'test5.txt']"
      ]
     },
     "execution_count": 37,
     "metadata": {},
     "output_type": "execute_result"
    }
   ],
   "source": [
    "os.listdir()"
   ]
  },
  {
   "cell_type": "code",
   "execution_count": 38,
   "id": "magnetic-parliament",
   "metadata": {},
   "outputs": [
    {
     "ename": "TypeError",
     "evalue": "rename() missing required argument 'dst' (pos 2)",
     "output_type": "error",
     "traceback": [
      "\u001b[1;31m---------------------------------------------------------------------------\u001b[0m",
      "\u001b[1;31mTypeError\u001b[0m                                 Traceback (most recent call last)",
      "\u001b[1;32m<ipython-input-38-bd1383aa23fa>\u001b[0m in \u001b[0;36m<module>\u001b[1;34m\u001b[0m\n\u001b[1;32m----> 1\u001b[1;33m \u001b[0mos\u001b[0m\u001b[1;33m.\u001b[0m\u001b[0mrename\u001b[0m\u001b[1;33m(\u001b[0m\u001b[1;34m'test.txt'\u001b[0m\u001b[1;33m)\u001b[0m\u001b[1;33m\u001b[0m\u001b[1;33m\u001b[0m\u001b[0m\n\u001b[0m",
      "\u001b[1;31mTypeError\u001b[0m: rename() missing required argument 'dst' (pos 2)"
     ]
    }
   ],
   "source": [
    "os.rename('test.txt')"
   ]
  },
  {
   "cell_type": "code",
   "execution_count": 39,
   "id": "alive-copper",
   "metadata": {},
   "outputs": [],
   "source": [
    "f=open('test.txt','r+')\n",
    "f.close()"
   ]
  },
  {
   "cell_type": "code",
   "execution_count": 41,
   "id": "ordinary-commodity",
   "metadata": {},
   "outputs": [],
   "source": [
    "os.rename('test.txt','main.txt')"
   ]
  },
  {
   "cell_type": "code",
   "execution_count": 42,
   "id": "imposed-contract",
   "metadata": {},
   "outputs": [
    {
     "data": {
      "text/plain": [
       "['.ipynb_checkpoints',\n",
       " 'file_handling.ipynb',\n",
       " 'itnesh',\n",
       " 'main.txt',\n",
       " 'myfile.txt',\n",
       " 'test1.txt',\n",
       " 'test2.txt',\n",
       " 'test5.txt']"
      ]
     },
     "execution_count": 42,
     "metadata": {},
     "output_type": "execute_result"
    }
   ],
   "source": [
    "os.listdir()"
   ]
  },
  {
   "cell_type": "code",
   "execution_count": 43,
   "id": "physical-health",
   "metadata": {},
   "outputs": [],
   "source": [
    "os.rmdir('itnesh')"
   ]
  },
  {
   "cell_type": "code",
   "execution_count": 44,
   "id": "mineral-politics",
   "metadata": {},
   "outputs": [
    {
     "data": {
      "text/plain": [
       "['.ipynb_checkpoints',\n",
       " 'file_handling.ipynb',\n",
       " 'main.txt',\n",
       " 'myfile.txt',\n",
       " 'test1.txt',\n",
       " 'test2.txt',\n",
       " 'test5.txt']"
      ]
     },
     "execution_count": 44,
     "metadata": {},
     "output_type": "execute_result"
    }
   ],
   "source": [
    "os.listdir()"
   ]
  },
  {
   "cell_type": "code",
   "execution_count": 65,
   "id": "imposed-medicine",
   "metadata": {},
   "outputs": [],
   "source": [
    "import shutil"
   ]
  },
  {
   "cell_type": "code",
   "execution_count": 66,
   "id": "capable-catch",
   "metadata": {},
   "outputs": [
    {
     "data": {
      "text/plain": [
       "'D:\\\\Data_science_class'"
      ]
     },
     "execution_count": 66,
     "metadata": {},
     "output_type": "execute_result"
    }
   ],
   "source": [
    "pwd()"
   ]
  },
  {
   "cell_type": "code",
   "execution_count": 57,
   "id": "consistent-discrimination",
   "metadata": {},
   "outputs": [],
   "source": [
    "os.chdir('D:/Data_science_class')"
   ]
  },
  {
   "cell_type": "code",
   "execution_count": 67,
   "id": "gentle-virus",
   "metadata": {},
   "outputs": [
    {
     "data": {
      "text/plain": [
       "'D:/File_Done\\\\New_folder_for_function_fileModule'"
      ]
     },
     "execution_count": 67,
     "metadata": {},
     "output_type": "execute_result"
    }
   ],
   "source": [
    "shutil.move('D:/Data_science_class/New_folder_for_function_fileModule','D:/File_Done')"
   ]
  },
  {
   "cell_type": "code",
   "execution_count": 68,
   "id": "loose-tribute",
   "metadata": {},
   "outputs": [],
   "source": [
    "os.mkdir('task.os')"
   ]
  },
  {
   "cell_type": "code",
   "execution_count": 1,
   "id": "interstate-dayton",
   "metadata": {},
   "outputs": [
    {
     "name": "stdout",
     "output_type": "stream",
     "text": [
      "enter your datai am good boy\n",
      "enter your datai am good boy\n",
      "enter your datai am not affa\n",
      "enter your datai\n",
      "enter your dataf\n",
      "enter your datag\n",
      "enter your datad\n",
      "enter your datas\n",
      "enter your datat\n",
      "enter your datah\n"
     ]
    }
   ],
   "source": [
    "for i in range(10):\n",
    "    a=input('enter your data')\n",
    "    f=open('test(i).txt','w+')\n",
    "    f.write('a')\n",
    "    f.close()"
   ]
  },
  {
   "cell_type": "code",
   "execution_count": 2,
   "id": "invisible-substance",
   "metadata": {},
   "outputs": [
    {
     "ename": "NameError",
     "evalue": "name 'os' is not defined",
     "output_type": "error",
     "traceback": [
      "\u001b[1;31m---------------------------------------------------------------------------\u001b[0m",
      "\u001b[1;31mNameError\u001b[0m                                 Traceback (most recent call last)",
      "\u001b[1;32m<ipython-input-2-1b798660c993>\u001b[0m in \u001b[0;36m<module>\u001b[1;34m\u001b[0m\n\u001b[1;32m----> 1\u001b[1;33m \u001b[0mos\u001b[0m\u001b[1;33m.\u001b[0m\u001b[0mdir\u001b[0m\u001b[1;33m(\u001b[0m\u001b[1;33m)\u001b[0m\u001b[1;33m\u001b[0m\u001b[1;33m\u001b[0m\u001b[0m\n\u001b[0m",
      "\u001b[1;31mNameError\u001b[0m: name 'os' is not defined"
     ]
    }
   ],
   "source": [
    "os.dir()"
   ]
  },
  {
   "cell_type": "code",
   "execution_count": 1,
   "id": "graduate-visit",
   "metadata": {},
   "outputs": [
    {
     "data": {
      "text/plain": [
       "'D:\\\\Data_science_class'"
      ]
     },
     "execution_count": 1,
     "metadata": {},
     "output_type": "execute_result"
    }
   ],
   "source": [
    "pwd()"
   ]
  },
  {
   "cell_type": "code",
   "execution_count": 4,
   "id": "normal-terminology",
   "metadata": {},
   "outputs": [
    {
     "ename": "NameError",
     "evalue": "name 'os' is not defined",
     "output_type": "error",
     "traceback": [
      "\u001b[1;31m---------------------------------------------------------------------------\u001b[0m",
      "\u001b[1;31mNameError\u001b[0m                                 Traceback (most recent call last)",
      "\u001b[1;32m<ipython-input-4-a22f6bd42c38>\u001b[0m in \u001b[0;36m<module>\u001b[1;34m\u001b[0m\n\u001b[1;32m----> 1\u001b[1;33m \u001b[0mos\u001b[0m\u001b[1;33m.\u001b[0m\u001b[0mchdir\u001b[0m\u001b[1;33m(\u001b[0m\u001b[1;34m'D:/Data_science_class/task'\u001b[0m\u001b[1;33m)\u001b[0m\u001b[1;33m\u001b[0m\u001b[1;33m\u001b[0m\u001b[0m\n\u001b[0m",
      "\u001b[1;31mNameError\u001b[0m: name 'os' is not defined"
     ]
    }
   ],
   "source": [
    "os.chdir('D:/Data_science_class/task')"
   ]
  },
  {
   "cell_type": "code",
   "execution_count": 3,
   "id": "scenic-sauce",
   "metadata": {},
   "outputs": [
    {
     "data": {
      "text/plain": [
       "'D:\\\\Data_science_class'"
      ]
     },
     "execution_count": 3,
     "metadata": {},
     "output_type": "execute_result"
    }
   ],
   "source": [
    "pwd()"
   ]
  },
  {
   "cell_type": "code",
   "execution_count": null,
   "id": "constitutional-tension",
   "metadata": {},
   "outputs": [],
   "source": []
  }
 ],
 "metadata": {
  "kernelspec": {
   "display_name": "Python 3",
   "language": "python",
   "name": "python3"
  },
  "language_info": {
   "codemirror_mode": {
    "name": "ipython",
    "version": 3
   },
   "file_extension": ".py",
   "mimetype": "text/x-python",
   "name": "python",
   "nbconvert_exporter": "python",
   "pygments_lexer": "ipython3",
   "version": "3.8.5"
  }
 },
 "nbformat": 4,
 "nbformat_minor": 5
}
