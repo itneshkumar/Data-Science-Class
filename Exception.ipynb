{
 "cells": [
  {
   "cell_type": "code",
   "execution_count": 1,
   "id": "05b573f3",
   "metadata": {},
   "outputs": [
    {
     "ename": "SyntaxError",
     "evalue": "EOL while scanning string literal (<ipython-input-1-b2cc62951a7c>, line 1)",
     "output_type": "error",
     "traceback": [
      "\u001b[1;36m  File \u001b[1;32m\"<ipython-input-1-b2cc62951a7c>\"\u001b[1;36m, line \u001b[1;32m1\u001b[0m\n\u001b[1;33m    print(\"fljsdldskj)\u001b[0m\n\u001b[1;37m                      ^\u001b[0m\n\u001b[1;31mSyntaxError\u001b[0m\u001b[1;31m:\u001b[0m EOL while scanning string literal\n"
     ]
    }
   ],
   "source": [
    "print(\"fljsdldskj)"
   ]
  },
  {
   "cell_type": "code",
   "execution_count": null,
   "id": "9194ba75",
   "metadata": {},
   "outputs": [],
   "source": [
    "#compile time error\n",
    "#syntatical error"
   ]
  },
  {
   "cell_type": "code",
   "execution_count": null,
   "id": "818107df",
   "metadata": {},
   "outputs": [],
   "source": [
    "def test(a,b):\n",
    "    return a/b\n"
   ]
  },
  {
   "cell_type": "code",
   "execution_count": null,
   "id": "763220f9",
   "metadata": {},
   "outputs": [],
   "source": [
    "test(5,0)"
   ]
  },
  {
   "cell_type": "code",
   "execution_count": null,
   "id": "7b092822",
   "metadata": {},
   "outputs": [],
   "source": [
    "# run time error\n",
    "# my system is not able to run this input\n",
    "# it will create the hindrence so i will create to new things there i can handle ?"
   ]
  },
  {
   "cell_type": "code",
   "execution_count": null,
   "id": "4a2808e1",
   "metadata": {},
   "outputs": [],
   "source": [
    "test(3,5)"
   ]
  },
  {
   "cell_type": "code",
   "execution_count": null,
   "id": "a5029c3f",
   "metadata": {},
   "outputs": [],
   "source": [
    "a=open('test.text', 'r')"
   ]
  },
  {
   "cell_type": "code",
   "execution_count": null,
   "id": "be8d1202",
   "metadata": {},
   "outputs": [],
   "source": [
    "try :\n",
    "    a=open('test.text', 'r\n",
    "except:\n",
    "    pass"
   ]
  },
  {
   "cell_type": "code",
   "execution_count": null,
   "id": "19f05f2a",
   "metadata": {},
   "outputs": [],
   "source": [
    "# we cab only run time error hundle by the try and exception\n",
    "# do not handle any syntacialy error"
   ]
  },
  {
   "cell_type": "code",
   "execution_count": null,
   "id": "38f78ed4",
   "metadata": {},
   "outputs": [],
   "source": [
    "try :\n",
    "    a=open(\"test.text\", \"r\")\n",
    "except:\n",
    "    print('some issue in my code ')"
   ]
  },
  {
   "cell_type": "code",
   "execution_count": null,
   "id": "e53ad0fc",
   "metadata": {},
   "outputs": [],
   "source": [
    "try :\n",
    "    a=open(\"test.text\", \"r\")\n",
    "except IOError:\n",
    "    print('some issue in my code ')"
   ]
  },
  {
   "cell_type": "code",
   "execution_count": null,
   "id": "38f8bfa5",
   "metadata": {},
   "outputs": [],
   "source": [
    "#input output error"
   ]
  },
  {
   "cell_type": "code",
   "execution_count": 2,
   "id": "622fe5ce",
   "metadata": {},
   "outputs": [
    {
     "ename": "ZeroDivisionError",
     "evalue": "division by zero",
     "output_type": "error",
     "traceback": [
      "\u001b[1;31m---------------------------------------------------------------------------\u001b[0m",
      "\u001b[1;31mZeroDivisionError\u001b[0m                         Traceback (most recent call last)",
      "\u001b[1;32m<ipython-input-2-e1c87b327faf>\u001b[0m in \u001b[0;36m<module>\u001b[1;34m\u001b[0m\n\u001b[0;32m      1\u001b[0m \u001b[1;32mtry\u001b[0m \u001b[1;33m:\u001b[0m\u001b[1;33m\u001b[0m\u001b[1;33m\u001b[0m\u001b[0m\n\u001b[1;32m----> 2\u001b[1;33m     \u001b[0ma\u001b[0m\u001b[1;33m=\u001b[0m\u001b[1;36m5\u001b[0m\u001b[1;33m/\u001b[0m\u001b[1;36m0\u001b[0m\u001b[1;33m\u001b[0m\u001b[1;33m\u001b[0m\u001b[0m\n\u001b[0m\u001b[0;32m      3\u001b[0m \u001b[1;32mexcept\u001b[0m \u001b[0mIOError\u001b[0m\u001b[1;33m:\u001b[0m\u001b[1;33m\u001b[0m\u001b[1;33m\u001b[0m\u001b[0m\n\u001b[0;32m      4\u001b[0m     \u001b[0mprint\u001b[0m\u001b[1;33m(\u001b[0m\u001b[1;34m'some issue in my code '\u001b[0m\u001b[1;33m)\u001b[0m\u001b[1;33m\u001b[0m\u001b[1;33m\u001b[0m\u001b[0m\n",
      "\u001b[1;31mZeroDivisionError\u001b[0m: division by zero"
     ]
    }
   ],
   "source": [
    "try :\n",
    "    a=5/0\n",
    "except IOError:\n",
    "    print('some issue in my code ')"
   ]
  },
  {
   "cell_type": "code",
   "execution_count": null,
   "id": "7b99ef98",
   "metadata": {},
   "outputs": [],
   "source": [
    "#Its a arithmetic error"
   ]
  },
  {
   "cell_type": "code",
   "execution_count": null,
   "id": "aa75ba1f",
   "metadata": {},
   "outputs": [],
   "source": [
    "try :\n",
    "    a=5/0\n",
    "except ArithmeticError:\n",
    "    print('some issue in my code ')"
   ]
  },
  {
   "cell_type": "code",
   "execution_count": null,
   "id": "ebf10d8a",
   "metadata": {},
   "outputs": [],
   "source": [
    "#by this only defining the name means calling the particular error module in exception handling"
   ]
  },
  {
   "cell_type": "code",
   "execution_count": null,
   "id": "ae8b2fbe",
   "metadata": {},
   "outputs": [],
   "source": [
    "# lets alias the my module and try to print \n",
    "try :\n",
    "    a=5/0\n",
    "except ArithmeticError as e:\n",
    "    print('some issue in my code ', e)"
   ]
  },
  {
   "cell_type": "code",
   "execution_count": null,
   "id": "8a3f1f10",
   "metadata": {},
   "outputs": [],
   "source": [
    "try :\n",
    "    a=5/4\n",
    "except ArithmeticError as e:\n",
    "    print('some issue in my code ', e)\n",
    "else:\n",
    "    print('else statement only print when try succes')"
   ]
  },
  {
   "cell_type": "code",
   "execution_count": null,
   "id": "dbc3fe4a",
   "metadata": {},
   "outputs": [],
   "source": [
    "try :\n",
    "    a=5/4\n",
    "except ArithmeticError as e:\n",
    "    print('some issue in my code ', e)\n",
    "else:\n",
    "    print('else statement only print when try succes')\n",
    "    f=open('test.txt','r')"
   ]
  },
  {
   "cell_type": "code",
   "execution_count": null,
   "id": "59cb9684",
   "metadata": {},
   "outputs": [],
   "source": [
    "try :\n",
    "    a=5/4\n",
    "except ArithmeticError as e:\n",
    "    print('some issue in my code ', e)\n",
    "else:\n",
    "    print('else statement only print when try succes')\n",
    "    try:\n",
    "        f=open('test.txt','r')\n",
    "    except:\n",
    "        print('there is issue with internal try block')"
   ]
  },
  {
   "cell_type": "code",
   "execution_count": null,
   "id": "0cd2276c",
   "metadata": {},
   "outputs": [],
   "source": [
    "try :\n",
    "    a=5/0\n",
    "except ArithmeticError as e:\n",
    "    print('some issue in my code ', e)\n",
    "    f=open('test.txt','w')\n",
    "else:\n",
    "    print('else statement only print when try succes')\n",
    "    try:\n",
    "        f=open('test.txt','r')\n",
    "    except:\n",
    "        print('there is issue with internal try block')"
   ]
  },
  {
   "cell_type": "code",
   "execution_count": null,
   "id": "71e5e809",
   "metadata": {},
   "outputs": [],
   "source": [
    "# why do i not getting any error just because of if you open up any file in write mode it will automaticaly create the file if no present"
   ]
  },
  {
   "cell_type": "code",
   "execution_count": 3,
   "id": "94078f07",
   "metadata": {},
   "outputs": [
    {
     "name": "stdout",
     "output_type": "stream",
     "text": [
      "enter the first number4\n",
      "enter the second number5\n",
      "else statement only print when try succes\n"
     ]
    }
   ],
   "source": [
    "try :\n",
    "    a=int(input('enter the first number'))\n",
    "    b=int(input('enter the second number'))\n",
    "    c=a/b    \n",
    "except ArithmeticError as e:\n",
    "    print('some issue in my code ', e)\n",
    "    f=open('test.txt','w')\n",
    "else:\n",
    "    print('else statement only print when try succes')\n",
    "    try:\n",
    "        f=open('test.txt','r')\n",
    "    except:\n",
    "        print('there is issue with internal try block')"
   ]
  },
  {
   "cell_type": "code",
   "execution_count": 4,
   "id": "6d658239",
   "metadata": {},
   "outputs": [
    {
     "name": "stdout",
     "output_type": "stream",
     "text": [
      "enter the first number5\n",
      "enter the second number0\n",
      "some issue in my code  division by zero\n"
     ]
    }
   ],
   "source": [
    "try :\n",
    "    a=int(input('enter the first number'))\n",
    "    b=int(input('enter the second number'))\n",
    "    c=a/b    \n",
    "except ArithmeticError as e:\n",
    "    print('some issue in my code ', e)\n",
    "    f=open('test.txt','w')\n",
    "else:\n",
    "    print('else statement only print when try succes')\n",
    "    try:\n",
    "        f=open('test.txt','r')\n",
    "    except:\n",
    "        print('there is issue with internal try block')"
   ]
  },
  {
   "cell_type": "code",
   "execution_count": 7,
   "id": "e880e242",
   "metadata": {},
   "outputs": [
    {
     "ename": "IndexError",
     "evalue": "list index out of range",
     "output_type": "error",
     "traceback": [
      "\u001b[1;31m---------------------------------------------------------------------------\u001b[0m",
      "\u001b[1;31mIndexError\u001b[0m                                Traceback (most recent call last)",
      "\u001b[1;32m<ipython-input-7-a678a8991715>\u001b[0m in \u001b[0;36m<module>\u001b[1;34m\u001b[0m\n\u001b[0;32m      1\u001b[0m \u001b[0ml\u001b[0m\u001b[1;33m=\u001b[0m\u001b[1;33m[\u001b[0m\u001b[1;36m3\u001b[0m\u001b[1;33m,\u001b[0m\u001b[1;36m4\u001b[0m\u001b[1;33m,\u001b[0m\u001b[1;36m5\u001b[0m\u001b[1;33m,\u001b[0m\u001b[1;36m6\u001b[0m\u001b[1;33m]\u001b[0m\u001b[1;33m\u001b[0m\u001b[1;33m\u001b[0m\u001b[0m\n\u001b[1;32m----> 2\u001b[1;33m \u001b[0mprint\u001b[0m\u001b[1;33m(\u001b[0m\u001b[0ml\u001b[0m\u001b[1;33m[\u001b[0m\u001b[1;36m50\u001b[0m\u001b[1;33m]\u001b[0m\u001b[1;33m)\u001b[0m\u001b[1;33m\u001b[0m\u001b[1;33m\u001b[0m\u001b[0m\n\u001b[0m",
      "\u001b[1;31mIndexError\u001b[0m: list index out of range"
     ]
    }
   ],
   "source": [
    "l=[3,4,5,6]\n",
    "print(l[50])\n"
   ]
  },
  {
   "cell_type": "code",
   "execution_count": 9,
   "id": "fd53bed3",
   "metadata": {},
   "outputs": [
    {
     "ename": "IndexError",
     "evalue": "list index out of range",
     "output_type": "error",
     "traceback": [
      "\u001b[1;31m---------------------------------------------------------------------------\u001b[0m",
      "\u001b[1;31mIndexError\u001b[0m                                Traceback (most recent call last)",
      "\u001b[1;32m<ipython-input-9-279b58b8c1a8>\u001b[0m in \u001b[0;36m<module>\u001b[1;34m\u001b[0m\n\u001b[0;32m      1\u001b[0m \u001b[0ml\u001b[0m\u001b[1;33m=\u001b[0m\u001b[1;33m[\u001b[0m\u001b[1;36m3\u001b[0m\u001b[1;33m,\u001b[0m\u001b[1;36m4\u001b[0m\u001b[1;33m,\u001b[0m\u001b[1;36m5\u001b[0m\u001b[1;33m,\u001b[0m\u001b[1;36m6\u001b[0m\u001b[1;33m]\u001b[0m\u001b[1;33m\u001b[0m\u001b[1;33m\u001b[0m\u001b[0m\n\u001b[1;32m----> 2\u001b[1;33m \u001b[0mprint\u001b[0m\u001b[1;33m(\u001b[0m\u001b[0ml\u001b[0m\u001b[1;33m[\u001b[0m\u001b[1;36m50\u001b[0m\u001b[1;33m]\u001b[0m\u001b[1;33m)\u001b[0m\u001b[1;33m\u001b[0m\u001b[1;33m\u001b[0m\u001b[0m\n\u001b[0m\u001b[0;32m      3\u001b[0m \u001b[0mt\u001b[0m\u001b[1;33m=\u001b[0m\u001b[1;33m(\u001b[0m\u001b[1;36m3\u001b[0m\u001b[1;33m,\u001b[0m\u001b[1;36m5\u001b[0m\u001b[1;33m,\u001b[0m\u001b[1;36m6\u001b[0m\u001b[1;33m,\u001b[0m\u001b[1;36m77\u001b[0m\u001b[1;33m,\u001b[0m\u001b[1;36m6\u001b[0m\u001b[1;33m)\u001b[0m\u001b[1;33m\u001b[0m\u001b[1;33m\u001b[0m\u001b[0m\n\u001b[0;32m      4\u001b[0m \u001b[0mprint\u001b[0m\u001b[1;33m(\u001b[0m\u001b[0mt\u001b[0m\u001b[1;33m)\u001b[0m\u001b[1;33m\u001b[0m\u001b[1;33m\u001b[0m\u001b[0m\n",
      "\u001b[1;31mIndexError\u001b[0m: list index out of range"
     ]
    }
   ],
   "source": [
    "l=[3,4,5,6]\n",
    "print(l[50])\n",
    "t=(3,5,6,77,6)\n",
    "print(t)"
   ]
  },
  {
   "cell_type": "code",
   "execution_count": 11,
   "id": "4b117cf6",
   "metadata": {},
   "outputs": [
    {
     "name": "stdout",
     "output_type": "stream",
     "text": [
      "there is some issue related with my code\n",
      "(3, 5, 6, 77, 6)\n"
     ]
    }
   ],
   "source": [
    "try:\n",
    "    l=[3,4,5,6]\n",
    "    print(l[50])\n",
    "except:\n",
    "    print('there is some issue related with my code')\n",
    "    t=(3,5,6,77,6)\n",
    "    print(t)\n",
    "else:\n",
    "    print('there is no any issue with my code')"
   ]
  },
  {
   "cell_type": "code",
   "execution_count": null,
   "id": "4bb90700",
   "metadata": {},
   "outputs": [],
   "source": []
  }
 ],
 "metadata": {
  "kernelspec": {
   "display_name": "Python 3",
   "language": "python",
   "name": "python3"
  },
  "language_info": {
   "codemirror_mode": {
    "name": "ipython",
    "version": 3
   },
   "file_extension": ".py",
   "mimetype": "text/x-python",
   "name": "python",
   "nbconvert_exporter": "python",
   "pygments_lexer": "ipython3",
   "version": "3.6.8"
  }
 },
 "nbformat": 4,
 "nbformat_minor": 5
}
