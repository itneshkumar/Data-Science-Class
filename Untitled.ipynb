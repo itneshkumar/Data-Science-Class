{
 "cells": [
  {
   "cell_type": "code",
   "execution_count": null,
   "metadata": {},
   "outputs": [],
   "source": [
    "def math_operation():\n",
    "    if (request.method=='POST'):\n",
    "        operation=request.form['operation']\n",
    "        num1=int(request.form['num1'])\n",
    "        num2 = int(request.form['num2'])\n",
    "        if(operation=='add'):\n",
    "            r=num1+num2\n",
    "            result= 'the sum of '+str(num1)+' and '+str(num2) +' is '+str(r)\n",
    "        if (operation == 'subtract'):\n",
    "            r = num1 - num2\n",
    "            result = 'the difference of ' + str(num1) + ' and ' + str(num2) + ' is ' + str(r)\n",
    "        if (operation == 'multiply'):\n",
    "            r = num1 * num2\n",
    "            result = 'the product of ' + str(num1) + ' and ' + str(num2) + ' is ' + str(r)\n",
    "        if (operation == 'divide'):\n",
    "            r = num1 / num2\n",
    "            result = 'the quotient when ' + str(num1) + ' is divided by ' + str(num2) + ' is ' + str(r)\n",
    "        return render_template('results.html',result=result)"
   ]
  }
 ],
 "metadata": {
  "kernelspec": {
   "display_name": "Python 3",
   "language": "python",
   "name": "python3"
  },
  "language_info": {
   "codemirror_mode": {
    "name": "ipython",
    "version": 3
   },
   "file_extension": ".py",
   "mimetype": "text/x-python",
   "name": "python",
   "nbconvert_exporter": "python",
   "pygments_lexer": "ipython3",
   "version": "3.8.5"
  }
 },
 "nbformat": 4,
 "nbformat_minor": 5
}
