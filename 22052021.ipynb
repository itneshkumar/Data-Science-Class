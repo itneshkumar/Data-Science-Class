{
 "cells": [
  {
   "cell_type": "code",
   "execution_count": 1,
   "id": "932fa9c5",
   "metadata": {},
   "outputs": [
    {
     "name": "stdout",
     "output_type": "stream",
     "text": [
      "Collecting cassandra-driver\n",
      "  Downloading cassandra_driver-3.25.0-cp36-cp36m-win_amd64.whl (2.7 MB)\n",
      "Collecting geomet<0.3,>=0.1\n",
      "  Downloading geomet-0.2.1.post1-py3-none-any.whl (18 kB)\n",
      "Requirement already satisfied: six>=1.9 in c:\\users\\itnes\\appdata\\local\\programs\\python\\python36\\lib\\site-packages (from cassandra-driver) (1.15.0)\n",
      "Collecting click\n",
      "  Downloading click-8.0.1-py3-none-any.whl (97 kB)\n",
      "Requirement already satisfied: importlib-metadata in c:\\users\\itnes\\appdata\\local\\programs\\python\\python36\\lib\\site-packages (from click->geomet<0.3,>=0.1->cassandra-driver) (4.0.1)\n",
      "Requirement already satisfied: colorama in c:\\users\\itnes\\appdata\\local\\programs\\python\\python36\\lib\\site-packages (from click->geomet<0.3,>=0.1->cassandra-driver) (0.4.4)\n",
      "Requirement already satisfied: zipp>=0.5 in c:\\users\\itnes\\appdata\\local\\programs\\python\\python36\\lib\\site-packages (from importlib-metadata->click->geomet<0.3,>=0.1->cassandra-driver) (3.4.1)\n",
      "Requirement already satisfied: typing-extensions>=3.6.4 in c:\\users\\itnes\\appdata\\local\\programs\\python\\python36\\lib\\site-packages (from importlib-metadata->click->geomet<0.3,>=0.1->cassandra-driver) (3.10.0.0)\n",
      "Installing collected packages: click, geomet, cassandra-driver\n",
      "Successfully installed cassandra-driver-3.25.0 click-8.0.1 geomet-0.2.1.post1\n",
      "Note: you may need to restart the kernel to use updated packages.\n"
     ]
    }
   ],
   "source": [
    "pip install cassandra-driver"
   ]
  },
  {
   "cell_type": "code",
   "execution_count": null,
   "id": "1c9b9693",
   "metadata": {},
   "outputs": [],
   "source": []
  }
 ],
 "metadata": {
  "kernelspec": {
   "display_name": "Python 3",
   "language": "python",
   "name": "python3"
  },
  "language_info": {
   "codemirror_mode": {
    "name": "ipython",
    "version": 3
   },
   "file_extension": ".py",
   "mimetype": "text/x-python",
   "name": "python",
   "nbconvert_exporter": "python",
   "pygments_lexer": "ipython3",
   "version": "3.6.8"
  }
 },
 "nbformat": 4,
 "nbformat_minor": 5
}
