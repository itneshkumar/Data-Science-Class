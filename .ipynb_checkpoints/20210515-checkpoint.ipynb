{
 "cells": [
  {
   "cell_type": "code",
   "execution_count": 1,
   "id": "3198fe05",
   "metadata": {},
   "outputs": [
    {
     "name": "stdout",
     "output_type": "stream",
     "text": [
      "Requirement already satisfied: mysql-connector-python in c:\\users\\itnes\\appdata\\local\\programs\\python\\python36\\lib\\site-packages (8.0.24)\n",
      "Collecting protobuf>=3.0.0\n",
      "  Downloading protobuf-3.17.0-cp36-cp36m-win_amd64.whl (909 kB)\n",
      "Requirement already satisfied: six>=1.9 in c:\\users\\itnes\\appdata\\local\\programs\\python\\python36\\lib\\site-packages (from protobuf>=3.0.0->mysql-connector-python) (1.15.0)\n",
      "Installing collected packages: protobuf\n",
      "Successfully installed protobuf-3.17.0\n"
     ]
    }
   ],
   "source": [
    "!pip install mysql-connector-python\n"
   ]
  },
  {
   "cell_type": "code",
   "execution_count": 3,
   "id": "a794c18b",
   "metadata": {},
   "outputs": [],
   "source": [
    "import mysql.connector as connection"
   ]
  },
  {
   "cell_type": "code",
   "execution_count": 6,
   "id": "8fc33137",
   "metadata": {},
   "outputs": [
    {
     "name": "stdout",
     "output_type": "stream",
     "text": [
      "[('information_schema',), ('mysql',), ('performance_schema',), ('sakila',), ('sys',), ('world',)]\n"
     ]
    }
   ],
   "source": [
    "try:\n",
    "    mydb=connection.connect(host='localhost',user='root',passwd='mysql',use_pure=True)\n",
    "    #check if the connection is established\n",
    "    query='SHOW DATABASES'\n",
    "    cursor=mydb.cursor()# create the cursor to execute queries\n",
    "    cursor.execute(query)\n",
    "    print(cursor.fetchall())\n",
    "except Exception as e:\n",
    "    mydb.close()\n",
    "    print(str(e))"
   ]
  },
  {
   "cell_type": "code",
   "execution_count": 11,
   "id": "f63e769d",
   "metadata": {},
   "outputs": [],
   "source": [
    "conn=connection.connect(host='localhost',user='root',passwd='mysql',use_pure=True)"
   ]
  },
  {
   "cell_type": "code",
   "execution_count": null,
   "id": "7c5d8d9d",
   "metadata": {},
   "outputs": [],
   "source": [
    "conn."
   ]
  }
 ],
 "metadata": {
  "kernelspec": {
   "display_name": "Python 3",
   "language": "python",
   "name": "python3"
  },
  "language_info": {
   "codemirror_mode": {
    "name": "ipython",
    "version": 3
   },
   "file_extension": ".py",
   "mimetype": "text/x-python",
   "name": "python",
   "nbconvert_exporter": "python",
   "pygments_lexer": "ipython3",
   "version": "3.6.8"
  }
 },
 "nbformat": 4,
 "nbformat_minor": 5
}
