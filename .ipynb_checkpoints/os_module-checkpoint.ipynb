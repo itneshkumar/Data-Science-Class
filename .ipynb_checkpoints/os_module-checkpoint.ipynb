{
 "cells": [
  {
   "cell_type": "code",
   "execution_count": 1,
   "id": "silent-senator",
   "metadata": {},
   "outputs": [],
   "source": [
    "import os"
   ]
  },
  {
   "cell_type": "code",
   "execution_count": 2,
   "id": "eight-garbage",
   "metadata": {},
   "outputs": [
    {
     "data": {
      "text/plain": [
       "'D:\\\\Data_science_class'"
      ]
     },
     "execution_count": 2,
     "metadata": {},
     "output_type": "execute_result"
    }
   ],
   "source": [
    "pwd()"
   ]
  },
  {
   "cell_type": "code",
   "execution_count": 3,
   "id": "flying-cathedral",
   "metadata": {},
   "outputs": [
    {
     "data": {
      "text/plain": [
       "'D:\\\\Data_science_class'"
      ]
     },
     "execution_count": 3,
     "metadata": {},
     "output_type": "execute_result"
    }
   ],
   "source": [
    "os.getcwd()"
   ]
  },
  {
   "cell_type": "code",
   "execution_count": 5,
   "id": "royal-healthcare",
   "metadata": {},
   "outputs": [
    {
     "data": {
      "text/plain": [
       "['.ipynb_checkpoints',\n",
       " 'addition.py',\n",
       " 'Assignment_1.docx',\n",
       " 'Assignment_2.docx',\n",
       " 'class function.ipynb',\n",
       " 'class function2.ipynb',\n",
       " 'class4.ipynb',\n",
       " 'dictionary.ipynb',\n",
       " 'function.ipynb',\n",
       " 'installation.ipynb',\n",
       " 'math_module.ipynb',\n",
       " 'New_folder_for_definition',\n",
       " 'opps.ipynb',\n",
       " 'os_module.ipynb',\n",
       " 'python basics.ipynb',\n",
       " 'string.ipynb',\n",
       " 'test.py',\n",
       " 'test5.py',\n",
       " 'test6.py',\n",
       " 'Tuple.ipynb',\n",
       " 'Untitled5.ipynb',\n",
       " 'while_loop.ipynb',\n",
       " '__pycache__']"
      ]
     },
     "execution_count": 5,
     "metadata": {},
     "output_type": "execute_result"
    }
   ],
   "source": [
    "os.listdir()"
   ]
  },
  {
   "cell_type": "code",
   "execution_count": 9,
   "id": "athletic-trout",
   "metadata": {},
   "outputs": [
    {
     "data": {
      "text/plain": [
       "['$RECYCLE.BIN',\n",
       " '10 Python Tips and Tricks For Writing Better Code - YouTube.mkv',\n",
       " 'API_Coding',\n",
       " 'Azure Full Course - Learn Microsoft Azure in 8 Hours - Azure Tutorial For Beginners - Edureka - YouTube.mkv',\n",
       " 'Big Data & Hadoop Full Course - Learn Hadoop In 10 Hours - Hadoop Tutorial For Beginners - Edureka - YouTube.mkv',\n",
       " 'C++_Naresh',\n",
       " 'Complete Life Cycle of a Data Science Project - YouTube.mkv',\n",
       " 'CSDojo',\n",
       " 'CS_Dojo',\n",
       " 'Dataquest_tutorial',\n",
       " 'Data_Analyst_codeBsics',\n",
       " 'Data_camp',\n",
       " 'Data_Structure by BinaryWebTechnology',\n",
       " 'Data_Structure_python_nptel',\n",
       " 'DS_for_Engg_NPTEL',\n",
       " 'Flask_Corey Shafer',\n",
       " 'Greeky_show_outlook,python,sql',\n",
       " 'Hadoop',\n",
       " 'Intoduction_Data_Analytics_NPTEL',\n",
       " 'Into_ML_NPTEL',\n",
       " 'Introduction_to_python_for _Data_science_NPLTEL',\n",
       " 'Java',\n",
       " 'Julia_JuanKolper',\n",
       " 'Krish Naik',\n",
       " 'MarinStats_Statistics',\n",
       " 'Mongodb',\n",
       " 'Node_JS_tutorial_website',\n",
       " 'Power BI Advanced Tutorial - YouTube.mkv',\n",
       " 'Practice',\n",
       " 'Project 1- Iron Man Jarvis AI Desktop Voice Assistant - Python Tutorials For Absolute Beginners #120 - YouTube.mkv',\n",
       " 'Python',\n",
       " 'Python Projects For Beginners - Python Projects Examples - Python Tutorial - Edureka - YouTube.mkv',\n",
       " 'pythonlearn.pdf',\n",
       " 'Python_Harsh',\n",
       " 'Python_Tutorial',\n",
       " 'redirector.googlevideo.com',\n",
       " 'R_CSGeeks',\n",
       " 'Satequest',\n",
       " 'sentdesk_machine learning',\n",
       " 'System Volume Information',\n",
       " 'Tablue',\n",
       " 'Tech_Tim',\n",
       " 'thinkCSpy.pdf',\n",
       " 'Watson_studio',\n",
       " 'webscrapig_buildwithpython']"
      ]
     },
     "execution_count": 9,
     "metadata": {},
     "output_type": "execute_result"
    }
   ],
   "source": [
    "os.listdir('E:/')"
   ]
  },
  {
   "cell_type": "code",
   "execution_count": 10,
   "id": "sharp-uniform",
   "metadata": {},
   "outputs": [
    {
     "data": {
      "text/plain": [
       "'D:\\\\Data_science_class'"
      ]
     },
     "execution_count": 10,
     "metadata": {},
     "output_type": "execute_result"
    }
   ],
   "source": [
    "pwd()"
   ]
  },
  {
   "cell_type": "code",
   "execution_count": 11,
   "id": "physical-mapping",
   "metadata": {},
   "outputs": [],
   "source": [
    "os.chdir('D:/')"
   ]
  },
  {
   "cell_type": "code",
   "execution_count": 12,
   "id": "rotary-comment",
   "metadata": {},
   "outputs": [
    {
     "data": {
      "text/plain": [
       "'D:\\\\'"
      ]
     },
     "execution_count": 12,
     "metadata": {},
     "output_type": "execute_result"
    }
   ],
   "source": [
    "pwd()"
   ]
  },
  {
   "cell_type": "code",
   "execution_count": 13,
   "id": "alone-appraisal",
   "metadata": {},
   "outputs": [],
   "source": [
    "os.chdir('D:\\\\Data_science_class')"
   ]
  },
  {
   "cell_type": "code",
   "execution_count": 14,
   "id": "derived-calgary",
   "metadata": {},
   "outputs": [
    {
     "data": {
      "text/plain": [
       "'D:\\\\Data_science_class'"
      ]
     },
     "execution_count": 14,
     "metadata": {},
     "output_type": "execute_result"
    }
   ],
   "source": [
    "pwd()"
   ]
  },
  {
   "cell_type": "code",
   "execution_count": 15,
   "id": "annoying-paper",
   "metadata": {},
   "outputs": [],
   "source": [
    "os.mkdir('itnesh')"
   ]
  },
  {
   "cell_type": "code",
   "execution_count": 16,
   "id": "material-jones",
   "metadata": {},
   "outputs": [
    {
     "data": {
      "text/plain": [
       "['.ipynb_checkpoints',\n",
       " 'addition.py',\n",
       " 'Assignment_1.docx',\n",
       " 'Assignment_2.docx',\n",
       " 'class function.ipynb',\n",
       " 'class function2.ipynb',\n",
       " 'class4.ipynb',\n",
       " 'dictionary.ipynb',\n",
       " 'function.ipynb',\n",
       " 'installation.ipynb',\n",
       " 'itnesh',\n",
       " 'math_module.ipynb',\n",
       " 'New_folder_for_definition',\n",
       " 'opps.ipynb',\n",
       " 'os_module.ipynb',\n",
       " 'python basics.ipynb',\n",
       " 'string.ipynb',\n",
       " 'test.py',\n",
       " 'test5.py',\n",
       " 'test6.py',\n",
       " 'Tuple.ipynb',\n",
       " 'Untitled5.ipynb',\n",
       " 'while_loop.ipynb',\n",
       " '__pycache__']"
      ]
     },
     "execution_count": 16,
     "metadata": {},
     "output_type": "execute_result"
    }
   ],
   "source": [
    "os.listdir()"
   ]
  },
  {
   "cell_type": "code",
   "execution_count": 19,
   "id": "legitimate-trinidad",
   "metadata": {},
   "outputs": [
    {
     "name": "stdout",
     "output_type": "stream",
     "text": [
      "no this is not present\n"
     ]
    }
   ],
   "source": [
    "if 'test.txt' in os.listdir():\n",
    "    print('yes present this file in this directory')\n",
    "else:\n",
    "    print('no this is not present')"
   ]
  },
  {
   "cell_type": "code",
   "execution_count": 21,
   "id": "fundamental-highway",
   "metadata": {},
   "outputs": [
    {
     "data": {
      "text/plain": [
       "['.ipynb_checkpoints',\n",
       " 'addition.py',\n",
       " 'Assignment_1.docx',\n",
       " 'Assignment_2.docx',\n",
       " 'class function.ipynb',\n",
       " 'class function2.ipynb',\n",
       " 'class4.ipynb',\n",
       " 'dictionary.ipynb',\n",
       " 'function.ipynb',\n",
       " 'installation.ipynb',\n",
       " 'itnesh',\n",
       " 'math_module.ipynb',\n",
       " 'New_folder_for_function_fileModule',\n",
       " 'opps.ipynb',\n",
       " 'os_module.ipynb',\n",
       " 'python basics.ipynb',\n",
       " 'string.ipynb',\n",
       " 'test.py',\n",
       " 'test5.py',\n",
       " 'test6.py',\n",
       " 'Tuple.ipynb',\n",
       " 'Untitled5.ipynb',\n",
       " 'while_loop.ipynb',\n",
       " '__pycache__']"
      ]
     },
     "execution_count": 21,
     "metadata": {},
     "output_type": "execute_result"
    }
   ],
   "source": [
    "os.listdir()"
   ]
  },
  {
   "cell_type": "code",
   "execution_count": 22,
   "id": "pregnant-dallas",
   "metadata": {},
   "outputs": [],
   "source": [
    "os.chdir('D:/Data_science_class/New_folder_for_function_fileModule')"
   ]
  },
  {
   "cell_type": "code",
   "execution_count": 23,
   "id": "worth-march",
   "metadata": {},
   "outputs": [
    {
     "data": {
      "text/plain": [
       "'D:\\\\Data_science_class\\\\New_folder_for_function_fileModule'"
      ]
     },
     "execution_count": 23,
     "metadata": {},
     "output_type": "execute_result"
    }
   ],
   "source": [
    "pwd()"
   ]
  },
  {
   "cell_type": "code",
   "execution_count": 30,
   "id": "simple-ocean",
   "metadata": {},
   "outputs": [
    {
     "name": "stdout",
     "output_type": "stream",
     "text": [
      "yes it is present in this folder\n",
      "my name is itnesh kumar\n",
      "\n",
      "what is your name \n",
      "\n",
      "so i don't know \n",
      "\n",
      "what will i do\n",
      "\n",
      "what are you doingwhat are you doingwhat are you doing\n"
     ]
    }
   ],
   "source": [
    "if 'test.txt' in os.listdir():\n",
    "    print('yes it is present in this folder')\n",
    "    f=open('test.txt','r+')\n",
    "    for i in f:\n",
    "        print(i)\n",
    "else:\n",
    "    print('no, this is not present in this folder')"
   ]
  },
  {
   "cell_type": "code",
   "execution_count": 31,
   "id": "bronze-shark",
   "metadata": {},
   "outputs": [],
   "source": [
    "os.mkdir('itne')"
   ]
  },
  {
   "cell_type": "code",
   "execution_count": 32,
   "id": "sorted-present",
   "metadata": {},
   "outputs": [
    {
     "data": {
      "text/plain": [
       "['.ipynb_checkpoints',\n",
       " 'file_handling.ipynb',\n",
       " 'itne',\n",
       " 'myfile.txt',\n",
       " 'test.txt',\n",
       " 'test1.txt',\n",
       " 'test2.txt',\n",
       " 'test5.txt']"
      ]
     },
     "execution_count": 32,
     "metadata": {},
     "output_type": "execute_result"
    }
   ],
   "source": [
    "os.listdir()"
   ]
  },
  {
   "cell_type": "code",
   "execution_count": 33,
   "id": "successful-cookbook",
   "metadata": {},
   "outputs": [
    {
     "ename": "FileExistsError",
     "evalue": "[WinError 183] Cannot create a file when that file already exists: 'itne'",
     "output_type": "error",
     "traceback": [
      "\u001b[1;31m---------------------------------------------------------------------------\u001b[0m",
      "\u001b[1;31mFileExistsError\u001b[0m                           Traceback (most recent call last)",
      "\u001b[1;32m<ipython-input-33-75f2ef1aa5d0>\u001b[0m in \u001b[0;36m<module>\u001b[1;34m\u001b[0m\n\u001b[1;32m----> 1\u001b[1;33m \u001b[0mos\u001b[0m\u001b[1;33m.\u001b[0m\u001b[0mmkdir\u001b[0m\u001b[1;33m(\u001b[0m\u001b[1;34m'itne'\u001b[0m\u001b[1;33m)\u001b[0m\u001b[1;33m\u001b[0m\u001b[1;33m\u001b[0m\u001b[0m\n\u001b[0m",
      "\u001b[1;31mFileExistsError\u001b[0m: [WinError 183] Cannot create a file when that file already exists: 'itne'"
     ]
    }
   ],
   "source": [
    "os.mkdir('itne')"
   ]
  },
  {
   "cell_type": "code",
   "execution_count": 34,
   "id": "collect-comfort",
   "metadata": {},
   "outputs": [],
   "source": [
    "if not os.path.isdir('itne'):\n",
    "    os.mkdir('itne')"
   ]
  },
  {
   "cell_type": "code",
   "execution_count": 35,
   "id": "cooperative-agency",
   "metadata": {},
   "outputs": [],
   "source": [
    "os.rename('itne','itnesh')"
   ]
  },
  {
   "cell_type": "code",
   "execution_count": 37,
   "id": "gothic-commission",
   "metadata": {},
   "outputs": [
    {
     "data": {
      "text/plain": [
       "['.ipynb_checkpoints',\n",
       " 'file_handling.ipynb',\n",
       " 'itnesh',\n",
       " 'myfile.txt',\n",
       " 'test.txt',\n",
       " 'test1.txt',\n",
       " 'test2.txt',\n",
       " 'test5.txt']"
      ]
     },
     "execution_count": 37,
     "metadata": {},
     "output_type": "execute_result"
    }
   ],
   "source": [
    "os.listdir()"
   ]
  },
  {
   "cell_type": "code",
   "execution_count": 38,
   "id": "bronze-screw",
   "metadata": {},
   "outputs": [
    {
     "ename": "TypeError",
     "evalue": "rename() missing required argument 'dst' (pos 2)",
     "output_type": "error",
     "traceback": [
      "\u001b[1;31m---------------------------------------------------------------------------\u001b[0m",
      "\u001b[1;31mTypeError\u001b[0m                                 Traceback (most recent call last)",
      "\u001b[1;32m<ipython-input-38-bd1383aa23fa>\u001b[0m in \u001b[0;36m<module>\u001b[1;34m\u001b[0m\n\u001b[1;32m----> 1\u001b[1;33m \u001b[0mos\u001b[0m\u001b[1;33m.\u001b[0m\u001b[0mrename\u001b[0m\u001b[1;33m(\u001b[0m\u001b[1;34m'test.txt'\u001b[0m\u001b[1;33m)\u001b[0m\u001b[1;33m\u001b[0m\u001b[1;33m\u001b[0m\u001b[0m\n\u001b[0m",
      "\u001b[1;31mTypeError\u001b[0m: rename() missing required argument 'dst' (pos 2)"
     ]
    }
   ],
   "source": [
    "os.rename('test.txt')"
   ]
  },
  {
   "cell_type": "code",
   "execution_count": 39,
   "id": "cardiac-railway",
   "metadata": {},
   "outputs": [],
   "source": [
    "f=open('test.txt','r+')\n",
    "f.close()"
   ]
  },
  {
   "cell_type": "code",
   "execution_count": 41,
   "id": "prescription-roommate",
   "metadata": {},
   "outputs": [],
   "source": [
    "os.rename('test.txt','main.txt')"
   ]
  },
  {
   "cell_type": "code",
   "execution_count": 42,
   "id": "shaped-radio",
   "metadata": {},
   "outputs": [
    {
     "data": {
      "text/plain": [
       "['.ipynb_checkpoints',\n",
       " 'file_handling.ipynb',\n",
       " 'itnesh',\n",
       " 'main.txt',\n",
       " 'myfile.txt',\n",
       " 'test1.txt',\n",
       " 'test2.txt',\n",
       " 'test5.txt']"
      ]
     },
     "execution_count": 42,
     "metadata": {},
     "output_type": "execute_result"
    }
   ],
   "source": [
    "os.listdir()"
   ]
  },
  {
   "cell_type": "code",
   "execution_count": 43,
   "id": "vertical-revelation",
   "metadata": {},
   "outputs": [],
   "source": [
    "os.rmdir('itnesh')"
   ]
  },
  {
   "cell_type": "code",
   "execution_count": 44,
   "id": "indirect-montgomery",
   "metadata": {},
   "outputs": [
    {
     "data": {
      "text/plain": [
       "['.ipynb_checkpoints',\n",
       " 'file_handling.ipynb',\n",
       " 'main.txt',\n",
       " 'myfile.txt',\n",
       " 'test1.txt',\n",
       " 'test2.txt',\n",
       " 'test5.txt']"
      ]
     },
     "execution_count": 44,
     "metadata": {},
     "output_type": "execute_result"
    }
   ],
   "source": [
    "os.listdir()"
   ]
  },
  {
   "cell_type": "code",
   "execution_count": 45,
   "id": "adjusted-supervisor",
   "metadata": {},
   "outputs": [],
   "source": [
    "import shutil"
   ]
  },
  {
   "cell_type": "code",
   "execution_count": 50,
   "id": "possible-microwave",
   "metadata": {},
   "outputs": [
    {
     "ename": "PermissionError",
     "evalue": "[WinError 32] The process cannot access the file because it is being used by another process: 'D:/Data_science_class\\\\New_folder_for_function_fileModule'",
     "output_type": "error",
     "traceback": [
      "\u001b[1;31m---------------------------------------------------------------------------\u001b[0m",
      "\u001b[1;31mPermissionError\u001b[0m                           Traceback (most recent call last)",
      "\u001b[1;32mc:\\users\\itnes\\appdata\\local\\programs\\python\\python38\\lib\\shutil.py\u001b[0m in \u001b[0;36mmove\u001b[1;34m(src, dst, copy_function)\u001b[0m\n\u001b[0;32m    787\u001b[0m     \u001b[1;32mtry\u001b[0m\u001b[1;33m:\u001b[0m\u001b[1;33m\u001b[0m\u001b[1;33m\u001b[0m\u001b[0m\n\u001b[1;32m--> 788\u001b[1;33m         \u001b[0mos\u001b[0m\u001b[1;33m.\u001b[0m\u001b[0mrename\u001b[0m\u001b[1;33m(\u001b[0m\u001b[0msrc\u001b[0m\u001b[1;33m,\u001b[0m \u001b[0mreal_dst\u001b[0m\u001b[1;33m)\u001b[0m\u001b[1;33m\u001b[0m\u001b[1;33m\u001b[0m\u001b[0m\n\u001b[0m\u001b[0;32m    789\u001b[0m     \u001b[1;32mexcept\u001b[0m \u001b[0mOSError\u001b[0m\u001b[1;33m:\u001b[0m\u001b[1;33m\u001b[0m\u001b[1;33m\u001b[0m\u001b[0m\n",
      "\u001b[1;31mPermissionError\u001b[0m: [WinError 32] The process cannot access the file because it is being used by another process: 'D:/Data_science_class' -> 'D:/File_Done\\\\Data_science_class'",
      "\nDuring handling of the above exception, another exception occurred:\n",
      "\u001b[1;31mPermissionError\u001b[0m                           Traceback (most recent call last)",
      "\u001b[1;32m<ipython-input-50-4130e7384bdd>\u001b[0m in \u001b[0;36m<module>\u001b[1;34m\u001b[0m\n\u001b[1;32m----> 1\u001b[1;33m \u001b[0mshutil\u001b[0m\u001b[1;33m.\u001b[0m\u001b[0mmove\u001b[0m\u001b[1;33m(\u001b[0m\u001b[1;34m'D:/Data_science_class'\u001b[0m\u001b[1;33m,\u001b[0m\u001b[1;34m'D:/File_Done'\u001b[0m\u001b[1;33m)\u001b[0m\u001b[1;33m\u001b[0m\u001b[1;33m\u001b[0m\u001b[0m\n\u001b[0m",
      "\u001b[1;32mc:\\users\\itnes\\appdata\\local\\programs\\python\\python38\\lib\\shutil.py\u001b[0m in \u001b[0;36mmove\u001b[1;34m(src, dst, copy_function)\u001b[0m\n\u001b[0;32m    798\u001b[0m             copytree(src, real_dst, copy_function=copy_function,\n\u001b[0;32m    799\u001b[0m                      symlinks=True)\n\u001b[1;32m--> 800\u001b[1;33m             \u001b[0mrmtree\u001b[0m\u001b[1;33m(\u001b[0m\u001b[0msrc\u001b[0m\u001b[1;33m)\u001b[0m\u001b[1;33m\u001b[0m\u001b[1;33m\u001b[0m\u001b[0m\n\u001b[0m\u001b[0;32m    801\u001b[0m         \u001b[1;32melse\u001b[0m\u001b[1;33m:\u001b[0m\u001b[1;33m\u001b[0m\u001b[1;33m\u001b[0m\u001b[0m\n\u001b[0;32m    802\u001b[0m             \u001b[0mcopy_function\u001b[0m\u001b[1;33m(\u001b[0m\u001b[0msrc\u001b[0m\u001b[1;33m,\u001b[0m \u001b[0mreal_dst\u001b[0m\u001b[1;33m)\u001b[0m\u001b[1;33m\u001b[0m\u001b[1;33m\u001b[0m\u001b[0m\n",
      "\u001b[1;32mc:\\users\\itnes\\appdata\\local\\programs\\python\\python38\\lib\\shutil.py\u001b[0m in \u001b[0;36mrmtree\u001b[1;34m(path, ignore_errors, onerror)\u001b[0m\n\u001b[0;32m    735\u001b[0m             \u001b[1;31m# can't continue even if onerror hook returns\u001b[0m\u001b[1;33m\u001b[0m\u001b[1;33m\u001b[0m\u001b[1;33m\u001b[0m\u001b[0m\n\u001b[0;32m    736\u001b[0m             \u001b[1;32mreturn\u001b[0m\u001b[1;33m\u001b[0m\u001b[1;33m\u001b[0m\u001b[0m\n\u001b[1;32m--> 737\u001b[1;33m         \u001b[1;32mreturn\u001b[0m \u001b[0m_rmtree_unsafe\u001b[0m\u001b[1;33m(\u001b[0m\u001b[0mpath\u001b[0m\u001b[1;33m,\u001b[0m \u001b[0monerror\u001b[0m\u001b[1;33m)\u001b[0m\u001b[1;33m\u001b[0m\u001b[1;33m\u001b[0m\u001b[0m\n\u001b[0m\u001b[0;32m    738\u001b[0m \u001b[1;33m\u001b[0m\u001b[0m\n\u001b[0;32m    739\u001b[0m \u001b[1;31m# Allow introspection of whether or not the hardening against symlink\u001b[0m\u001b[1;33m\u001b[0m\u001b[1;33m\u001b[0m\u001b[1;33m\u001b[0m\u001b[0m\n",
      "\u001b[1;32mc:\\users\\itnes\\appdata\\local\\programs\\python\\python38\\lib\\shutil.py\u001b[0m in \u001b[0;36m_rmtree_unsafe\u001b[1;34m(path, onerror)\u001b[0m\n\u001b[0;32m    608\u001b[0m                 \u001b[0monerror\u001b[0m\u001b[1;33m(\u001b[0m\u001b[0mos\u001b[0m\u001b[1;33m.\u001b[0m\u001b[0mpath\u001b[0m\u001b[1;33m.\u001b[0m\u001b[0mislink\u001b[0m\u001b[1;33m,\u001b[0m \u001b[0mfullname\u001b[0m\u001b[1;33m,\u001b[0m \u001b[0msys\u001b[0m\u001b[1;33m.\u001b[0m\u001b[0mexc_info\u001b[0m\u001b[1;33m(\u001b[0m\u001b[1;33m)\u001b[0m\u001b[1;33m)\u001b[0m\u001b[1;33m\u001b[0m\u001b[1;33m\u001b[0m\u001b[0m\n\u001b[0;32m    609\u001b[0m                 \u001b[1;32mcontinue\u001b[0m\u001b[1;33m\u001b[0m\u001b[1;33m\u001b[0m\u001b[0m\n\u001b[1;32m--> 610\u001b[1;33m             \u001b[0m_rmtree_unsafe\u001b[0m\u001b[1;33m(\u001b[0m\u001b[0mfullname\u001b[0m\u001b[1;33m,\u001b[0m \u001b[0monerror\u001b[0m\u001b[1;33m)\u001b[0m\u001b[1;33m\u001b[0m\u001b[1;33m\u001b[0m\u001b[0m\n\u001b[0m\u001b[0;32m    611\u001b[0m         \u001b[1;32melse\u001b[0m\u001b[1;33m:\u001b[0m\u001b[1;33m\u001b[0m\u001b[1;33m\u001b[0m\u001b[0m\n\u001b[0;32m    612\u001b[0m             \u001b[1;32mtry\u001b[0m\u001b[1;33m:\u001b[0m\u001b[1;33m\u001b[0m\u001b[1;33m\u001b[0m\u001b[0m\n",
      "\u001b[1;32mc:\\users\\itnes\\appdata\\local\\programs\\python\\python38\\lib\\shutil.py\u001b[0m in \u001b[0;36m_rmtree_unsafe\u001b[1;34m(path, onerror)\u001b[0m\n\u001b[0;32m    617\u001b[0m         \u001b[0mos\u001b[0m\u001b[1;33m.\u001b[0m\u001b[0mrmdir\u001b[0m\u001b[1;33m(\u001b[0m\u001b[0mpath\u001b[0m\u001b[1;33m)\u001b[0m\u001b[1;33m\u001b[0m\u001b[1;33m\u001b[0m\u001b[0m\n\u001b[0;32m    618\u001b[0m     \u001b[1;32mexcept\u001b[0m \u001b[0mOSError\u001b[0m\u001b[1;33m:\u001b[0m\u001b[1;33m\u001b[0m\u001b[1;33m\u001b[0m\u001b[0m\n\u001b[1;32m--> 619\u001b[1;33m         \u001b[0monerror\u001b[0m\u001b[1;33m(\u001b[0m\u001b[0mos\u001b[0m\u001b[1;33m.\u001b[0m\u001b[0mrmdir\u001b[0m\u001b[1;33m,\u001b[0m \u001b[0mpath\u001b[0m\u001b[1;33m,\u001b[0m \u001b[0msys\u001b[0m\u001b[1;33m.\u001b[0m\u001b[0mexc_info\u001b[0m\u001b[1;33m(\u001b[0m\u001b[1;33m)\u001b[0m\u001b[1;33m)\u001b[0m\u001b[1;33m\u001b[0m\u001b[1;33m\u001b[0m\u001b[0m\n\u001b[0m\u001b[0;32m    620\u001b[0m \u001b[1;33m\u001b[0m\u001b[0m\n\u001b[0;32m    621\u001b[0m \u001b[1;31m# Version using fd-based APIs to protect against races\u001b[0m\u001b[1;33m\u001b[0m\u001b[1;33m\u001b[0m\u001b[1;33m\u001b[0m\u001b[0m\n",
      "\u001b[1;32mc:\\users\\itnes\\appdata\\local\\programs\\python\\python38\\lib\\shutil.py\u001b[0m in \u001b[0;36m_rmtree_unsafe\u001b[1;34m(path, onerror)\u001b[0m\n\u001b[0;32m    615\u001b[0m                 \u001b[0monerror\u001b[0m\u001b[1;33m(\u001b[0m\u001b[0mos\u001b[0m\u001b[1;33m.\u001b[0m\u001b[0munlink\u001b[0m\u001b[1;33m,\u001b[0m \u001b[0mfullname\u001b[0m\u001b[1;33m,\u001b[0m \u001b[0msys\u001b[0m\u001b[1;33m.\u001b[0m\u001b[0mexc_info\u001b[0m\u001b[1;33m(\u001b[0m\u001b[1;33m)\u001b[0m\u001b[1;33m)\u001b[0m\u001b[1;33m\u001b[0m\u001b[1;33m\u001b[0m\u001b[0m\n\u001b[0;32m    616\u001b[0m     \u001b[1;32mtry\u001b[0m\u001b[1;33m:\u001b[0m\u001b[1;33m\u001b[0m\u001b[1;33m\u001b[0m\u001b[0m\n\u001b[1;32m--> 617\u001b[1;33m         \u001b[0mos\u001b[0m\u001b[1;33m.\u001b[0m\u001b[0mrmdir\u001b[0m\u001b[1;33m(\u001b[0m\u001b[0mpath\u001b[0m\u001b[1;33m)\u001b[0m\u001b[1;33m\u001b[0m\u001b[1;33m\u001b[0m\u001b[0m\n\u001b[0m\u001b[0;32m    618\u001b[0m     \u001b[1;32mexcept\u001b[0m \u001b[0mOSError\u001b[0m\u001b[1;33m:\u001b[0m\u001b[1;33m\u001b[0m\u001b[1;33m\u001b[0m\u001b[0m\n\u001b[0;32m    619\u001b[0m         \u001b[0monerror\u001b[0m\u001b[1;33m(\u001b[0m\u001b[0mos\u001b[0m\u001b[1;33m.\u001b[0m\u001b[0mrmdir\u001b[0m\u001b[1;33m,\u001b[0m \u001b[0mpath\u001b[0m\u001b[1;33m,\u001b[0m \u001b[0msys\u001b[0m\u001b[1;33m.\u001b[0m\u001b[0mexc_info\u001b[0m\u001b[1;33m(\u001b[0m\u001b[1;33m)\u001b[0m\u001b[1;33m)\u001b[0m\u001b[1;33m\u001b[0m\u001b[1;33m\u001b[0m\u001b[0m\n",
      "\u001b[1;31mPermissionError\u001b[0m: [WinError 32] The process cannot access the file because it is being used by another process: 'D:/Data_science_class\\\\New_folder_for_function_fileModule'"
     ]
    }
   ],
   "source": [
    "shutil.move('D:/Data_science_class','D:/File_Done')"
   ]
  },
  {
   "cell_type": "code",
   "execution_count": null,
   "id": "little-corruption",
   "metadata": {},
   "outputs": [],
   "source": []
  }
 ],
 "metadata": {
  "kernelspec": {
   "display_name": "Python 3",
   "language": "python",
   "name": "python3"
  },
  "language_info": {
   "codemirror_mode": {
    "name": "ipython",
    "version": 3
   },
   "file_extension": ".py",
   "mimetype": "text/x-python",
   "name": "python",
   "nbconvert_exporter": "python",
   "pygments_lexer": "ipython3",
   "version": "3.8.5"
  }
 },
 "nbformat": 4,
 "nbformat_minor": 5
}
