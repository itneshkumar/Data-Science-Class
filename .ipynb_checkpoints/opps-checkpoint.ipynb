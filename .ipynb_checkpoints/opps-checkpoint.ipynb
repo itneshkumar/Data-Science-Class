{
 "cells": [
  {
   "cell_type": "code",
   "execution_count": null,
   "id": "instrumental-system",
   "metadata": {},
   "outputs": [],
   "source": [
    "class car:\n",
    "    pass"
   ]
  },
  {
   "cell_type": "code",
   "execution_count": null,
   "id": "pregnant-laptop",
   "metadata": {},
   "outputs": [],
   "source": [
    "audiq7=car()"
   ]
  },
  {
   "cell_type": "code",
   "execution_count": null,
   "id": "annual-platinum",
   "metadata": {},
   "outputs": [],
   "source": [
    "audiq7.milage =10\n",
    "audiq7.year =2020\n",
    "audiq7.make =354\n",
    "audiq7.model ='india'"
   ]
  },
  {
   "cell_type": "code",
   "execution_count": null,
   "id": "daily-adjustment",
   "metadata": {},
   "outputs": [],
   "source": [
    "audiq7.milage"
   ]
  },
  {
   "cell_type": "code",
   "execution_count": null,
   "id": "possible-bridges",
   "metadata": {},
   "outputs": [],
   "source": [
    "milage"
   ]
  },
  {
   "cell_type": "code",
   "execution_count": null,
   "id": "twenty-renaissance",
   "metadata": {},
   "outputs": [],
   "source": [
    "audiq7.year"
   ]
  },
  {
   "cell_type": "code",
   "execution_count": null,
   "id": "forward-constraint",
   "metadata": {},
   "outputs": [],
   "source": [
    "nano=car()"
   ]
  },
  {
   "cell_type": "code",
   "execution_count": null,
   "id": "christian-traveler",
   "metadata": {},
   "outputs": [],
   "source": [
    "nano.milage=20\n",
    "nano.year=2020\n",
    "nano.model='gujrat'\n",
    "nano.engineno=345556"
   ]
  },
  {
   "cell_type": "code",
   "execution_count": null,
   "id": "advance-robin",
   "metadata": {},
   "outputs": [],
   "source": [
    "print(nano.milage,audiq7.milage)"
   ]
  },
  {
   "cell_type": "code",
   "execution_count": null,
   "id": "medieval-psychiatry",
   "metadata": {},
   "outputs": [],
   "source": [
    "class car:\n",
    "    def __init__(self,milage,year,make,model):\n",
    "        self.milage=milage\n",
    "        self.year=year\n",
    "        self.make=make\n",
    "        self.model=model"
   ]
  },
  {
   "cell_type": "code",
   "execution_count": null,
   "id": "short-consolidation",
   "metadata": {},
   "outputs": [],
   "source": [
    "nano1=car()"
   ]
  },
  {
   "cell_type": "code",
   "execution_count": null,
   "id": "streaming-commonwealth",
   "metadata": {},
   "outputs": [],
   "source": [
    "nano1=car(20,2020,3465343,'ratan')\n",
    "nano2=car(20,2020,3465343,'ratan')\n",
    "nano3=car(20,2020,3465343,'ratan')\n",
    "nano4=car(20,2020,3465343,'ratan')\n",
    "nano5=car(20,2020,3465343,'ratan')\n",
    "nano6=car(20,2020,3465343,'ratan')\n",
    "nano7=car(20,2020,3465343,'ratan')\n"
   ]
  },
  {
   "cell_type": "code",
   "execution_count": null,
   "id": "patent-drove",
   "metadata": {},
   "outputs": [],
   "source": [
    "nano1.make"
   ]
  },
  {
   "cell_type": "code",
   "execution_count": null,
   "id": "vocational-sleep",
   "metadata": {},
   "outputs": [],
   "source": [
    "class car:\n",
    "    def __init__(a,m,y,ma,mo):\n",
    "        a.milage=m\n",
    "        a.year=y\n",
    "        a.make=ma\n",
    "        a.model=mo\n",
    "    def age(b,current_year):\n",
    "        return current_year-b.year\n",
    "    def milage1(self):\n",
    "        #print('milage of car', self.milage)\n",
    "        return self.milage\n",
    "    def __str__(c):\n",
    "        return 'this is my  car i have created'"
   ]
  },
  {
   "cell_type": "code",
   "execution_count": null,
   "id": "tamil-idaho",
   "metadata": {},
   "outputs": [],
   "source": [
    "nano7=car(20,2020,3465343,'ratan')"
   ]
  },
  {
   "cell_type": "code",
   "execution_count": null,
   "id": "checked-treatment",
   "metadata": {},
   "outputs": [],
   "source": [
    "nano7.milage"
   ]
  },
  {
   "cell_type": "code",
   "execution_count": null,
   "id": "attractive-cradle",
   "metadata": {},
   "outputs": [],
   "source": [
    "nano7.age(2021)"
   ]
  },
  {
   "cell_type": "code",
   "execution_count": null,
   "id": "swedish-stanford",
   "metadata": {},
   "outputs": [],
   "source": []
  },
  {
   "cell_type": "code",
   "execution_count": null,
   "id": "mature-statistics",
   "metadata": {},
   "outputs": [],
   "source": [
    "    nano7.milage1()"
   ]
  },
  {
   "cell_type": "code",
   "execution_count": null,
   "id": "supposed-mumbai",
   "metadata": {},
   "outputs": [],
   "source": [
    "nano7"
   ]
  },
  {
   "cell_type": "code",
   "execution_count": null,
   "id": "systematic-remains",
   "metadata": {},
   "outputs": [],
   "source": [
    "print(nano7)"
   ]
  },
  {
   "cell_type": "code",
   "execution_count": 20,
   "id": "speaking-trustee",
   "metadata": {},
   "outputs": [],
   "source": [
    "class student:\n",
    "    def __init__(self,name,rollno,joining_date,current_topic):\n",
    "        self.name=name\n",
    "        self.rollno=rollno\n",
    "        self.joining_date=joining_date\n",
    "        self.current_topic=current_topic\n",
    "    def crt_topic(self):\n",
    "        print('current topic discuse in my class is',self.current_topic)\n",
    "    def name_Parsing(self):\n",
    "        if type(self.name)==list:\n",
    "            for i in self.name:\n",
    "                pritn('provide the name from list')\n",
    "    def str_rollno(self):\n",
    "        \n",
    "        try:\n",
    "            if type(self.rollno)==str:\n",
    "                print('do nothing')\n",
    "            else:\n",
    "                return str(self.rollno)\n",
    "        except Exception as e:\n",
    "            print('this is error msg',e)\n",
    "            \n",
    "    def duration(self,current_date):\n",
    "        print('print the class duration is ',current_date-self.joining_date)\n",
    "    def __str__(self): \n",
    "        return 'this is my student classs functuiobn'\n"
   ]
  },
  {
   "cell_type": "code",
   "execution_count": 18,
   "id": "realistic-territory",
   "metadata": {},
   "outputs": [],
   "source": [
    "tina=student('tan','uuuui',2021,'opps')"
   ]
  },
  {
   "cell_type": "code",
   "execution_count": 21,
   "id": "backed-street",
   "metadata": {},
   "outputs": [
    {
     "name": "stdout",
     "output_type": "stream",
     "text": [
      "print the class duration is  0\n"
     ]
    }
   ],
   "source": [
    "tina.duration(2021)"
   ]
  },
  {
   "cell_type": "code",
   "execution_count": 22,
   "id": "featured-senior",
   "metadata": {},
   "outputs": [],
   "source": [
    "rani=student(['rani','soni','tina'],['def','dd','fff'],2021,'opps')"
   ]
  },
  {
   "cell_type": "code",
   "execution_count": 23,
   "id": "adolescent-boost",
   "metadata": {},
   "outputs": [
    {
     "ename": "NameError",
     "evalue": "name 'pritn' is not defined",
     "output_type": "error",
     "traceback": [
      "\u001b[1;31m---------------------------------------------------------------------------\u001b[0m",
      "\u001b[1;31mNameError\u001b[0m                                 Traceback (most recent call last)",
      "\u001b[1;32m<ipython-input-23-1b7dd702c765>\u001b[0m in \u001b[0;36m<module>\u001b[1;34m\u001b[0m\n\u001b[1;32m----> 1\u001b[1;33m \u001b[0mrani\u001b[0m\u001b[1;33m.\u001b[0m\u001b[0mname_Parsing\u001b[0m\u001b[1;33m(\u001b[0m\u001b[1;33m)\u001b[0m\u001b[1;33m\u001b[0m\u001b[1;33m\u001b[0m\u001b[0m\n\u001b[0m",
      "\u001b[1;32m<ipython-input-20-2cf75d0ede01>\u001b[0m in \u001b[0;36mname_Parsing\u001b[1;34m(self)\u001b[0m\n\u001b[0;32m     10\u001b[0m         \u001b[1;32mif\u001b[0m \u001b[0mtype\u001b[0m\u001b[1;33m(\u001b[0m\u001b[0mself\u001b[0m\u001b[1;33m.\u001b[0m\u001b[0mname\u001b[0m\u001b[1;33m)\u001b[0m\u001b[1;33m==\u001b[0m\u001b[0mlist\u001b[0m\u001b[1;33m:\u001b[0m\u001b[1;33m\u001b[0m\u001b[1;33m\u001b[0m\u001b[0m\n\u001b[0;32m     11\u001b[0m             \u001b[1;32mfor\u001b[0m \u001b[0mi\u001b[0m \u001b[1;32min\u001b[0m \u001b[0mself\u001b[0m\u001b[1;33m.\u001b[0m\u001b[0mname\u001b[0m\u001b[1;33m:\u001b[0m\u001b[1;33m\u001b[0m\u001b[1;33m\u001b[0m\u001b[0m\n\u001b[1;32m---> 12\u001b[1;33m                 \u001b[0mpritn\u001b[0m\u001b[1;33m(\u001b[0m\u001b[1;34m'provide the name from list'\u001b[0m\u001b[1;33m)\u001b[0m\u001b[1;33m\u001b[0m\u001b[1;33m\u001b[0m\u001b[0m\n\u001b[0m\u001b[0;32m     13\u001b[0m     \u001b[1;32mdef\u001b[0m \u001b[0mstr_rollno\u001b[0m\u001b[1;33m(\u001b[0m\u001b[0mself\u001b[0m\u001b[1;33m)\u001b[0m\u001b[1;33m:\u001b[0m\u001b[1;33m\u001b[0m\u001b[1;33m\u001b[0m\u001b[0m\n\u001b[0;32m     14\u001b[0m \u001b[1;33m\u001b[0m\u001b[0m\n",
      "\u001b[1;31mNameError\u001b[0m: name 'pritn' is not defined"
     ]
    }
   ],
   "source": [
    "rani.name_Parsing()"
   ]
  },
  {
   "cell_type": "code",
   "execution_count": 25,
   "id": "interpreted-glossary",
   "metadata": {},
   "outputs": [],
   "source": [
    "class data:\n",
    "    def __init__(file_name,file_type,file_date,file_size):\n",
    "        self.file_name=file_name\n",
    "        self.file_type=file_type\n",
    "        self.file_size=file_size\n",
    "    def File_open(self):\n",
    "        f=\n",
    "    def File_read(self):\n",
    "        return self.a\n",
    "    def append(self):\n",
    "        return self.apppend(a)"
   ]
  },
  {
   "cell_type": "code",
   "execution_count": null,
   "id": "hourly-caribbean",
   "metadata": {},
   "outputs": [],
   "source": [
    "file=data('itnesh','text',20210411,)"
   ]
  }
 ],
 "metadata": {
  "kernelspec": {
   "display_name": "Python 3",
   "language": "python",
   "name": "python3"
  },
  "language_info": {
   "codemirror_mode": {
    "name": "ipython",
    "version": 3
   },
   "file_extension": ".py",
   "mimetype": "text/x-python",
   "name": "python",
   "nbconvert_exporter": "python",
   "pygments_lexer": "ipython3",
   "version": "3.6.8"
  }
 },
 "nbformat": 4,
 "nbformat_minor": 5
}
