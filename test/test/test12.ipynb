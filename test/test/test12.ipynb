{
 "cells": [
  {
   "cell_type": "code",
   "execution_count": 1,
   "id": "0397cd13",
   "metadata": {},
   "outputs": [
    {
     "name": "stdout",
     "output_type": "stream",
     "text": [
      "enter your first and last name with the seperation of commasItnesh,Kumar\n"
     ]
    }
   ],
   "source": [
    "import add_sub_pow, name, div"
   ]
  },
  {
   "cell_type": "code",
   "execution_count": 2,
   "id": "c6726e45",
   "metadata": {},
   "outputs": [
    {
     "data": {
      "text/plain": [
       "1024"
      ]
     },
     "execution_count": 2,
     "metadata": {},
     "output_type": "execute_result"
    }
   ],
   "source": [
    "add_sub_pow.power(4,5)"
   ]
  },
  {
   "cell_type": "code",
   "execution_count": 3,
   "id": "e7573dae",
   "metadata": {},
   "outputs": [
    {
     "data": {
      "text/plain": [
       "'Itnesh'"
      ]
     },
     "execution_count": 3,
     "metadata": {},
     "output_type": "execute_result"
    }
   ],
   "source": [
    "name.first_name()"
   ]
  },
  {
   "cell_type": "code",
   "execution_count": 4,
   "id": "295d7806",
   "metadata": {},
   "outputs": [
    {
     "data": {
      "text/plain": [
       "'ItneshKumar'"
      ]
     },
     "execution_count": 4,
     "metadata": {},
     "output_type": "execute_result"
    }
   ],
   "source": [
    "name.name()"
   ]
  },
  {
   "cell_type": "code",
   "execution_count": 5,
   "id": "cc1c8132",
   "metadata": {},
   "outputs": [
    {
     "data": {
      "text/plain": [
       "'Kumar'"
      ]
     },
     "execution_count": 5,
     "metadata": {},
     "output_type": "execute_result"
    }
   ],
   "source": [
    "name.last_name()"
   ]
  },
  {
   "cell_type": "code",
   "execution_count": 6,
   "id": "d9d9f3ac",
   "metadata": {},
   "outputs": [
    {
     "data": {
      "text/plain": [
       "0.8"
      ]
     },
     "execution_count": 6,
     "metadata": {},
     "output_type": "execute_result"
    }
   ],
   "source": [
    "div.div(4,5)"
   ]
  },
  {
   "cell_type": "code",
   "execution_count": 7,
   "id": "70b12cfa",
   "metadata": {},
   "outputs": [
    {
     "data": {
      "text/plain": [
       "0"
      ]
     },
     "execution_count": 7,
     "metadata": {},
     "output_type": "execute_result"
    }
   ],
   "source": [
    "div.floor_div(4,5)"
   ]
  },
  {
   "cell_type": "code",
   "execution_count": 8,
   "id": "0ab512e7",
   "metadata": {},
   "outputs": [
    {
     "data": {
      "text/plain": [
       "4"
      ]
     },
     "execution_count": 8,
     "metadata": {},
     "output_type": "execute_result"
    }
   ],
   "source": [
    "div.reminder(4,7)"
   ]
  },
  {
   "cell_type": "code",
   "execution_count": null,
   "id": "4fb3903f",
   "metadata": {},
   "outputs": [],
   "source": []
  }
 ],
 "metadata": {
  "kernelspec": {
   "display_name": "Python 3",
   "language": "python",
   "name": "python3"
  },
  "language_info": {
   "codemirror_mode": {
    "name": "ipython",
    "version": 3
   },
   "file_extension": ".py",
   "mimetype": "text/x-python",
   "name": "python",
   "nbconvert_exporter": "python",
   "pygments_lexer": "ipython3",
   "version": "3.6.8"
  }
 },
 "nbformat": 4,
 "nbformat_minor": 5
}
