{
 "cells": [
  {
   "cell_type": "markdown",
   "id": "9adfad32",
   "metadata": {},
   "source": [
    "## String Manipulation"
   ]
  },
  {
   "cell_type": "code",
   "execution_count": 2,
   "id": "destroyed-application",
   "metadata": {},
   "outputs": [],
   "source": [
    "a='itnesh'"
   ]
  },
  {
   "cell_type": "code",
   "execution_count": 3,
   "id": "cathedral-touch",
   "metadata": {},
   "outputs": [
    {
     "data": {
      "text/plain": [
       "'itnesh'"
      ]
     },
     "execution_count": 3,
     "metadata": {},
     "output_type": "execute_result"
    }
   ],
   "source": [
    "a"
   ]
  },
  {
   "cell_type": "code",
   "execution_count": 4,
   "id": "selective-woman",
   "metadata": {},
   "outputs": [],
   "source": [
    "b=\"rajan\""
   ]
  },
  {
   "cell_type": "code",
   "execution_count": 5,
   "id": "selective-feelings",
   "metadata": {},
   "outputs": [
    {
     "data": {
      "text/plain": [
       "'rajan'"
      ]
     },
     "execution_count": 5,
     "metadata": {},
     "output_type": "execute_result"
    }
   ],
   "source": [
    "b"
   ]
  },
  {
   "cell_type": "code",
   "execution_count": 5,
   "id": "processed-hands",
   "metadata": {},
   "outputs": [
    {
     "data": {
      "text/plain": [
       "'rajan'"
      ]
     },
     "execution_count": 5,
     "metadata": {},
     "output_type": "execute_result"
    }
   ],
   "source": [
    "b"
   ]
  },
  {
   "cell_type": "code",
   "execution_count": 10,
   "id": "perceived-transsexual",
   "metadata": {},
   "outputs": [],
   "source": [
    "c=\"this is first class of python and i'l like to join \""
   ]
  },
  {
   "cell_type": "code",
   "execution_count": 7,
   "id": "nervous-providence",
   "metadata": {},
   "outputs": [
    {
     "data": {
      "text/plain": [
       "\"this is first class of python and i'l like to join\""
      ]
     },
     "execution_count": 7,
     "metadata": {},
     "output_type": "execute_result"
    }
   ],
   "source": [
    "c"
   ]
  },
  {
   "cell_type": "markdown",
   "id": "f841734f",
   "metadata": {},
   "source": [
    "### Now I will access the data  from string at a particular place"
   ]
  },
  {
   "cell_type": "code",
   "execution_count": 8,
   "id": "broad-retailer",
   "metadata": {},
   "outputs": [
    {
     "data": {
      "text/plain": [
       "'t'"
      ]
     },
     "execution_count": 8,
     "metadata": {},
     "output_type": "execute_result"
    }
   ],
   "source": [
    "c[0]"
   ]
  },
  {
   "cell_type": "code",
   "execution_count": 9,
   "id": "thousand-round",
   "metadata": {},
   "outputs": [
    {
     "data": {
      "text/plain": [
       "'n'"
      ]
     },
     "execution_count": 9,
     "metadata": {},
     "output_type": "execute_result"
    }
   ],
   "source": [
    "c[-1]"
   ]
  },
  {
   "cell_type": "code",
   "execution_count": 11,
   "id": "adjusted-destiny",
   "metadata": {},
   "outputs": [
    {
     "data": {
      "text/plain": [
       "' '"
      ]
     },
     "execution_count": 11,
     "metadata": {},
     "output_type": "execute_result"
    }
   ],
   "source": [
    "c[-1]"
   ]
  },
  {
   "cell_type": "code",
   "execution_count": 13,
   "id": "complete-implement",
   "metadata": {},
   "outputs": [
    {
     "data": {
      "text/plain": [
       "51"
      ]
     },
     "execution_count": 13,
     "metadata": {},
     "output_type": "execute_result"
    }
   ],
   "source": [
    "len(c)"
   ]
  },
  {
   "cell_type": "markdown",
   "id": "7d2645c5",
   "metadata": {},
   "source": [
    "### Now slicing the data means extract the data in range from start to end"
   ]
  },
  {
   "cell_type": "code",
   "execution_count": 15,
   "id": "regulation-acrylic",
   "metadata": {},
   "outputs": [
    {
     "data": {
      "text/plain": [
       "' is fi'"
      ]
     },
     "execution_count": 15,
     "metadata": {},
     "output_type": "execute_result"
    }
   ],
   "source": [
    "c[4:10]"
   ]
  },
  {
   "cell_type": "code",
   "execution_count": 17,
   "id": "historical-reviewer",
   "metadata": {},
   "outputs": [
    {
     "data": {
      "text/plain": [
       "''"
      ]
     },
     "execution_count": 17,
     "metadata": {},
     "output_type": "execute_result"
    }
   ],
   "source": [
    "c[-1:-10:1]"
   ]
  },
  {
   "cell_type": "markdown",
   "id": "4c4ff9c8",
   "metadata": {},
   "source": [
    "### Now I will itrate the data in one by one by code that is itration "
   ]
  },
  {
   "cell_type": "code",
   "execution_count": 20,
   "id": "cordless-congo",
   "metadata": {},
   "outputs": [
    {
     "name": "stdout",
     "output_type": "stream",
     "text": [
      "t\n",
      "h\n",
      "i\n",
      "s\n",
      " \n",
      "i\n",
      "s\n",
      " \n",
      "f\n",
      "i\n",
      "r\n",
      "s\n",
      "t\n",
      " \n",
      "c\n",
      "l\n",
      "a\n",
      "s\n",
      "s\n",
      " \n",
      "o\n",
      "f\n",
      " \n",
      "p\n",
      "y\n",
      "t\n",
      "h\n",
      "o\n",
      "n\n",
      " \n",
      "a\n",
      "n\n",
      "d\n",
      " \n",
      "i\n",
      "'\n",
      "l\n",
      " \n",
      "l\n",
      "i\n",
      "k\n",
      "e\n",
      " \n",
      "t\n",
      "o\n",
      " \n",
      "j\n",
      "o\n",
      "i\n",
      "n\n",
      " \n"
     ]
    }
   ],
   "source": [
    "for i in range(len(c)):\n",
    "    print(c[i])"
   ]
  },
  {
   "cell_type": "code",
   "execution_count": 21,
   "id": "demonstrated-disaster",
   "metadata": {},
   "outputs": [
    {
     "ename": "TypeError",
     "evalue": "'str' object does not support item assignment",
     "output_type": "error",
     "traceback": [
      "\u001b[1;31m---------------------------------------------------------------------------\u001b[0m",
      "\u001b[1;31mTypeError\u001b[0m                                 Traceback (most recent call last)",
      "\u001b[1;32m<ipython-input-21-e39175503e7f>\u001b[0m in \u001b[0;36m<module>\u001b[1;34m\u001b[0m\n\u001b[1;32m----> 1\u001b[1;33m \u001b[0mc\u001b[0m\u001b[1;33m[\u001b[0m\u001b[1;36m0\u001b[0m\u001b[1;33m]\u001b[0m\u001b[1;33m=\u001b[0m\u001b[1;34m\"x\"\u001b[0m\u001b[1;33m\u001b[0m\u001b[1;33m\u001b[0m\u001b[0m\n\u001b[0m",
      "\u001b[1;31mTypeError\u001b[0m: 'str' object does not support item assignment"
     ]
    }
   ],
   "source": [
    "c[0]=\"x\""
   ]
  },
  {
   "cell_type": "markdown",
   "id": "analyzed-start",
   "metadata": {},
   "source": [
    "### string doesn't support the assigning the data, string is imuatable"
   ]
  },
  {
   "cell_type": "markdown",
   "id": "sized-mustang",
   "metadata": {},
   "source": [
    "* string is imutable data even that list does support"
   ]
  },
  {
   "cell_type": "code",
   "execution_count": 40,
   "id": "formed-corps",
   "metadata": {},
   "outputs": [],
   "source": [
    "s=\"My name is itnesh kumar, Name or org is ineuron \""
   ]
  },
  {
   "cell_type": "code",
   "execution_count": 23,
   "id": "therapeutic-polls",
   "metadata": {},
   "outputs": [
    {
     "data": {
      "text/plain": [
       "-1"
      ]
     },
     "execution_count": 23,
     "metadata": {},
     "output_type": "execute_result"
    }
   ],
   "source": [
    "s.find(\"asd\")"
   ]
  },
  {
   "cell_type": "code",
   "execution_count": 27,
   "id": "egyptian-exhaust",
   "metadata": {},
   "outputs": [
    {
     "data": {
      "text/plain": [
       "8"
      ]
     },
     "execution_count": 27,
     "metadata": {},
     "output_type": "execute_result"
    }
   ],
   "source": [
    "s.find('is')"
   ]
  },
  {
   "cell_type": "code",
   "execution_count": 29,
   "id": "otherwise-schema",
   "metadata": {},
   "outputs": [
    {
     "data": {
      "text/plain": [
       "3"
      ]
     },
     "execution_count": 29,
     "metadata": {},
     "output_type": "execute_result"
    }
   ],
   "source": [
    "s.find(\"name\")"
   ]
  },
  {
   "cell_type": "code",
   "execution_count": 30,
   "id": "postal-publicity",
   "metadata": {},
   "outputs": [
    {
     "ename": "SyntaxError",
     "evalue": "cannot assign to literal (<ipython-input-30-3343f1a63df6>, line 1)",
     "output_type": "error",
     "traceback": [
      "\u001b[1;36m  File \u001b[1;32m\"<ipython-input-30-3343f1a63df6>\"\u001b[1;36m, line \u001b[1;32m1\u001b[0m\n\u001b[1;33m    for \"name\" in s:\u001b[0m\n\u001b[1;37m        ^\u001b[0m\n\u001b[1;31mSyntaxError\u001b[0m\u001b[1;31m:\u001b[0m cannot assign to literal\n"
     ]
    }
   ],
   "source": [
    "for \"name\" in s:\n",
    "    print(name)"
   ]
  },
  {
   "cell_type": "markdown",
   "id": "593c2ab7",
   "metadata": {},
   "source": [
    "### Finding the number of position data present in string"
   ]
  },
  {
   "cell_type": "code",
   "execution_count": 31,
   "id": "front-mainstream",
   "metadata": {},
   "outputs": [
    {
     "name": "stdout",
     "output_type": "stream",
     "text": [
      "3\n",
      "4\n",
      "5\n",
      "6\n"
     ]
    }
   ],
   "source": [
    "n=s.find(\"name\")\n",
    "for i in range(len(\"name\")):\n",
    "    print(n+i)"
   ]
  },
  {
   "cell_type": "markdown",
   "id": "f7628bad",
   "metadata": {},
   "source": [
    "### count the number of word present in string"
   ]
  },
  {
   "cell_type": "code",
   "execution_count": 32,
   "id": "removed-elephant",
   "metadata": {},
   "outputs": [
    {
     "data": {
      "text/plain": [
       "2"
      ]
     },
     "execution_count": 32,
     "metadata": {},
     "output_type": "execute_result"
    }
   ],
   "source": [
    "s.count('is')"
   ]
  },
  {
   "cell_type": "code",
   "execution_count": 33,
   "id": "smaller-gibraltar",
   "metadata": {},
   "outputs": [
    {
     "data": {
      "text/plain": [
       "2"
      ]
     },
     "execution_count": 33,
     "metadata": {},
     "output_type": "execute_result"
    }
   ],
   "source": [
    "s.count('name')"
   ]
  },
  {
   "cell_type": "markdown",
   "id": "spiritual-liverpool",
   "metadata": {},
   "source": [
    "* count is case sensitive"
   ]
  },
  {
   "cell_type": "markdown",
   "id": "e3f7569b",
   "metadata": {},
   "source": [
    "### Break the data in specific manner "
   ]
  },
  {
   "cell_type": "code",
   "execution_count": 34,
   "id": "steady-ratio",
   "metadata": {},
   "outputs": [
    {
     "data": {
      "text/plain": [
       "['my', 'name', 'is', 'itnesh', 'kumar,', 'name', 'or', 'org', 'is', 'ineuron']"
      ]
     },
     "execution_count": 34,
     "metadata": {},
     "output_type": "execute_result"
    }
   ],
   "source": [
    "s.split()"
   ]
  },
  {
   "cell_type": "code",
   "execution_count": 35,
   "id": "conceptual-andrew",
   "metadata": {},
   "outputs": [
    {
     "data": {
      "text/plain": [
       "['my ', 'me is itnesh kumar, ', 'me or org is ineuron ']"
      ]
     },
     "execution_count": 35,
     "metadata": {},
     "output_type": "execute_result"
    }
   ],
   "source": [
    "s.split('na')"
   ]
  },
  {
   "cell_type": "markdown",
   "id": "dc27986e",
   "metadata": {},
   "source": [
    "### Conversion of the data in in capital letter or small letter"
   ]
  },
  {
   "cell_type": "code",
   "execution_count": 36,
   "id": "suitable-enzyme",
   "metadata": {},
   "outputs": [
    {
     "data": {
      "text/plain": [
       "'MY NAME IS ITNESH KUMAR, NAME OR ORG IS INEURON '"
      ]
     },
     "execution_count": 36,
     "metadata": {},
     "output_type": "execute_result"
    }
   ],
   "source": [
    "s.upper()"
   ]
  },
  {
   "cell_type": "code",
   "execution_count": 37,
   "id": "extra-piano",
   "metadata": {},
   "outputs": [
    {
     "data": {
      "text/plain": [
       "'my name is itnesh kumar, name or org is ineuron '"
      ]
     },
     "execution_count": 37,
     "metadata": {},
     "output_type": "execute_result"
    }
   ],
   "source": [
    "s.lower()"
   ]
  },
  {
   "cell_type": "markdown",
   "id": "931d14cf",
   "metadata": {},
   "source": [
    "* Inter conversion of small to capital and capital to small"
   ]
  },
  {
   "cell_type": "code",
   "execution_count": 41,
   "id": "accepting-southwest",
   "metadata": {},
   "outputs": [
    {
     "data": {
      "text/plain": [
       "'mY NAME IS ITNESH KUMAR, nAME OR ORG IS INEURON '"
      ]
     },
     "execution_count": 41,
     "metadata": {},
     "output_type": "execute_result"
    }
   ],
   "source": [
    "s.swapcase()"
   ]
  },
  {
   "cell_type": "markdown",
   "id": "f697f881",
   "metadata": {},
   "source": [
    "### Add the gap in data in given string"
   ]
  },
  {
   "cell_type": "code",
   "execution_count": 42,
   "id": "atlantic-invitation",
   "metadata": {},
   "outputs": [
    {
     "data": {
      "text/plain": [
       "'M y   n a m e   i s   i t n e s h   k u m a r ,   N a m e   o r   o r g   i s   i n e u r o n  '"
      ]
     },
     "execution_count": 42,
     "metadata": {},
     "output_type": "execute_result"
    }
   ],
   "source": [
    "\" \".join(s)"
   ]
  },
  {
   "cell_type": "code",
   "execution_count": 44,
   "id": "natural-skirt",
   "metadata": {},
   "outputs": [
    {
     "data": {
      "text/plain": [
       "'MFyF FnFaFmFeF FiFsF FiFtFnFeFsFhF FkFuFmFaFrF,F FNFaFmFeF FoFrF FoFrFgF FiFsF FiFnFeFuFrFoFnF '"
      ]
     },
     "execution_count": 44,
     "metadata": {},
     "output_type": "execute_result"
    }
   ],
   "source": [
    "\"F\".join(s)"
   ]
  },
  {
   "cell_type": "code",
   "execution_count": 45,
   "id": "mathematical-guatemala",
   "metadata": {},
   "outputs": [
    {
     "data": {
      "text/plain": [
       "<reversed at 0x2383ac68610>"
      ]
     },
     "execution_count": 45,
     "metadata": {},
     "output_type": "execute_result"
    }
   ],
   "source": [
    "reversed(s)"
   ]
  },
  {
   "cell_type": "code",
   "execution_count": 46,
   "id": "planned-bonus",
   "metadata": {},
   "outputs": [
    {
     "data": {
      "text/plain": [
       "[' ',\n",
       " 'n',\n",
       " 'o',\n",
       " 'r',\n",
       " 'u',\n",
       " 'e',\n",
       " 'n',\n",
       " 'i',\n",
       " ' ',\n",
       " 's',\n",
       " 'i',\n",
       " ' ',\n",
       " 'g',\n",
       " 'r',\n",
       " 'o',\n",
       " ' ',\n",
       " 'r',\n",
       " 'o',\n",
       " ' ',\n",
       " 'e',\n",
       " 'm',\n",
       " 'a',\n",
       " 'N',\n",
       " ' ',\n",
       " ',',\n",
       " 'r',\n",
       " 'a',\n",
       " 'm',\n",
       " 'u',\n",
       " 'k',\n",
       " ' ',\n",
       " 'h',\n",
       " 's',\n",
       " 'e',\n",
       " 'n',\n",
       " 't',\n",
       " 'i',\n",
       " ' ',\n",
       " 's',\n",
       " 'i',\n",
       " ' ',\n",
       " 'e',\n",
       " 'm',\n",
       " 'a',\n",
       " 'n',\n",
       " ' ',\n",
       " 'y',\n",
       " 'M']"
      ]
     },
     "execution_count": 46,
     "metadata": {},
     "output_type": "execute_result"
    }
   ],
   "source": [
    "list(reversed(s))"
   ]
  },
  {
   "cell_type": "code",
   "execution_count": 47,
   "id": "micro-heading",
   "metadata": {},
   "outputs": [
    {
     "name": "stdout",
     "output_type": "stream",
     "text": [
      " \n",
      "n\n",
      "o\n",
      "r\n",
      "u\n",
      "e\n",
      "n\n",
      "i\n",
      " \n",
      "s\n",
      "i\n",
      " \n",
      "g\n",
      "r\n",
      "o\n",
      " \n",
      "r\n",
      "o\n",
      " \n",
      "e\n",
      "m\n",
      "a\n",
      "N\n",
      " \n",
      ",\n",
      "r\n",
      "a\n",
      "m\n",
      "u\n",
      "k\n",
      " \n",
      "h\n",
      "s\n",
      "e\n",
      "n\n",
      "t\n",
      "i\n",
      " \n",
      "s\n",
      "i\n",
      " \n",
      "e\n",
      "m\n",
      "a\n",
      "n\n",
      " \n",
      "y\n",
      "M\n"
     ]
    }
   ],
   "source": [
    "for i in reversed(s):\n",
    "    print(i)"
   ]
  },
  {
   "cell_type": "code",
   "execution_count": 48,
   "id": "patient-armor",
   "metadata": {},
   "outputs": [],
   "source": [
    "g=\"   itnesh\""
   ]
  },
  {
   "cell_type": "code",
   "execution_count": 49,
   "id": "tough-electronics",
   "metadata": {},
   "outputs": [
    {
     "data": {
      "text/plain": [
       "'   itnesh'"
      ]
     },
     "execution_count": 49,
     "metadata": {},
     "output_type": "execute_result"
    }
   ],
   "source": [
    "g"
   ]
  },
  {
   "cell_type": "code",
   "execution_count": 50,
   "id": "cubic-participant",
   "metadata": {},
   "outputs": [
    {
     "data": {
      "text/plain": [
       "'itnesh'"
      ]
     },
     "execution_count": 50,
     "metadata": {},
     "output_type": "execute_result"
    }
   ],
   "source": [
    "g.strip()"
   ]
  },
  {
   "cell_type": "code",
   "execution_count": 51,
   "id": "detected-parent",
   "metadata": {},
   "outputs": [
    {
     "data": {
      "text/plain": [
       "'itnes   h'"
      ]
     },
     "execution_count": 51,
     "metadata": {},
     "output_type": "execute_result"
    }
   ],
   "source": [
    "d=\"   itnes   h\"\n",
    "d.strip()"
   ]
  },
  {
   "cell_type": "code",
   "execution_count": 52,
   "id": "frequent-fantasy",
   "metadata": {},
   "outputs": [],
   "source": [
    "s=\"greating from ineuron\""
   ]
  },
  {
   "cell_type": "code",
   "execution_count": 54,
   "id": "industrial-burden",
   "metadata": {},
   "outputs": [
    {
     "data": {
      "text/plain": [
       "'sreeating from ineuron'"
      ]
     },
     "execution_count": 54,
     "metadata": {},
     "output_type": "execute_result"
    }
   ],
   "source": [
    "s.replace('gr','sre')"
   ]
  },
  {
   "cell_type": "code",
   "execution_count": 55,
   "id": "dried-mercury",
   "metadata": {},
   "outputs": [
    {
     "data": {
      "text/plain": [
       "'greating from ineuron'"
      ]
     },
     "execution_count": 55,
     "metadata": {},
     "output_type": "execute_result"
    }
   ],
   "source": [
    "s"
   ]
  },
  {
   "cell_type": "code",
   "execution_count": 58,
   "id": "associate-permission",
   "metadata": {},
   "outputs": [],
   "source": [
    "s=\"itnesh\""
   ]
  },
  {
   "cell_type": "code",
   "execution_count": 59,
   "id": "regional-substitute",
   "metadata": {},
   "outputs": [
    {
     "data": {
      "text/plain": [
       "'vvvvvvvvvitneshvvvvvvvv'"
      ]
     },
     "execution_count": 59,
     "metadata": {},
     "output_type": "execute_result"
    }
   ],
   "source": [
    "s.center(23,'v')"
   ]
  },
  {
   "cell_type": "code",
   "execution_count": 64,
   "id": "cheap-mechanism",
   "metadata": {},
   "outputs": [],
   "source": [
    "s=\"itnesh\\tkumar\""
   ]
  },
  {
   "cell_type": "code",
   "execution_count": 65,
   "id": "descending-backing",
   "metadata": {},
   "outputs": [
    {
     "data": {
      "text/plain": [
       "'itnesh\\tkumar'"
      ]
     },
     "execution_count": 65,
     "metadata": {},
     "output_type": "execute_result"
    }
   ],
   "source": [
    "s"
   ]
  },
  {
   "cell_type": "code",
   "execution_count": 66,
   "id": "outer-payroll",
   "metadata": {},
   "outputs": [],
   "source": [
    "s=\"irtnesh\\tkumar\""
   ]
  },
  {
   "cell_type": "code",
   "execution_count": 67,
   "id": "vanilla-transmission",
   "metadata": {},
   "outputs": [
    {
     "data": {
      "text/plain": [
       "'irtnesh\\tkumar'"
      ]
     },
     "execution_count": 67,
     "metadata": {},
     "output_type": "execute_result"
    }
   ],
   "source": [
    "s"
   ]
  },
  {
   "cell_type": "code",
   "execution_count": 70,
   "id": "wired-ministry",
   "metadata": {},
   "outputs": [
    {
     "data": {
      "text/plain": [
       "'irtnesh kumar'"
      ]
     },
     "execution_count": 70,
     "metadata": {},
     "output_type": "execute_result"
    }
   ],
   "source": [
    "s.expandtabs()"
   ]
  },
  {
   "cell_type": "code",
   "execution_count": 81,
   "id": "romantic-wheat",
   "metadata": {},
   "outputs": [],
   "source": [
    "a=\"we all are a part of Full Stack\""
   ]
  },
  {
   "cell_type": "code",
   "execution_count": 83,
   "id": "sharp-subsection",
   "metadata": {},
   "outputs": [],
   "source": [
    "b=a.lower()"
   ]
  },
  {
   "cell_type": "code",
   "execution_count": 84,
   "id": "equivalent-illinois",
   "metadata": {},
   "outputs": [
    {
     "data": {
      "text/plain": [
       "5"
      ]
     },
     "execution_count": 84,
     "metadata": {},
     "output_type": "execute_result"
    }
   ],
   "source": [
    "b.count('a')"
   ]
  },
  {
   "cell_type": "code",
   "execution_count": 85,
   "id": "divine-archive",
   "metadata": {},
   "outputs": [
    {
     "data": {
      "text/plain": [
       "3"
      ]
     },
     "execution_count": 85,
     "metadata": {},
     "output_type": "execute_result"
    }
   ],
   "source": [
    "b.find('a')"
   ]
  },
  {
   "cell_type": "code",
   "execution_count": 89,
   "id": "intimate-robertson",
   "metadata": {},
   "outputs": [
    {
     "data": {
      "text/plain": [
       "'we ineuronll ineuronre ineuron pineuronrt of full stineuronck'"
      ]
     },
     "execution_count": 89,
     "metadata": {},
     "output_type": "execute_result"
    }
   ],
   "source": [
    "b.replace('a','ineuron')"
   ]
  },
  {
   "cell_type": "code",
   "execution_count": 90,
   "id": "fatty-going",
   "metadata": {},
   "outputs": [
    {
     "data": {
      "text/plain": [
       "['we', 'all', 'are', 'a', 'part', 'of', 'full', 'stack']"
      ]
     },
     "execution_count": 90,
     "metadata": {},
     "output_type": "execute_result"
    }
   ],
   "source": [
    "b.split(' ')"
   ]
  },
  {
   "cell_type": "code",
   "execution_count": 95,
   "id": "built-communication",
   "metadata": {},
   "outputs": [
    {
     "name": "stdout",
     "output_type": "stream",
     "text": [
      "3\n",
      "7\n",
      "11\n",
      "14\n",
      "28\n"
     ]
    }
   ],
   "source": [
    "for i in range(len(a)):\n",
    "    if a[i]==\"a\":\n",
    "        print(i)\n",
    "    "
   ]
  },
  {
   "cell_type": "code",
   "execution_count": 112,
   "id": "departmental-characterization",
   "metadata": {},
   "outputs": [],
   "source": [
    "s='Lower'"
   ]
  },
  {
   "cell_type": "code",
   "execution_count": 97,
   "id": "hearing-mixer",
   "metadata": {},
   "outputs": [
    {
     "data": {
      "text/plain": [
       "False"
      ]
     },
     "execution_count": 97,
     "metadata": {},
     "output_type": "execute_result"
    }
   ],
   "source": [
    "s.isupper()"
   ]
  },
  {
   "cell_type": "code",
   "execution_count": 99,
   "id": "tropical-resource",
   "metadata": {},
   "outputs": [
    {
     "data": {
      "text/plain": [
       "True"
      ]
     },
     "execution_count": 99,
     "metadata": {},
     "output_type": "execute_result"
    }
   ],
   "source": [
    "s.isupper()"
   ]
  },
  {
   "cell_type": "code",
   "execution_count": 108,
   "id": "nutritional-funds",
   "metadata": {},
   "outputs": [
    {
     "data": {
      "text/plain": [
       "True"
      ]
     },
     "execution_count": 108,
     "metadata": {},
     "output_type": "execute_result"
    }
   ],
   "source": [
    "s.endswith('R')"
   ]
  },
  {
   "cell_type": "code",
   "execution_count": 107,
   "id": "federal-alcohol",
   "metadata": {},
   "outputs": [
    {
     "data": {
      "text/plain": [
       "True"
      ]
     },
     "execution_count": 107,
     "metadata": {},
     "output_type": "execute_result"
    }
   ],
   "source": [
    "s.startswith(\"L\")"
   ]
  },
  {
   "cell_type": "code",
   "execution_count": 110,
   "id": "eastern-resident",
   "metadata": {},
   "outputs": [
    {
     "data": {
      "text/plain": [
       "True"
      ]
     },
     "execution_count": 110,
     "metadata": {},
     "output_type": "execute_result"
    }
   ],
   "source": [
    "s.isalpha()"
   ]
  },
  {
   "cell_type": "code",
   "execution_count": 113,
   "id": "excited-kennedy",
   "metadata": {},
   "outputs": [
    {
     "data": {
      "text/plain": [
       "True"
      ]
     },
     "execution_count": 113,
     "metadata": {},
     "output_type": "execute_result"
    }
   ],
   "source": [
    "s.istitle()"
   ]
  },
  {
   "cell_type": "code",
   "execution_count": 115,
   "id": "bulgarian-stereo",
   "metadata": {},
   "outputs": [
    {
     "name": "stdout",
     "output_type": "stream",
     "text": [
      "w\n",
      "k\n",
      "c\n",
      "a\n",
      "t\n",
      "S\n",
      " \n",
      "l\n",
      "l\n",
      "u\n",
      "F\n",
      " \n",
      "f\n",
      "o\n",
      " \n",
      "t\n",
      "r\n",
      "a\n",
      "p\n",
      " \n",
      "a\n",
      " \n",
      "e\n",
      "r\n",
      "a\n",
      " \n",
      "l\n",
      "l\n",
      "a\n",
      " \n",
      "e\n"
     ]
    }
   ],
   "source": [
    "for i in range(len(a)):\n",
    "    print(a[-i])"
   ]
  },
  {
   "cell_type": "code",
   "execution_count": 117,
   "id": "israeli-rings",
   "metadata": {},
   "outputs": [
    {
     "name": "stdout",
     "output_type": "stream",
     "text": [
      "r\n",
      "e\n",
      "w\n",
      "o\n",
      "L\n"
     ]
    }
   ],
   "source": [
    "ch=len(s)-1\n",
    "while ch>=0:\n",
    "    print(s[ch])\n",
    "    ch=ch-1"
   ]
  },
  {
   "cell_type": "code",
   "execution_count": 118,
   "id": "residential-piano",
   "metadata": {},
   "outputs": [
    {
     "name": "stdout",
     "output_type": "stream",
     "text": [
      "i is a vowel\n",
      "n is not a vowel\n",
      "e is a vowel\n",
      "r is not a vowel\n",
      "u is a vowel\n",
      "o is a vowel\n",
      "n is not a vowel\n"
     ]
    }
   ],
   "source": [
    "name = \"ineruon\"\n",
    "vowels = \"AaEeIiOoUu\"\n",
    "\n",
    "for i in name :\n",
    "    if i in vowels:\n",
    "        print(\"{} is a vowel\".format(i))\n",
    "    else :\n",
    "        print(\"{} is not a vowel\".format(i))\n",
    "\n",
    "        "
   ]
  },
  {
   "cell_type": "code",
   "execution_count": 120,
   "id": "departmental-manufacturer",
   "metadata": {},
   "outputs": [
    {
     "name": "stdout",
     "output_type": "stream",
     "text": [
      "enter your first namerohan\n",
      "enter your last namesharma\n",
      "my name is rohan sharma\n"
     ]
    }
   ],
   "source": [
    "a=input('enter your first name')\n",
    "b=input('enter your last name')\n",
    "print('my name is {} {}'.format(a,b))"
   ]
  },
  {
   "cell_type": "code",
   "execution_count": 123,
   "id": "regulation-boost",
   "metadata": {},
   "outputs": [
    {
     "name": "stdout",
     "output_type": "stream",
     "text": [
      "enter your data for which like to checklevel\n"
     ]
    }
   ],
   "source": [
    "a=input('enter your data for which like to check')"
   ]
  },
  {
   "cell_type": "markdown",
   "id": "modern-warrant",
   "metadata": {},
   "source": [
    "### this is palindrom check"
   ]
  },
  {
   "cell_type": "code",
   "execution_count": 124,
   "id": "flying-technical",
   "metadata": {},
   "outputs": [
    {
     "name": "stdout",
     "output_type": "stream",
     "text": [
      "same\n"
     ]
    }
   ],
   "source": [
    "a=input('enter your data for which like to check')\n",
    "b=a[::-1]\n",
    "if b==a:\n",
    "    print('same')\n",
    "else:\n",
    "    print('not same')"
   ]
  },
  {
   "cell_type": "markdown",
   "id": "operating-conservation",
   "metadata": {},
   "source": [
    "* whenever the data type is not same of two variable"
   ]
  },
  {
   "cell_type": "code",
   "execution_count": 125,
   "id": "wired-india",
   "metadata": {},
   "outputs": [],
   "source": [
    "s='itnesh'\n",
    "g=['itnesh',78]"
   ]
  },
  {
   "cell_type": "code",
   "execution_count": 127,
   "id": "collectible-desire",
   "metadata": {},
   "outputs": [
    {
     "ename": "TypeError",
     "evalue": "can only concatenate str (not \"list\") to str",
     "output_type": "error",
     "traceback": [
      "\u001b[1;31m---------------------------------------------------------------------------\u001b[0m",
      "\u001b[1;31mTypeError\u001b[0m                                 Traceback (most recent call last)",
      "\u001b[1;32m<ipython-input-127-56cab38b886f>\u001b[0m in \u001b[0;36m<module>\u001b[1;34m\u001b[0m\n\u001b[1;32m----> 1\u001b[1;33m \u001b[0ms\u001b[0m\u001b[1;33m+\u001b[0m\u001b[0mg\u001b[0m\u001b[1;33m\u001b[0m\u001b[1;33m\u001b[0m\u001b[0m\n\u001b[0m",
      "\u001b[1;31mTypeError\u001b[0m: can only concatenate str (not \"list\") to str"
     ]
    }
   ],
   "source": [
    "s+g"
   ]
  },
  {
   "cell_type": "code",
   "execution_count": 129,
   "id": "affected-station",
   "metadata": {},
   "outputs": [
    {
     "data": {
      "text/plain": [
       "['i', 't', 'n', 'e', 's', 'h', 'itnesh', 78]"
      ]
     },
     "execution_count": 129,
     "metadata": {},
     "output_type": "execute_result"
    }
   ],
   "source": [
    "list(s)+g"
   ]
  },
  {
   "cell_type": "code",
   "execution_count": 130,
   "id": "spatial-headset",
   "metadata": {},
   "outputs": [
    {
     "data": {
      "text/plain": [
       "['itnesh',\n",
       " 78,\n",
       " 'itnesh',\n",
       " 78,\n",
       " 'itnesh',\n",
       " 78,\n",
       " 'itnesh',\n",
       " 78,\n",
       " 'itnesh',\n",
       " 78,\n",
       " 'itnesh',\n",
       " 78]"
      ]
     },
     "execution_count": 130,
     "metadata": {},
     "output_type": "execute_result"
    }
   ],
   "source": [
    "g*6"
   ]
  },
  {
   "cell_type": "code",
   "execution_count": 131,
   "id": "amended-compatibility",
   "metadata": {},
   "outputs": [
    {
     "data": {
      "text/plain": [
       "True"
      ]
     },
     "execution_count": 131,
     "metadata": {},
     "output_type": "execute_result"
    }
   ],
   "source": [
    "'itnesh' in g"
   ]
  },
  {
   "cell_type": "code",
   "execution_count": 132,
   "id": "charged-israel",
   "metadata": {},
   "outputs": [
    {
     "data": {
      "text/plain": [
       "False"
      ]
     },
     "execution_count": 132,
     "metadata": {},
     "output_type": "execute_result"
    }
   ],
   "source": [
    "8 in g"
   ]
  },
  {
   "cell_type": "code",
   "execution_count": 133,
   "id": "narrow-mexican",
   "metadata": {},
   "outputs": [
    {
     "data": {
      "text/plain": [
       "False"
      ]
     },
     "execution_count": 133,
     "metadata": {},
     "output_type": "execute_result"
    }
   ],
   "source": [
    "b.isdigit()"
   ]
  },
  {
   "cell_type": "code",
   "execution_count": 142,
   "id": "similar-ecuador",
   "metadata": {},
   "outputs": [],
   "source": [
    "b='9'"
   ]
  },
  {
   "cell_type": "code",
   "execution_count": 143,
   "id": "distributed-occasions",
   "metadata": {},
   "outputs": [
    {
     "data": {
      "text/plain": [
       "True"
      ]
     },
     "execution_count": 143,
     "metadata": {},
     "output_type": "execute_result"
    }
   ],
   "source": [
    "b.isdigit()"
   ]
  },
  {
   "cell_type": "code",
   "execution_count": null,
   "id": "periodic-absolute",
   "metadata": {},
   "outputs": [],
   "source": []
  }
 ],
 "metadata": {
  "kernelspec": {
   "display_name": "Python 3",
   "language": "python",
   "name": "python3"
  },
  "language_info": {
   "codemirror_mode": {
    "name": "ipython",
    "version": 3
   },
   "file_extension": ".py",
   "mimetype": "text/x-python",
   "name": "python",
   "nbconvert_exporter": "python",
   "pygments_lexer": "ipython3",
   "version": "3.6.8"
  }
 },
 "nbformat": 4,
 "nbformat_minor": 5
}
