{
 "cells": [
  {
   "cell_type": "code",
   "execution_count": 1,
   "id": "3198fe05",
   "metadata": {},
   "outputs": [
    {
     "name": "stdout",
     "output_type": "stream",
     "text": [
      "Requirement already satisfied: mysql-connector-python in c:\\users\\itnes\\appdata\\local\\programs\\python\\python36\\lib\\site-packages (8.0.24)\n",
      "Requirement already satisfied: protobuf>=3.0.0 in c:\\users\\itnes\\appdata\\local\\programs\\python\\python36\\lib\\site-packages (from mysql-connector-python) (3.17.0)\n",
      "Requirement already satisfied: six>=1.9 in c:\\users\\itnes\\appdata\\local\\programs\\python\\python36\\lib\\site-packages (from protobuf>=3.0.0->mysql-connector-python) (1.15.0)\n"
     ]
    }
   ],
   "source": [
    "!pip install mysql-connector-python\n"
   ]
  },
  {
   "cell_type": "code",
   "execution_count": 2,
   "id": "a794c18b",
   "metadata": {},
   "outputs": [],
   "source": [
    "import mysql.connector as connection"
   ]
  },
  {
   "cell_type": "code",
   "execution_count": 3,
   "id": "8fc33137",
   "metadata": {},
   "outputs": [
    {
     "name": "stdout",
     "output_type": "stream",
     "text": [
      "[('information_schema',), ('mysql',), ('performance_schema',), ('sakila',), ('sys',), ('world',)]\n"
     ]
    }
   ],
   "source": [
    "try:\n",
    "    mydb=connection.connect(host='localhost',user='root',passwd='mysql',use_pure=True)\n",
    "    #check if the connection is established\n",
    "    query='SHOW DATABASES'\n",
    "    cursor=mydb.cursor()# create the cursor to execute queries\n",
    "    cursor.execute(query)\n",
    "    print(cursor.fetchall())\n",
    "except Exception as e:\n",
    "    mydb.close()\n",
    "    print(str(e))"
   ]
  },
  {
   "cell_type": "code",
   "execution_count": 21,
   "id": "f63e769d",
   "metadata": {},
   "outputs": [],
   "source": [
    "conn=connection.connect(host='localhost',user='root',passwd='mysql',use_pure=True)"
   ]
  },
  {
   "cell_type": "code",
   "execution_count": 22,
   "id": "7c5d8d9d",
   "metadata": {},
   "outputs": [],
   "source": [
    "cur=conn.cursor()"
   ]
  },
  {
   "cell_type": "code",
   "execution_count": 23,
   "id": "1bb9e11d",
   "metadata": {},
   "outputs": [],
   "source": [
    "cur.execute('show Databases')"
   ]
  },
  {
   "cell_type": "code",
   "execution_count": 24,
   "id": "08c3498d",
   "metadata": {},
   "outputs": [],
   "source": [
    "res=cur.fetchall()"
   ]
  },
  {
   "cell_type": "code",
   "execution_count": 25,
   "id": "89f9b2bc",
   "metadata": {},
   "outputs": [
    {
     "data": {
      "text/plain": [
       "[('information_schema',),\n",
       " ('mysql',),\n",
       " ('performance_schema',),\n",
       " ('sakila',),\n",
       " ('sys',),\n",
       " ('world',)]"
      ]
     },
     "execution_count": 25,
     "metadata": {},
     "output_type": "execute_result"
    }
   ],
   "source": [
    "res"
   ]
  },
  {
   "cell_type": "code",
   "execution_count": 29,
   "id": "86472293",
   "metadata": {},
   "outputs": [
    {
     "data": {
      "text/plain": [
       "'mysql'"
      ]
     },
     "execution_count": 29,
     "metadata": {},
     "output_type": "execute_result"
    }
   ],
   "source": [
    "res[1][0]"
   ]
  },
  {
   "cell_type": "code",
   "execution_count": 30,
   "id": "5051dda0",
   "metadata": {},
   "outputs": [
    {
     "name": "stdout",
     "output_type": "stream",
     "text": [
      "information_schema\n",
      "mysql\n",
      "performance_schema\n",
      "sakila\n",
      "sys\n",
      "world\n"
     ]
    }
   ],
   "source": [
    "for i in res:\n",
    "    print(i[0])"
   ]
  },
  {
   "cell_type": "code",
   "execution_count": 31,
   "id": "59654a20",
   "metadata": {},
   "outputs": [],
   "source": [
    "#create the database"
   ]
  },
  {
   "cell_type": "code",
   "execution_count": 33,
   "id": "2f7b7ed9",
   "metadata": {},
   "outputs": [],
   "source": [
    "cur.execute('create database Itnesh1234')"
   ]
  },
  {
   "cell_type": "code",
   "execution_count": 34,
   "id": "6eef1ada",
   "metadata": {},
   "outputs": [
    {
     "data": {
      "text/plain": [
       "[('information_schema',),\n",
       " ('mysql',),\n",
       " ('performance_schema',),\n",
       " ('sakila',),\n",
       " ('sys',),\n",
       " ('world',)]"
      ]
     },
     "execution_count": 34,
     "metadata": {},
     "output_type": "execute_result"
    }
   ],
   "source": []
  },
  {
   "cell_type": "code",
   "execution_count": 35,
   "id": "dc1c3ca5",
   "metadata": {},
   "outputs": [
    {
     "name": "stdout",
     "output_type": "stream",
     "text": [
      "[('information_schema',), ('itnesh1234',), ('mysql',), ('performance_schema',), ('sakila',), ('sys',), ('test123',), ('world',)]\n"
     ]
    }
   ],
   "source": [
    "try:\n",
    "    mydb=connection.connect(host='localhost',user='root',passwd='mysql',use_pure=True)\n",
    "    #check if the connection is established\n",
    "    query='SHOW DATABASES'\n",
    "    cursor=mydb.cursor()# create the cursor to execute queries\n",
    "    cursor.execute(query)\n",
    "    print(cursor.fetchall())\n",
    "except Exception as e:\n",
    "    mydb.close()\n",
    "    print(str(e))"
   ]
  },
  {
   "cell_type": "code",
   "execution_count": null,
   "id": "20d55df0",
   "metadata": {},
   "outputs": [],
   "source": [
    "!python -m pip install pymongo\n"
   ]
  }
 ],
 "metadata": {
  "kernelspec": {
   "display_name": "Python 3",
   "language": "python",
   "name": "python3"
  },
  "language_info": {
   "codemirror_mode": {
    "name": "ipython",
    "version": 3
   },
   "file_extension": ".py",
   "mimetype": "text/x-python",
   "name": "python",
   "nbconvert_exporter": "python",
   "pygments_lexer": "ipython3",
   "version": "3.6.8"
  }
 },
 "nbformat": 4,
 "nbformat_minor": 5
}
