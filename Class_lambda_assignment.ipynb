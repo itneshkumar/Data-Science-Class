{
 "cells": [
  {
   "cell_type": "code",
   "execution_count": 1,
   "metadata": {},
   "outputs": [
    {
     "data": {
      "text/plain": [
       "['.idea',\n",
       " '.ipynb_checkpoints',\n",
       " '20210509.ipynb',\n",
       " '20210515.ipynb',\n",
       " '20210516.ipynb',\n",
       " '22052021.ipynb',\n",
       " 'addition.py',\n",
       " 'addition.py.ipynb',\n",
       " 'Assignment',\n",
       " 'Class_lambda_assignment.ipynb',\n",
       " 'djangofile',\n",
       " 'Exception.ipynb',\n",
       " 'kivy.py',\n",
       " 'logging',\n",
       " 'Logging.ipynb',\n",
       " 'modules and exception.ipynb',\n",
       " 'New_folder_for_function_fileModule1',\n",
       " 'numpy_krish_naik.ipynb',\n",
       " 'opps.ipynb',\n",
       " 'os_module.ipynb',\n",
       " 'pandas',\n",
       " 'pandas.ipynb',\n",
       " 'power.py',\n",
       " 'python basics.ipynb',\n",
       " 'string.ipynb',\n",
       " 'task',\n",
       " 'test',\n",
       " 'test.log',\n",
       " 'test.py',\n",
       " 'test.txt',\n",
       " 'test0.txt',\n",
       " 'test1.py',\n",
       " 'test10.py',\n",
       " 'test5.py',\n",
       " 'test6.py',\n",
       " 'test8.log',\n",
       " 'test9.py',\n",
       " 'Tuple.ipynb',\n",
       " 'Untitled.ipynb',\n",
       " 'Untitled1.ipynb',\n",
       " 'Untitled5.ipynb',\n",
       " 'while_loop.ipynb',\n",
       " '__pycache__']"
      ]
     },
     "execution_count": 1,
     "metadata": {},
     "output_type": "execute_result"
    }
   ],
   "source": [
    "import os\n",
    "os.listdir()"
   ]
  },
  {
   "cell_type": "code",
   "execution_count": 2,
   "metadata": {},
   "outputs": [],
   "source": [
    "os.chdir('C:\\\\Users\\\\itnes\\\\Downloads')"
   ]
  },
  {
   "cell_type": "code",
   "execution_count": 3,
   "metadata": {},
   "outputs": [
    {
     "data": {
      "text/plain": [
       "'C:\\\\Users\\\\itnes\\\\Downloads'"
      ]
     },
     "execution_count": 3,
     "metadata": {},
     "output_type": "execute_result"
    }
   ],
   "source": [
    "pwd()"
   ]
  },
  {
   "cell_type": "code",
   "execution_count": 4,
   "metadata": {},
   "outputs": [
    {
     "data": {
      "text/plain": [
       "['10th certificate_1.jpg',\n",
       " '12+ (2).docx',\n",
       " '19.2.MySQL.7z',\n",
       " '19.3 MongoDB.7z',\n",
       " '2021_05_02_Itnesh.docx',\n",
       " 'Age declaration verified_1.jpg',\n",
       " 'apache-cassandra-3.11.10-bin',\n",
       " 'apache-cassandra-3.11.10-bin.tar',\n",
       " 'apache-cassandra-3.11.10-bin.tar.gz',\n",
       " 'Assignment1.docx',\n",
       " 'Assignment10.docx',\n",
       " 'Assignment11.docx',\n",
       " 'Assignment12.docx',\n",
       " 'Assignment13.docx',\n",
       " 'Assignment14.docx',\n",
       " 'Assignment15.docx',\n",
       " 'Assignment16.docx',\n",
       " 'Assignment17.docx',\n",
       " 'Assignment18.docx',\n",
       " 'Assignment19.docx',\n",
       " 'Assignment2.docx',\n",
       " 'Assignment20.docx',\n",
       " 'Assignment21.docx',\n",
       " 'Assignment22.docx',\n",
       " 'Assignment23.docx',\n",
       " 'Assignment24.docx',\n",
       " 'Assignment25.docx',\n",
       " 'Assignment3.docx',\n",
       " 'Assignment4.docx',\n",
       " 'Assignment5.docx',\n",
       " 'Assignment6.docx',\n",
       " 'Assignment7.docx',\n",
       " 'Assignment8.docx',\n",
       " 'Assignment9.docx',\n",
       " 'Assignment_1 (1).docx',\n",
       " 'Assignment_1 (2).docx',\n",
       " 'Assignment_1.docx',\n",
       " 'Assignment_10 (1).docx',\n",
       " 'Assignment_10.docx',\n",
       " 'Assignment_11 (1).docx',\n",
       " 'Assignment_11.docx',\n",
       " 'Assignment_12 (1).docx',\n",
       " 'Assignment_12.docx',\n",
       " 'Assignment_13 (1).docx',\n",
       " 'Assignment_13.docx',\n",
       " 'Assignment_14 (1).docx',\n",
       " 'Assignment_14.docx',\n",
       " 'Assignment_15 (1).docx',\n",
       " 'Assignment_15.docx',\n",
       " 'Assignment_16 (1).docx',\n",
       " 'Assignment_16.docx',\n",
       " 'Assignment_17 (1).docx',\n",
       " 'Assignment_17.docx',\n",
       " 'Assignment_18 (1).docx',\n",
       " 'Assignment_18.docx',\n",
       " 'Assignment_19 (1).docx',\n",
       " 'Assignment_19.docx',\n",
       " 'Assignment_2 (1).docx',\n",
       " 'Assignment_2.docx',\n",
       " 'Assignment_20 (1).docx',\n",
       " 'Assignment_20.docx',\n",
       " 'Assignment_21 (1).docx',\n",
       " 'Assignment_21.docx',\n",
       " 'Assignment_22 (1).docx',\n",
       " 'Assignment_22.docx',\n",
       " 'Assignment_23 (1).docx',\n",
       " 'Assignment_23.docx',\n",
       " 'Assignment_24 (1).docx',\n",
       " 'Assignment_24.docx',\n",
       " 'Assignment_25 (1).docx',\n",
       " 'Assignment_25.docx',\n",
       " 'Assignment_3 (1).docx',\n",
       " 'Assignment_3.docx',\n",
       " 'Assignment_4 (1).docx',\n",
       " 'Assignment_4.docx',\n",
       " 'Assignment_5 (1).docx',\n",
       " 'Assignment_5.docx',\n",
       " 'Assignment_6 (1).docx',\n",
       " 'Assignment_6.docx',\n",
       " 'Assignment_7 (1).docx',\n",
       " 'Assignment_7.docx',\n",
       " 'Assignment_8 (1).docx',\n",
       " 'Assignment_8.docx',\n",
       " 'Assignment_9 (1).docx',\n",
       " 'Assignment_9.docx',\n",
       " 'BaggageTag.pdf',\n",
       " 'car data.csv',\n",
       " 'Compressed',\n",
       " 'cpu-z_1.96-en.exe',\n",
       " 'Dark Blue and Turquoise Gaming YouTube Channel Art.png',\n",
       " 'desktop.ini',\n",
       " 'Documents',\n",
       " 'download (1).jpg',\n",
       " 'download.html',\n",
       " 'download.jpg',\n",
       " 'flask_demo',\n",
       " 'flask_demo (1)',\n",
       " 'flask_demo (1).7z',\n",
       " 'flask_demo (2).7z',\n",
       " 'flask_demo.7z',\n",
       " 'groom-gentleman-businessman-clothing-vector-23194789.jpg',\n",
       " 'Growth-graph.png',\n",
       " 'hello_world.7z',\n",
       " 'How_to_Win_Friends_and_Influence_People.pdf',\n",
       " 'images.jpg',\n",
       " 'imageScrapper-master.zip',\n",
       " 'ImageScrapper.zip',\n",
       " 'IMG_20210120_223100.jpg',\n",
       " 'IMG_20210401_200920.jpg',\n",
       " 'IMG_20210401_201246.jpg',\n",
       " 'jdk-8u202-windows-x64.exe',\n",
       " 'kali-linux-2020.2a-vbox-amd64.ova',\n",
       " 'Licencee Detail  P9 Itnesh 20210426.xlsx',\n",
       " 'Licencee Detail 24 April 2021 P9 Itnesh.xlsx',\n",
       " 'modules.ipynb',\n",
       " 'mongodb-windows-x86_64-4.4.6-signed.msi',\n",
       " 'ms-python.python-2021.1.502429796.vsix',\n",
       " 'Music',\n",
       " 'NEW RESUME G-converted.docx',\n",
       " 'NOC  All Courses.xlsx',\n",
       " 'OBS-VirtualCam2.0.4-Installer.exe',\n",
       " 'pdfresizer.com-pdf-resize.pdf',\n",
       " 'photo_d.jpg',\n",
       " 'Pink and Purple Sporty Gradient Fitness YouTube Thumbnail.png',\n",
       " 'Postman-win64-8.5.1-Setup.exe',\n",
       " 'presentation.pdf',\n",
       " 'Problem (1).png',\n",
       " 'Problem.png',\n",
       " 'Programming_Assingment1.docx',\n",
       " 'Programming_Assingment10.docx',\n",
       " 'Programming_Assingment11.docx',\n",
       " 'Programming_Assingment12.docx',\n",
       " 'Programming_Assingment13.docx',\n",
       " 'Programming_Assingment14.docx',\n",
       " 'Programming_Assingment15.docx',\n",
       " 'Programming_Assingment16.docx',\n",
       " 'Programming_Assingment17.docx',\n",
       " 'Programming_Assingment18.docx',\n",
       " 'Programming_Assingment19.docx',\n",
       " 'Programming_Assingment2.docx',\n",
       " 'Programming_Assingment20.docx',\n",
       " 'Programming_Assingment21.docx',\n",
       " 'Programming_Assingment22.docx',\n",
       " 'Programming_Assingment23.docx',\n",
       " 'Programming_Assingment24.docx',\n",
       " 'Programming_Assingment25.docx',\n",
       " 'Programming_Assingment3.docx',\n",
       " 'Programming_Assingment4.docx',\n",
       " 'Programming_Assingment5.docx',\n",
       " 'Programming_Assingment6.docx',\n",
       " 'Programming_Assingment7.docx',\n",
       " 'Programming_Assingment8.docx',\n",
       " 'Programming_Assingment9.docx',\n",
       " 'Programs',\n",
       " 'Rachit_CV.doc',\n",
       " 'Rajastha Wine Shop 24 April 2021 P18 Itnesh.xlsx',\n",
       " 'sample-excel-master',\n",
       " 'sample-excel-master.zip',\n",
       " 'sign_D.jpg',\n",
       " 'SSMS-Setup-ENU.exe',\n",
       " 'SubCentres 07 May 2021 Loc CHK Itnesh.xlsx',\n",
       " 'SubCentres 07 May 2021 P005 Itnesh.csv',\n",
       " 'thrift-0.14.1.exe',\n",
       " 'Top Repositories by topic - ajax.csv',\n",
       " 'ubuntu-20.04-desktop-amd64.iso',\n",
       " 'Untitled5.ipynb',\n",
       " 'Untitled5.py',\n",
       " 'UP Wine_Beer_Shop 24 April 2021 P32 Itnesh.xlsx',\n",
       " 'UP Wine_Beer_Shop 24 April 2021 P59 Itnesh.xlsx',\n",
       " 'Video',\n",
       " 'VSCodeSetup-x64-1.54.1.exe',\n",
       " 'web-scrapping.py',\n",
       " 'West Bengal Wine Selling Points P11 Itnesh.xlsx',\n",
       " '~$test.docx']"
      ]
     },
     "execution_count": 4,
     "metadata": {},
     "output_type": "execute_result"
    }
   ],
   "source": [
    "os.listdir()"
   ]
  },
  {
   "cell_type": "code",
   "execution_count": 5,
   "metadata": {},
   "outputs": [
    {
     "ename": "ModuleNotFoundError",
     "evalue": "No module named 'docx'",
     "output_type": "error",
     "traceback": [
      "\u001b[1;31m---------------------------------------------------------------------------\u001b[0m",
      "\u001b[1;31mModuleNotFoundError\u001b[0m                       Traceback (most recent call last)",
      "\u001b[1;32m<ipython-input-5-e6066dff948a>\u001b[0m in \u001b[0;36m<module>\u001b[1;34m\u001b[0m\n\u001b[1;32m----> 1\u001b[1;33m \u001b[1;32mimport\u001b[0m \u001b[0mdocx\u001b[0m\u001b[1;33m\u001b[0m\u001b[1;33m\u001b[0m\u001b[0m\n\u001b[0m\u001b[0;32m      2\u001b[0m \u001b[0mf\u001b[0m\u001b[1;33m=\u001b[0m\u001b[0mdocx\u001b[0m\u001b[1;33m.\u001b[0m\u001b[0mDocument\u001b[0m\u001b[1;33m(\u001b[0m\u001b[1;33m)\u001b[0m\u001b[1;33m\u001b[0m\u001b[1;33m\u001b[0m\u001b[0m\n",
      "\u001b[1;31mModuleNotFoundError\u001b[0m: No module named 'docx'"
     ]
    }
   ],
   "source": [
    "import docx\n",
    "f=docx.Document()\n"
   ]
  },
  {
   "cell_type": "code",
   "execution_count": null,
   "metadata": {},
   "outputs": [],
   "source": [
    "inde=1\n",
    "while inde<26:\n",
    "    f=docx.Document()\n",
    "        print('\\n Assignment',inde,'is') \n",
    "        print(i.text)\n",
    "        f.save('test.docx')"
   ]
  },
  {
   "cell_type": "code",
   "execution_count": null,
   "metadata": {},
   "outputs": [],
   "source": [
    "print(type('Assignment_24.docx'))"
   ]
  },
  {
   "cell_type": "code",
   "execution_count": null,
   "metadata": {},
   "outputs": [],
   "source": [
    "for file in os.listdir():\n",
    "    if file.startswith('Assignment'):\n",
    "        print('pass')"
   ]
  },
  {
   "cell_type": "code",
   "execution_count": null,
   "metadata": {},
   "outputs": [],
   "source": []
  },
  {
   "cell_type": "code",
   "execution_count": null,
   "metadata": {},
   "outputs": [],
   "source": []
  }
 ],
 "metadata": {
  "kernelspec": {
   "display_name": "Python 3",
   "language": "python",
   "name": "python3"
  },
  "language_info": {
   "codemirror_mode": {
    "name": "ipython",
    "version": 3
   },
   "file_extension": ".py",
   "mimetype": "text/x-python",
   "name": "python",
   "nbconvert_exporter": "python",
   "pygments_lexer": "ipython3",
   "version": "3.8.5"
  }
 },
 "nbformat": 4,
 "nbformat_minor": 5
}
