{
 "cells": [
  {
   "cell_type": "code",
   "execution_count": 1,
   "metadata": {},
   "outputs": [],
   "source": [
    "import numpy as np\n",
    "A=np.array([\n",
    "    [3, 7],\n",
    "    [-4, -6],\n",
    "    [7, 8],\n",
    "    [1, -1],\n",
    "    [-4, -1],\n",
    "    [-3, -7]\n",
    "    ])"
   ]
  },
  {
   "cell_type": "code",
   "execution_count": 2,
   "metadata": {},
   "outputs": [
    {
     "data": {
      "text/plain": [
       "array([[ 3,  7],\n",
       "       [-4, -6],\n",
       "       [ 7,  8],\n",
       "       [ 1, -1],\n",
       "       [-4, -1],\n",
       "       [-3, -7]])"
      ]
     },
     "execution_count": 2,
     "metadata": {},
     "output_type": "execute_result"
    }
   ],
   "source": [
    "A"
   ]
  },
  {
   "cell_type": "code",
   "execution_count": 3,
   "metadata": {},
   "outputs": [
    {
     "data": {
      "text/plain": [
       "(6, 2)"
      ]
     },
     "execution_count": 3,
     "metadata": {},
     "output_type": "execute_result"
    }
   ],
   "source": [
    "A.shape"
   ]
  },
  {
   "cell_type": "code",
   "execution_count": 4,
   "metadata": {},
   "outputs": [],
   "source": [
    "import pandas as pd"
   ]
  },
  {
   "cell_type": "code",
   "execution_count": 7,
   "metadata": {},
   "outputs": [],
   "source": [
    "df=pd.DataFrame(A, columns=['a0', 'a1'])"
   ]
  },
  {
   "cell_type": "code",
   "execution_count": 8,
   "metadata": {},
   "outputs": [
    {
     "data": {
      "text/html": [
       "<div>\n",
       "<style scoped>\n",
       "    .dataframe tbody tr th:only-of-type {\n",
       "        vertical-align: middle;\n",
       "    }\n",
       "\n",
       "    .dataframe tbody tr th {\n",
       "        vertical-align: top;\n",
       "    }\n",
       "\n",
       "    .dataframe thead th {\n",
       "        text-align: right;\n",
       "    }\n",
       "</style>\n",
       "<table border=\"1\" class=\"dataframe\">\n",
       "  <thead>\n",
       "    <tr style=\"text-align: right;\">\n",
       "      <th></th>\n",
       "      <th>a0</th>\n",
       "      <th>a1</th>\n",
       "    </tr>\n",
       "  </thead>\n",
       "  <tbody>\n",
       "    <tr>\n",
       "      <th>0</th>\n",
       "      <td>3</td>\n",
       "      <td>7</td>\n",
       "    </tr>\n",
       "    <tr>\n",
       "      <th>1</th>\n",
       "      <td>-4</td>\n",
       "      <td>-6</td>\n",
       "    </tr>\n",
       "    <tr>\n",
       "      <th>2</th>\n",
       "      <td>7</td>\n",
       "      <td>8</td>\n",
       "    </tr>\n",
       "    <tr>\n",
       "      <th>3</th>\n",
       "      <td>1</td>\n",
       "      <td>-1</td>\n",
       "    </tr>\n",
       "    <tr>\n",
       "      <th>4</th>\n",
       "      <td>-4</td>\n",
       "      <td>-1</td>\n",
       "    </tr>\n",
       "    <tr>\n",
       "      <th>5</th>\n",
       "      <td>-3</td>\n",
       "      <td>-7</td>\n",
       "    </tr>\n",
       "  </tbody>\n",
       "</table>\n",
       "</div>"
      ],
      "text/plain": [
       "   a0  a1\n",
       "0   3   7\n",
       "1  -4  -6\n",
       "2   7   8\n",
       "3   1  -1\n",
       "4  -4  -1\n",
       "5  -3  -7"
      ]
     },
     "execution_count": 8,
     "metadata": {},
     "output_type": "execute_result"
    }
   ],
   "source": [
    "df"
   ]
  },
  {
   "cell_type": "code",
   "execution_count": 9,
   "metadata": {},
   "outputs": [],
   "source": [
    "a0=A[:,0]\n",
    "a1=A[:, 1]"
   ]
  },
  {
   "cell_type": "code",
   "execution_count": 10,
   "metadata": {},
   "outputs": [
    {
     "data": {
      "text/plain": [
       "array([ 3, -4,  7,  1, -4, -3])"
      ]
     },
     "execution_count": 10,
     "metadata": {},
     "output_type": "execute_result"
    }
   ],
   "source": [
    "a0"
   ]
  },
  {
   "cell_type": "code",
   "execution_count": 11,
   "metadata": {},
   "outputs": [
    {
     "data": {
      "text/plain": [
       "array([ 7, -6,  8, -1, -1, -7])"
      ]
     },
     "execution_count": 11,
     "metadata": {},
     "output_type": "execute_result"
    }
   ],
   "source": [
    "a1"
   ]
  },
  {
   "cell_type": "code",
   "execution_count": 12,
   "metadata": {},
   "outputs": [
    {
     "data": {
      "text/plain": [
       "array([[20., 25.],\n",
       "       [25., 40.]])"
      ]
     },
     "execution_count": 12,
     "metadata": {},
     "output_type": "execute_result"
    }
   ],
   "source": [
    "np.cov(a0,a1)"
   ]
  },
  {
   "cell_type": "code",
   "execution_count": 14,
   "metadata": {},
   "outputs": [
    {
     "data": {
      "text/plain": [
       "25.0"
      ]
     },
     "execution_count": 14,
     "metadata": {},
     "output_type": "execute_result"
    }
   ],
   "source": [
    "np.sum(a0*a1)/5 # it is possible to find the mean of the data is zero, so covariance of data is"
   ]
  },
  {
   "cell_type": "code",
   "execution_count": 15,
   "metadata": {},
   "outputs": [
    {
     "data": {
      "text/plain": [
       "array([[ 3,  7],\n",
       "       [-4, -6],\n",
       "       [ 7,  8],\n",
       "       [ 1, -1],\n",
       "       [-4, -1],\n",
       "       [-3, -7]])"
      ]
     },
     "execution_count": 15,
     "metadata": {},
     "output_type": "execute_result"
    }
   ],
   "source": [
    "A"
   ]
  },
  {
   "cell_type": "code",
   "execution_count": 16,
   "metadata": {},
   "outputs": [
    {
     "data": {
      "text/plain": [
       "array([[ 3, -4,  7,  1, -4, -3],\n",
       "       [ 7, -6,  8, -1, -1, -7]])"
      ]
     },
     "execution_count": 16,
     "metadata": {},
     "output_type": "execute_result"
    }
   ],
   "source": [
    "A.T"
   ]
  },
  {
   "cell_type": "code",
   "execution_count": 17,
   "metadata": {},
   "outputs": [
    {
     "data": {
      "text/plain": [
       "array([[100, 125],\n",
       "       [125, 200]])"
      ]
     },
     "execution_count": 17,
     "metadata": {},
     "output_type": "execute_result"
    }
   ],
   "source": [
    "A.T@A"
   ]
  },
  {
   "cell_type": "code",
   "execution_count": 19,
   "metadata": {},
   "outputs": [],
   "source": [
    "sigma=A.T@A/5"
   ]
  },
  {
   "cell_type": "code",
   "execution_count": 23,
   "metadata": {},
   "outputs": [],
   "source": [
    "l, x=np.linalg.eig(sigma)# T=lambda.V and this is value of lambda"
   ]
  },
  {
   "cell_type": "code",
   "execution_count": 25,
   "metadata": {},
   "outputs": [
    {
     "data": {
      "text/plain": [
       "array([ 3.07417596, 56.92582404])"
      ]
     },
     "execution_count": 25,
     "metadata": {},
     "output_type": "execute_result"
    }
   ],
   "source": [
    "l # Its an egen value"
   ]
  },
  {
   "cell_type": "code",
   "execution_count": 27,
   "metadata": {},
   "outputs": [
    {
     "data": {
      "text/plain": [
       "array([[-0.82806723, -0.56062881],\n",
       "       [ 0.56062881, -0.82806723]])"
      ]
     },
     "execution_count": 27,
     "metadata": {},
     "output_type": "execute_result"
    }
   ],
   "source": [
    "x # Its eigen vector"
   ]
  },
  {
   "cell_type": "code",
   "execution_count": 28,
   "metadata": {},
   "outputs": [
    {
     "data": {
      "text/plain": [
       "array([[20., 25.],\n",
       "       [25., 40.]])"
      ]
     },
     "execution_count": 28,
     "metadata": {},
     "output_type": "execute_result"
    }
   ],
   "source": [
    "sigma"
   ]
  },
  {
   "cell_type": "code",
   "execution_count": 30,
   "metadata": {},
   "outputs": [
    {
     "data": {
      "text/plain": [
       "array([-2.54562438,  1.72347161])"
      ]
     },
     "execution_count": 30,
     "metadata": {},
     "output_type": "execute_result"
    }
   ],
   "source": [
    "sigma@x[:, 0] # [:, 0] means all row with 0 columns"
   ]
  },
  {
   "cell_type": "code",
   "execution_count": 31,
   "metadata": {},
   "outputs": [
    {
     "data": {
      "text/plain": [
       "array([-31.91425695, -47.13840945])"
      ]
     },
     "execution_count": 31,
     "metadata": {},
     "output_type": "execute_result"
    }
   ],
   "source": [
    "sigma@x[:, 1]"
   ]
  },
  {
   "cell_type": "code",
   "execution_count": 32,
   "metadata": {},
   "outputs": [
    {
     "data": {
      "text/plain": [
       "array([[-0.82806723, -0.56062881],\n",
       "       [ 0.56062881, -0.82806723]])"
      ]
     },
     "execution_count": 32,
     "metadata": {},
     "output_type": "execute_result"
    }
   ],
   "source": [
    "x"
   ]
  },
  {
   "cell_type": "code",
   "execution_count": 33,
   "metadata": {},
   "outputs": [
    {
     "name": "stdout",
     "output_type": "stream",
     "text": [
      "First principle component\n"
     ]
    },
    {
     "data": {
      "text/plain": [
       "array([-0.56062881, -0.82806723])"
      ]
     },
     "execution_count": 33,
     "metadata": {},
     "output_type": "execute_result"
    }
   ],
   "source": [
    "print('First principle component')\n",
    "x[:, 1]"
   ]
  },
  {
   "cell_type": "code",
   "execution_count": 34,
   "metadata": {},
   "outputs": [
    {
     "name": "stdout",
     "output_type": "stream",
     "text": [
      "Second principle component\n"
     ]
    },
    {
     "data": {
      "text/plain": [
       "array([-0.82806723,  0.56062881])"
      ]
     },
     "execution_count": 34,
     "metadata": {},
     "output_type": "execute_result"
    }
   ],
   "source": [
    "print(\"Second principle component\")\n",
    "x[:, 0]"
   ]
  },
  {
   "cell_type": "code",
   "execution_count": 36,
   "metadata": {},
   "outputs": [],
   "source": [
    "pc1_arr=A@x[:, 1]# if we want to rotate our data with particular line so we con multiply"
   ]
  },
  {
   "cell_type": "code",
   "execution_count": 37,
   "metadata": {},
   "outputs": [
    {
     "data": {
      "text/plain": [
       "array([ -7.47835704,   7.21091862, -10.54893951,   0.26743842,\n",
       "         3.07058247,   7.47835704])"
      ]
     },
     "execution_count": 37,
     "metadata": {},
     "output_type": "execute_result"
    }
   ],
   "source": [
    "pc1_arr"
   ]
  },
  {
   "cell_type": "code",
   "execution_count": 38,
   "metadata": {},
   "outputs": [],
   "source": [
    "pc2_arr=A@x[:, 0]"
   ]
  },
  {
   "cell_type": "code",
   "execution_count": 39,
   "metadata": {},
   "outputs": [
    {
     "data": {
      "text/plain": [
       "array([ 1.44019997, -0.05150393, -1.31144014, -1.38869604,  2.75164011,\n",
       "       -1.44019997])"
      ]
     },
     "execution_count": 39,
     "metadata": {},
     "output_type": "execute_result"
    }
   ],
   "source": [
    "pc2_arr"
   ]
  },
  {
   "cell_type": "code",
   "execution_count": 43,
   "metadata": {},
   "outputs": [],
   "source": [
    "df=pd.read_csv('glass.csv')"
   ]
  },
  {
   "cell_type": "code",
   "execution_count": 44,
   "metadata": {},
   "outputs": [
    {
     "data": {
      "text/html": [
       "<div>\n",
       "<style scoped>\n",
       "    .dataframe tbody tr th:only-of-type {\n",
       "        vertical-align: middle;\n",
       "    }\n",
       "\n",
       "    .dataframe tbody tr th {\n",
       "        vertical-align: top;\n",
       "    }\n",
       "\n",
       "    .dataframe thead th {\n",
       "        text-align: right;\n",
       "    }\n",
       "</style>\n",
       "<table border=\"1\" class=\"dataframe\">\n",
       "  <thead>\n",
       "    <tr style=\"text-align: right;\">\n",
       "      <th></th>\n",
       "      <th>RI</th>\n",
       "      <th>Na</th>\n",
       "      <th>Mg</th>\n",
       "      <th>Al</th>\n",
       "      <th>Si</th>\n",
       "      <th>K</th>\n",
       "      <th>Ca</th>\n",
       "      <th>Ba</th>\n",
       "      <th>Fe</th>\n",
       "      <th>Type</th>\n",
       "    </tr>\n",
       "  </thead>\n",
       "  <tbody>\n",
       "    <tr>\n",
       "      <th>0</th>\n",
       "      <td>1.52101</td>\n",
       "      <td>13.64</td>\n",
       "      <td>4.49</td>\n",
       "      <td>1.10</td>\n",
       "      <td>71.78</td>\n",
       "      <td>0.06</td>\n",
       "      <td>8.75</td>\n",
       "      <td>0.00</td>\n",
       "      <td>0.0</td>\n",
       "      <td>1</td>\n",
       "    </tr>\n",
       "    <tr>\n",
       "      <th>1</th>\n",
       "      <td>1.51761</td>\n",
       "      <td>13.89</td>\n",
       "      <td>3.60</td>\n",
       "      <td>1.36</td>\n",
       "      <td>72.73</td>\n",
       "      <td>0.48</td>\n",
       "      <td>7.83</td>\n",
       "      <td>0.00</td>\n",
       "      <td>0.0</td>\n",
       "      <td>1</td>\n",
       "    </tr>\n",
       "    <tr>\n",
       "      <th>2</th>\n",
       "      <td>1.51618</td>\n",
       "      <td>13.53</td>\n",
       "      <td>3.55</td>\n",
       "      <td>1.54</td>\n",
       "      <td>72.99</td>\n",
       "      <td>0.39</td>\n",
       "      <td>7.78</td>\n",
       "      <td>0.00</td>\n",
       "      <td>0.0</td>\n",
       "      <td>1</td>\n",
       "    </tr>\n",
       "    <tr>\n",
       "      <th>3</th>\n",
       "      <td>1.51766</td>\n",
       "      <td>13.21</td>\n",
       "      <td>3.69</td>\n",
       "      <td>1.29</td>\n",
       "      <td>72.61</td>\n",
       "      <td>0.57</td>\n",
       "      <td>8.22</td>\n",
       "      <td>0.00</td>\n",
       "      <td>0.0</td>\n",
       "      <td>1</td>\n",
       "    </tr>\n",
       "    <tr>\n",
       "      <th>4</th>\n",
       "      <td>1.51742</td>\n",
       "      <td>13.27</td>\n",
       "      <td>3.62</td>\n",
       "      <td>1.24</td>\n",
       "      <td>73.08</td>\n",
       "      <td>0.55</td>\n",
       "      <td>8.07</td>\n",
       "      <td>0.00</td>\n",
       "      <td>0.0</td>\n",
       "      <td>1</td>\n",
       "    </tr>\n",
       "    <tr>\n",
       "      <th>...</th>\n",
       "      <td>...</td>\n",
       "      <td>...</td>\n",
       "      <td>...</td>\n",
       "      <td>...</td>\n",
       "      <td>...</td>\n",
       "      <td>...</td>\n",
       "      <td>...</td>\n",
       "      <td>...</td>\n",
       "      <td>...</td>\n",
       "      <td>...</td>\n",
       "    </tr>\n",
       "    <tr>\n",
       "      <th>209</th>\n",
       "      <td>1.51623</td>\n",
       "      <td>14.14</td>\n",
       "      <td>0.00</td>\n",
       "      <td>2.88</td>\n",
       "      <td>72.61</td>\n",
       "      <td>0.08</td>\n",
       "      <td>9.18</td>\n",
       "      <td>1.06</td>\n",
       "      <td>0.0</td>\n",
       "      <td>7</td>\n",
       "    </tr>\n",
       "    <tr>\n",
       "      <th>210</th>\n",
       "      <td>1.51685</td>\n",
       "      <td>14.92</td>\n",
       "      <td>0.00</td>\n",
       "      <td>1.99</td>\n",
       "      <td>73.06</td>\n",
       "      <td>0.00</td>\n",
       "      <td>8.40</td>\n",
       "      <td>1.59</td>\n",
       "      <td>0.0</td>\n",
       "      <td>7</td>\n",
       "    </tr>\n",
       "    <tr>\n",
       "      <th>211</th>\n",
       "      <td>1.52065</td>\n",
       "      <td>14.36</td>\n",
       "      <td>0.00</td>\n",
       "      <td>2.02</td>\n",
       "      <td>73.42</td>\n",
       "      <td>0.00</td>\n",
       "      <td>8.44</td>\n",
       "      <td>1.64</td>\n",
       "      <td>0.0</td>\n",
       "      <td>7</td>\n",
       "    </tr>\n",
       "    <tr>\n",
       "      <th>212</th>\n",
       "      <td>1.51651</td>\n",
       "      <td>14.38</td>\n",
       "      <td>0.00</td>\n",
       "      <td>1.94</td>\n",
       "      <td>73.61</td>\n",
       "      <td>0.00</td>\n",
       "      <td>8.48</td>\n",
       "      <td>1.57</td>\n",
       "      <td>0.0</td>\n",
       "      <td>7</td>\n",
       "    </tr>\n",
       "    <tr>\n",
       "      <th>213</th>\n",
       "      <td>1.51711</td>\n",
       "      <td>14.23</td>\n",
       "      <td>0.00</td>\n",
       "      <td>2.08</td>\n",
       "      <td>73.36</td>\n",
       "      <td>0.00</td>\n",
       "      <td>8.62</td>\n",
       "      <td>1.67</td>\n",
       "      <td>0.0</td>\n",
       "      <td>7</td>\n",
       "    </tr>\n",
       "  </tbody>\n",
       "</table>\n",
       "<p>214 rows × 10 columns</p>\n",
       "</div>"
      ],
      "text/plain": [
       "          RI     Na    Mg    Al     Si     K    Ca    Ba   Fe  Type\n",
       "0    1.52101  13.64  4.49  1.10  71.78  0.06  8.75  0.00  0.0     1\n",
       "1    1.51761  13.89  3.60  1.36  72.73  0.48  7.83  0.00  0.0     1\n",
       "2    1.51618  13.53  3.55  1.54  72.99  0.39  7.78  0.00  0.0     1\n",
       "3    1.51766  13.21  3.69  1.29  72.61  0.57  8.22  0.00  0.0     1\n",
       "4    1.51742  13.27  3.62  1.24  73.08  0.55  8.07  0.00  0.0     1\n",
       "..       ...    ...   ...   ...    ...   ...   ...   ...  ...   ...\n",
       "209  1.51623  14.14  0.00  2.88  72.61  0.08  9.18  1.06  0.0     7\n",
       "210  1.51685  14.92  0.00  1.99  73.06  0.00  8.40  1.59  0.0     7\n",
       "211  1.52065  14.36  0.00  2.02  73.42  0.00  8.44  1.64  0.0     7\n",
       "212  1.51651  14.38  0.00  1.94  73.61  0.00  8.48  1.57  0.0     7\n",
       "213  1.51711  14.23  0.00  2.08  73.36  0.00  8.62  1.67  0.0     7\n",
       "\n",
       "[214 rows x 10 columns]"
      ]
     },
     "execution_count": 44,
     "metadata": {},
     "output_type": "execute_result"
    }
   ],
   "source": [
    "df"
   ]
  },
  {
   "cell_type": "code",
   "execution_count": 57,
   "metadata": {},
   "outputs": [],
   "source": [
    "df=df.drop(columns=['Type'], axis=1)"
   ]
  },
  {
   "cell_type": "code",
   "execution_count": 58,
   "metadata": {},
   "outputs": [
    {
     "data": {
      "text/html": [
       "<div>\n",
       "<style scoped>\n",
       "    .dataframe tbody tr th:only-of-type {\n",
       "        vertical-align: middle;\n",
       "    }\n",
       "\n",
       "    .dataframe tbody tr th {\n",
       "        vertical-align: top;\n",
       "    }\n",
       "\n",
       "    .dataframe thead th {\n",
       "        text-align: right;\n",
       "    }\n",
       "</style>\n",
       "<table border=\"1\" class=\"dataframe\">\n",
       "  <thead>\n",
       "    <tr style=\"text-align: right;\">\n",
       "      <th></th>\n",
       "      <th>RI</th>\n",
       "      <th>Na</th>\n",
       "      <th>Mg</th>\n",
       "      <th>Al</th>\n",
       "      <th>Si</th>\n",
       "      <th>K</th>\n",
       "      <th>Ca</th>\n",
       "      <th>Ba</th>\n",
       "      <th>Fe</th>\n",
       "    </tr>\n",
       "  </thead>\n",
       "  <tbody>\n",
       "    <tr>\n",
       "      <th>0</th>\n",
       "      <td>1.52101</td>\n",
       "      <td>13.64</td>\n",
       "      <td>4.49</td>\n",
       "      <td>1.10</td>\n",
       "      <td>71.78</td>\n",
       "      <td>0.06</td>\n",
       "      <td>8.75</td>\n",
       "      <td>0.00</td>\n",
       "      <td>0.0</td>\n",
       "    </tr>\n",
       "    <tr>\n",
       "      <th>1</th>\n",
       "      <td>1.51761</td>\n",
       "      <td>13.89</td>\n",
       "      <td>3.60</td>\n",
       "      <td>1.36</td>\n",
       "      <td>72.73</td>\n",
       "      <td>0.48</td>\n",
       "      <td>7.83</td>\n",
       "      <td>0.00</td>\n",
       "      <td>0.0</td>\n",
       "    </tr>\n",
       "    <tr>\n",
       "      <th>2</th>\n",
       "      <td>1.51618</td>\n",
       "      <td>13.53</td>\n",
       "      <td>3.55</td>\n",
       "      <td>1.54</td>\n",
       "      <td>72.99</td>\n",
       "      <td>0.39</td>\n",
       "      <td>7.78</td>\n",
       "      <td>0.00</td>\n",
       "      <td>0.0</td>\n",
       "    </tr>\n",
       "    <tr>\n",
       "      <th>3</th>\n",
       "      <td>1.51766</td>\n",
       "      <td>13.21</td>\n",
       "      <td>3.69</td>\n",
       "      <td>1.29</td>\n",
       "      <td>72.61</td>\n",
       "      <td>0.57</td>\n",
       "      <td>8.22</td>\n",
       "      <td>0.00</td>\n",
       "      <td>0.0</td>\n",
       "    </tr>\n",
       "    <tr>\n",
       "      <th>4</th>\n",
       "      <td>1.51742</td>\n",
       "      <td>13.27</td>\n",
       "      <td>3.62</td>\n",
       "      <td>1.24</td>\n",
       "      <td>73.08</td>\n",
       "      <td>0.55</td>\n",
       "      <td>8.07</td>\n",
       "      <td>0.00</td>\n",
       "      <td>0.0</td>\n",
       "    </tr>\n",
       "    <tr>\n",
       "      <th>...</th>\n",
       "      <td>...</td>\n",
       "      <td>...</td>\n",
       "      <td>...</td>\n",
       "      <td>...</td>\n",
       "      <td>...</td>\n",
       "      <td>...</td>\n",
       "      <td>...</td>\n",
       "      <td>...</td>\n",
       "      <td>...</td>\n",
       "    </tr>\n",
       "    <tr>\n",
       "      <th>209</th>\n",
       "      <td>1.51623</td>\n",
       "      <td>14.14</td>\n",
       "      <td>0.00</td>\n",
       "      <td>2.88</td>\n",
       "      <td>72.61</td>\n",
       "      <td>0.08</td>\n",
       "      <td>9.18</td>\n",
       "      <td>1.06</td>\n",
       "      <td>0.0</td>\n",
       "    </tr>\n",
       "    <tr>\n",
       "      <th>210</th>\n",
       "      <td>1.51685</td>\n",
       "      <td>14.92</td>\n",
       "      <td>0.00</td>\n",
       "      <td>1.99</td>\n",
       "      <td>73.06</td>\n",
       "      <td>0.00</td>\n",
       "      <td>8.40</td>\n",
       "      <td>1.59</td>\n",
       "      <td>0.0</td>\n",
       "    </tr>\n",
       "    <tr>\n",
       "      <th>211</th>\n",
       "      <td>1.52065</td>\n",
       "      <td>14.36</td>\n",
       "      <td>0.00</td>\n",
       "      <td>2.02</td>\n",
       "      <td>73.42</td>\n",
       "      <td>0.00</td>\n",
       "      <td>8.44</td>\n",
       "      <td>1.64</td>\n",
       "      <td>0.0</td>\n",
       "    </tr>\n",
       "    <tr>\n",
       "      <th>212</th>\n",
       "      <td>1.51651</td>\n",
       "      <td>14.38</td>\n",
       "      <td>0.00</td>\n",
       "      <td>1.94</td>\n",
       "      <td>73.61</td>\n",
       "      <td>0.00</td>\n",
       "      <td>8.48</td>\n",
       "      <td>1.57</td>\n",
       "      <td>0.0</td>\n",
       "    </tr>\n",
       "    <tr>\n",
       "      <th>213</th>\n",
       "      <td>1.51711</td>\n",
       "      <td>14.23</td>\n",
       "      <td>0.00</td>\n",
       "      <td>2.08</td>\n",
       "      <td>73.36</td>\n",
       "      <td>0.00</td>\n",
       "      <td>8.62</td>\n",
       "      <td>1.67</td>\n",
       "      <td>0.0</td>\n",
       "    </tr>\n",
       "  </tbody>\n",
       "</table>\n",
       "<p>214 rows × 9 columns</p>\n",
       "</div>"
      ],
      "text/plain": [
       "          RI     Na    Mg    Al     Si     K    Ca    Ba   Fe\n",
       "0    1.52101  13.64  4.49  1.10  71.78  0.06  8.75  0.00  0.0\n",
       "1    1.51761  13.89  3.60  1.36  72.73  0.48  7.83  0.00  0.0\n",
       "2    1.51618  13.53  3.55  1.54  72.99  0.39  7.78  0.00  0.0\n",
       "3    1.51766  13.21  3.69  1.29  72.61  0.57  8.22  0.00  0.0\n",
       "4    1.51742  13.27  3.62  1.24  73.08  0.55  8.07  0.00  0.0\n",
       "..       ...    ...   ...   ...    ...   ...   ...   ...  ...\n",
       "209  1.51623  14.14  0.00  2.88  72.61  0.08  9.18  1.06  0.0\n",
       "210  1.51685  14.92  0.00  1.99  73.06  0.00  8.40  1.59  0.0\n",
       "211  1.52065  14.36  0.00  2.02  73.42  0.00  8.44  1.64  0.0\n",
       "212  1.51651  14.38  0.00  1.94  73.61  0.00  8.48  1.57  0.0\n",
       "213  1.51711  14.23  0.00  2.08  73.36  0.00  8.62  1.67  0.0\n",
       "\n",
       "[214 rows x 9 columns]"
      ]
     },
     "execution_count": 58,
     "metadata": {},
     "output_type": "execute_result"
    }
   ],
   "source": [
    "df"
   ]
  },
  {
   "cell_type": "code",
   "execution_count": 59,
   "metadata": {},
   "outputs": [
    {
     "data": {
      "text/html": [
       "<div>\n",
       "<style scoped>\n",
       "    .dataframe tbody tr th:only-of-type {\n",
       "        vertical-align: middle;\n",
       "    }\n",
       "\n",
       "    .dataframe tbody tr th {\n",
       "        vertical-align: top;\n",
       "    }\n",
       "\n",
       "    .dataframe thead th {\n",
       "        text-align: right;\n",
       "    }\n",
       "</style>\n",
       "<table border=\"1\" class=\"dataframe\">\n",
       "  <thead>\n",
       "    <tr style=\"text-align: right;\">\n",
       "      <th></th>\n",
       "      <th>RI</th>\n",
       "      <th>Na</th>\n",
       "      <th>Mg</th>\n",
       "      <th>Al</th>\n",
       "      <th>Si</th>\n",
       "      <th>K</th>\n",
       "      <th>Ca</th>\n",
       "      <th>Ba</th>\n",
       "      <th>Fe</th>\n",
       "    </tr>\n",
       "  </thead>\n",
       "  <tbody>\n",
       "    <tr>\n",
       "      <th>count</th>\n",
       "      <td>214.000000</td>\n",
       "      <td>214.000000</td>\n",
       "      <td>214.000000</td>\n",
       "      <td>214.000000</td>\n",
       "      <td>214.000000</td>\n",
       "      <td>214.000000</td>\n",
       "      <td>214.000000</td>\n",
       "      <td>214.000000</td>\n",
       "      <td>214.000000</td>\n",
       "    </tr>\n",
       "    <tr>\n",
       "      <th>mean</th>\n",
       "      <td>1.518365</td>\n",
       "      <td>13.407850</td>\n",
       "      <td>2.684533</td>\n",
       "      <td>1.444907</td>\n",
       "      <td>72.650935</td>\n",
       "      <td>0.497056</td>\n",
       "      <td>8.956963</td>\n",
       "      <td>0.175047</td>\n",
       "      <td>0.057009</td>\n",
       "    </tr>\n",
       "    <tr>\n",
       "      <th>std</th>\n",
       "      <td>0.003037</td>\n",
       "      <td>0.816604</td>\n",
       "      <td>1.442408</td>\n",
       "      <td>0.499270</td>\n",
       "      <td>0.774546</td>\n",
       "      <td>0.652192</td>\n",
       "      <td>1.423153</td>\n",
       "      <td>0.497219</td>\n",
       "      <td>0.097439</td>\n",
       "    </tr>\n",
       "    <tr>\n",
       "      <th>min</th>\n",
       "      <td>1.511150</td>\n",
       "      <td>10.730000</td>\n",
       "      <td>0.000000</td>\n",
       "      <td>0.290000</td>\n",
       "      <td>69.810000</td>\n",
       "      <td>0.000000</td>\n",
       "      <td>5.430000</td>\n",
       "      <td>0.000000</td>\n",
       "      <td>0.000000</td>\n",
       "    </tr>\n",
       "    <tr>\n",
       "      <th>25%</th>\n",
       "      <td>1.516523</td>\n",
       "      <td>12.907500</td>\n",
       "      <td>2.115000</td>\n",
       "      <td>1.190000</td>\n",
       "      <td>72.280000</td>\n",
       "      <td>0.122500</td>\n",
       "      <td>8.240000</td>\n",
       "      <td>0.000000</td>\n",
       "      <td>0.000000</td>\n",
       "    </tr>\n",
       "    <tr>\n",
       "      <th>50%</th>\n",
       "      <td>1.517680</td>\n",
       "      <td>13.300000</td>\n",
       "      <td>3.480000</td>\n",
       "      <td>1.360000</td>\n",
       "      <td>72.790000</td>\n",
       "      <td>0.555000</td>\n",
       "      <td>8.600000</td>\n",
       "      <td>0.000000</td>\n",
       "      <td>0.000000</td>\n",
       "    </tr>\n",
       "    <tr>\n",
       "      <th>75%</th>\n",
       "      <td>1.519157</td>\n",
       "      <td>13.825000</td>\n",
       "      <td>3.600000</td>\n",
       "      <td>1.630000</td>\n",
       "      <td>73.087500</td>\n",
       "      <td>0.610000</td>\n",
       "      <td>9.172500</td>\n",
       "      <td>0.000000</td>\n",
       "      <td>0.100000</td>\n",
       "    </tr>\n",
       "    <tr>\n",
       "      <th>max</th>\n",
       "      <td>1.533930</td>\n",
       "      <td>17.380000</td>\n",
       "      <td>4.490000</td>\n",
       "      <td>3.500000</td>\n",
       "      <td>75.410000</td>\n",
       "      <td>6.210000</td>\n",
       "      <td>16.190000</td>\n",
       "      <td>3.150000</td>\n",
       "      <td>0.510000</td>\n",
       "    </tr>\n",
       "  </tbody>\n",
       "</table>\n",
       "</div>"
      ],
      "text/plain": [
       "               RI          Na          Mg          Al          Si           K  \\\n",
       "count  214.000000  214.000000  214.000000  214.000000  214.000000  214.000000   \n",
       "mean     1.518365   13.407850    2.684533    1.444907   72.650935    0.497056   \n",
       "std      0.003037    0.816604    1.442408    0.499270    0.774546    0.652192   \n",
       "min      1.511150   10.730000    0.000000    0.290000   69.810000    0.000000   \n",
       "25%      1.516523   12.907500    2.115000    1.190000   72.280000    0.122500   \n",
       "50%      1.517680   13.300000    3.480000    1.360000   72.790000    0.555000   \n",
       "75%      1.519157   13.825000    3.600000    1.630000   73.087500    0.610000   \n",
       "max      1.533930   17.380000    4.490000    3.500000   75.410000    6.210000   \n",
       "\n",
       "               Ca          Ba          Fe  \n",
       "count  214.000000  214.000000  214.000000  \n",
       "mean     8.956963    0.175047    0.057009  \n",
       "std      1.423153    0.497219    0.097439  \n",
       "min      5.430000    0.000000    0.000000  \n",
       "25%      8.240000    0.000000    0.000000  \n",
       "50%      8.600000    0.000000    0.000000  \n",
       "75%      9.172500    0.000000    0.100000  \n",
       "max     16.190000    3.150000    0.510000  "
      ]
     },
     "execution_count": 59,
     "metadata": {},
     "output_type": "execute_result"
    }
   ],
   "source": [
    "df.describe()"
   ]
  },
  {
   "cell_type": "code",
   "execution_count": 61,
   "metadata": {},
   "outputs": [],
   "source": [
    "from sklearn.preprocessing import StandardScaler\n",
    "scaler=StandardScaler()\n",
    "df_scaled=scaler.fit_transform(df)"
   ]
  },
  {
   "cell_type": "code",
   "execution_count": 64,
   "metadata": {},
   "outputs": [],
   "source": [
    "df1=pd.DataFrame(df_scaled)"
   ]
  },
  {
   "cell_type": "code",
   "execution_count": 65,
   "metadata": {},
   "outputs": [
    {
     "data": {
      "text/html": [
       "<div>\n",
       "<style scoped>\n",
       "    .dataframe tbody tr th:only-of-type {\n",
       "        vertical-align: middle;\n",
       "    }\n",
       "\n",
       "    .dataframe tbody tr th {\n",
       "        vertical-align: top;\n",
       "    }\n",
       "\n",
       "    .dataframe thead th {\n",
       "        text-align: right;\n",
       "    }\n",
       "</style>\n",
       "<table border=\"1\" class=\"dataframe\">\n",
       "  <thead>\n",
       "    <tr style=\"text-align: right;\">\n",
       "      <th></th>\n",
       "      <th>0</th>\n",
       "      <th>1</th>\n",
       "      <th>2</th>\n",
       "      <th>3</th>\n",
       "      <th>4</th>\n",
       "      <th>5</th>\n",
       "      <th>6</th>\n",
       "      <th>7</th>\n",
       "      <th>8</th>\n",
       "    </tr>\n",
       "  </thead>\n",
       "  <tbody>\n",
       "    <tr>\n",
       "      <th>count</th>\n",
       "      <td>2.140000e+02</td>\n",
       "      <td>2.140000e+02</td>\n",
       "      <td>2.140000e+02</td>\n",
       "      <td>2.140000e+02</td>\n",
       "      <td>2.140000e+02</td>\n",
       "      <td>2.140000e+02</td>\n",
       "      <td>2.140000e+02</td>\n",
       "      <td>2.140000e+02</td>\n",
       "      <td>2.140000e+02</td>\n",
       "    </tr>\n",
       "    <tr>\n",
       "      <th>mean</th>\n",
       "      <td>-2.668608e-14</td>\n",
       "      <td>2.179980e-15</td>\n",
       "      <td>-2.801497e-16</td>\n",
       "      <td>-3.434428e-16</td>\n",
       "      <td>9.966067e-16</td>\n",
       "      <td>7.470660e-17</td>\n",
       "      <td>-3.137418e-16</td>\n",
       "      <td>-1.763906e-16</td>\n",
       "      <td>-6.121791e-17</td>\n",
       "    </tr>\n",
       "    <tr>\n",
       "      <th>std</th>\n",
       "      <td>1.002345e+00</td>\n",
       "      <td>1.002345e+00</td>\n",
       "      <td>1.002345e+00</td>\n",
       "      <td>1.002345e+00</td>\n",
       "      <td>1.002345e+00</td>\n",
       "      <td>1.002345e+00</td>\n",
       "      <td>1.002345e+00</td>\n",
       "      <td>1.002345e+00</td>\n",
       "      <td>1.002345e+00</td>\n",
       "    </tr>\n",
       "    <tr>\n",
       "      <th>min</th>\n",
       "      <td>-2.381516e+00</td>\n",
       "      <td>-3.286943e+00</td>\n",
       "      <td>-1.865511e+00</td>\n",
       "      <td>-2.318616e+00</td>\n",
       "      <td>-3.676472e+00</td>\n",
       "      <td>-7.639186e-01</td>\n",
       "      <td>-2.484084e+00</td>\n",
       "      <td>-3.528768e-01</td>\n",
       "      <td>-5.864509e-01</td>\n",
       "    </tr>\n",
       "    <tr>\n",
       "      <th>25%</th>\n",
       "      <td>-6.082728e-01</td>\n",
       "      <td>-6.141580e-01</td>\n",
       "      <td>-3.957744e-01</td>\n",
       "      <td>-5.117560e-01</td>\n",
       "      <td>-4.800288e-01</td>\n",
       "      <td>-5.756501e-01</td>\n",
       "      <td>-5.049657e-01</td>\n",
       "      <td>-3.528768e-01</td>\n",
       "      <td>-5.864509e-01</td>\n",
       "    </tr>\n",
       "    <tr>\n",
       "      <th>50%</th>\n",
       "      <td>-2.262293e-01</td>\n",
       "      <td>-1.323817e-01</td>\n",
       "      <td>5.527787e-01</td>\n",
       "      <td>-1.704602e-01</td>\n",
       "      <td>1.799655e-01</td>\n",
       "      <td>8.905322e-02</td>\n",
       "      <td>-2.514132e-01</td>\n",
       "      <td>-3.528768e-01</td>\n",
       "      <td>-5.864509e-01</td>\n",
       "    </tr>\n",
       "    <tr>\n",
       "      <th>75%</th>\n",
       "      <td>2.614331e-01</td>\n",
       "      <td>5.120326e-01</td>\n",
       "      <td>6.361680e-01</td>\n",
       "      <td>3.715977e-01</td>\n",
       "      <td>5.649621e-01</td>\n",
       "      <td>1.735820e-01</td>\n",
       "      <td>1.518057e-01</td>\n",
       "      <td>-3.528768e-01</td>\n",
       "      <td>4.422417e-01</td>\n",
       "    </tr>\n",
       "    <tr>\n",
       "      <th>max</th>\n",
       "      <td>5.137232e+00</td>\n",
       "      <td>4.875637e+00</td>\n",
       "      <td>1.254639e+00</td>\n",
       "      <td>4.125851e+00</td>\n",
       "      <td>3.570524e+00</td>\n",
       "      <td>8.780145e+00</td>\n",
       "      <td>5.094318e+00</td>\n",
       "      <td>5.997210e+00</td>\n",
       "      <td>4.659881e+00</td>\n",
       "    </tr>\n",
       "  </tbody>\n",
       "</table>\n",
       "</div>"
      ],
      "text/plain": [
       "                  0             1             2             3             4  \\\n",
       "count  2.140000e+02  2.140000e+02  2.140000e+02  2.140000e+02  2.140000e+02   \n",
       "mean  -2.668608e-14  2.179980e-15 -2.801497e-16 -3.434428e-16  9.966067e-16   \n",
       "std    1.002345e+00  1.002345e+00  1.002345e+00  1.002345e+00  1.002345e+00   \n",
       "min   -2.381516e+00 -3.286943e+00 -1.865511e+00 -2.318616e+00 -3.676472e+00   \n",
       "25%   -6.082728e-01 -6.141580e-01 -3.957744e-01 -5.117560e-01 -4.800288e-01   \n",
       "50%   -2.262293e-01 -1.323817e-01  5.527787e-01 -1.704602e-01  1.799655e-01   \n",
       "75%    2.614331e-01  5.120326e-01  6.361680e-01  3.715977e-01  5.649621e-01   \n",
       "max    5.137232e+00  4.875637e+00  1.254639e+00  4.125851e+00  3.570524e+00   \n",
       "\n",
       "                  5             6             7             8  \n",
       "count  2.140000e+02  2.140000e+02  2.140000e+02  2.140000e+02  \n",
       "mean   7.470660e-17 -3.137418e-16 -1.763906e-16 -6.121791e-17  \n",
       "std    1.002345e+00  1.002345e+00  1.002345e+00  1.002345e+00  \n",
       "min   -7.639186e-01 -2.484084e+00 -3.528768e-01 -5.864509e-01  \n",
       "25%   -5.756501e-01 -5.049657e-01 -3.528768e-01 -5.864509e-01  \n",
       "50%    8.905322e-02 -2.514132e-01 -3.528768e-01 -5.864509e-01  \n",
       "75%    1.735820e-01  1.518057e-01 -3.528768e-01  4.422417e-01  \n",
       "max    8.780145e+00  5.094318e+00  5.997210e+00  4.659881e+00  "
      ]
     },
     "execution_count": 65,
     "metadata": {},
     "output_type": "execute_result"
    }
   ],
   "source": [
    "df1.describe()"
   ]
  },
  {
   "cell_type": "code",
   "execution_count": 73,
   "metadata": {},
   "outputs": [
    {
     "data": {
      "text/plain": [
       "(214, 9)"
      ]
     },
     "execution_count": 73,
     "metadata": {},
     "output_type": "execute_result"
    }
   ],
   "source": [
    "df_scaled.shape"
   ]
  },
  {
   "cell_type": "code",
   "execution_count": 74,
   "metadata": {},
   "outputs": [
    {
     "data": {
      "text/plain": [
       "array([[ 1.00469484e+00, -1.92786249e-01, -1.22848096e-01,\n",
       "        -4.09238363e-01, -5.44597046e-01, -2.91193428e-01,\n",
       "         8.14207404e-01, -3.87831208e-04,  1.43681016e-01],\n",
       "       [-1.92786249e-01,  1.00469484e+00, -2.75017087e-01,\n",
       "         1.57529788e-01, -7.01365474e-02, -2.67335737e-01,\n",
       "        -2.76735643e-01,  3.28136226e-01, -2.42479493e-01],\n",
       "       [-1.22848096e-01, -2.75017087e-01,  1.00469484e+00,\n",
       "        -4.84060474e-01, -1.66705721e-01,  5.42099905e-03,\n",
       "        -4.45833360e-01, -4.94573208e-01,  8.34494798e-02],\n",
       "       [-4.09238363e-01,  1.57529788e-01, -4.84060474e-01,\n",
       "         1.00469484e+00, -5.54965338e-03,  3.27488767e-01,\n",
       "        -2.60810752e-01,  4.81654624e-01, -7.47514567e-02],\n",
       "       [-5.44597046e-01, -7.01365474e-02, -1.66705721e-01,\n",
       "        -5.54965338e-03,  1.00469484e+00, -1.94238511e-01,\n",
       "        -2.09712117e-01, -1.02630894e-01, -9.46429875e-02],\n",
       "       [-2.91193428e-01, -2.67335737e-01,  5.42099905e-03,\n",
       "         3.27488767e-01, -1.94238511e-01,  1.00469484e+00,\n",
       "        -3.19328343e-01, -4.28181441e-02, -7.75528879e-03],\n",
       "       [ 8.14207404e-01, -2.76735643e-01, -4.45833360e-01,\n",
       "        -2.60810752e-01, -2.09712117e-01, -3.19328343e-01,\n",
       "         1.00469484e+00, -1.13370737e-01,  1.25554924e-01],\n",
       "       [-3.87831208e-04,  3.28136226e-01, -4.94573208e-01,\n",
       "         4.81654624e-01, -1.02630894e-01, -4.28181441e-02,\n",
       "        -1.13370737e-01,  1.00469484e+00, -5.89673036e-02],\n",
       "       [ 1.43681016e-01, -2.42479493e-01,  8.34494798e-02,\n",
       "        -7.47514567e-02, -9.46429875e-02, -7.75528879e-03,\n",
       "         1.25554924e-01, -5.89673036e-02,  1.00469484e+00]])"
      ]
     },
     "execution_count": 74,
     "metadata": {},
     "output_type": "execute_result"
    }
   ],
   "source": [
    "df_scaled.T@df_scaled/213"
   ]
  },
  {
   "cell_type": "code",
   "execution_count": 68,
   "metadata": {},
   "outputs": [],
   "source": [
    "sigma=np.cov(df_scaled)"
   ]
  },
  {
   "cell_type": "code",
   "execution_count": 75,
   "metadata": {},
   "outputs": [],
   "source": [
    "l, x=np.linalg.eig(df_scaled.T@df_scaled/213)"
   ]
  },
  {
   "cell_type": "code",
   "execution_count": 76,
   "metadata": {},
   "outputs": [
    {
     "data": {
      "text/plain": [
       "array([2.52295323e+00, 2.05969694e+00, 1.41143951e+00, 1.16329842e+00,\n",
       "       9.18293337e-01, 5.30112353e-01, 3.70690643e-01, 6.41527269e-02,\n",
       "       1.61637096e-03])"
      ]
     },
     "execution_count": 76,
     "metadata": {},
     "output_type": "execute_result"
    }
   ],
   "source": [
    "l"
   ]
  },
  {
   "cell_type": "code",
   "execution_count": 77,
   "metadata": {},
   "outputs": [
    {
     "data": {
      "text/plain": [
       "array([[-0.54517662,  0.28568318,  0.08691083, -0.14738099,  0.0735427 ,\n",
       "        -0.11528772, -0.08186724, -0.7522159 ,  0.02573194],\n",
       "       [ 0.2581256 ,  0.27035007, -0.38491962, -0.49124204, -0.1536833 ,\n",
       "         0.55811757, -0.14858006, -0.12769315, -0.31193718],\n",
       "       [-0.11088095, -0.59355826,  0.00841796, -0.37878577, -0.12350912,\n",
       "        -0.30818598,  0.20604537, -0.07689061, -0.57727335],\n",
       "       [ 0.42870863,  0.29521154,  0.32923712,  0.13750592, -0.01410888,\n",
       "         0.01885731,  0.69923557, -0.27444105, -0.19222686],\n",
       "       [ 0.22883635, -0.15509891, -0.45870884,  0.65253771, -0.00850012,\n",
       "        -0.08609797, -0.21606658, -0.37992298, -0.29807321],\n",
       "       [ 0.21934405, -0.15397013,  0.66257412,  0.03853544,  0.30703984,\n",
       "         0.24363237, -0.50412141, -0.10981168, -0.26050863],\n",
       "       [-0.49230609,  0.3453798 , -0.00098473,  0.27644322,  0.18818774,\n",
       "         0.14866937,  0.09913463,  0.39870468, -0.57932321],\n",
       "       [ 0.25037512,  0.48470218,  0.07405473, -0.13317545, -0.25133426,\n",
       "        -0.65721884, -0.35178255,  0.14493235, -0.1982282 ],\n",
       "       [-0.18584154, -0.06203879,  0.28445055,  0.23049202, -0.87326405,\n",
       "         0.24304431, -0.07372136, -0.01627141, -0.01466944]])"
      ]
     },
     "execution_count": 77,
     "metadata": {},
     "output_type": "execute_result"
    }
   ],
   "source": [
    "x"
   ]
  },
  {
   "cell_type": "code",
   "execution_count": 78,
   "metadata": {},
   "outputs": [],
   "source": [
    "# principle compoent axis 1 which has highest principle value"
   ]
  },
  {
   "cell_type": "code",
   "execution_count": 79,
   "metadata": {},
   "outputs": [],
   "source": [
    "pc1_data=df_scaled@x[:, 0]"
   ]
  },
  {
   "cell_type": "code",
   "execution_count": 80,
   "metadata": {},
   "outputs": [
    {
     "data": {
      "text/plain": [
       "array([-1.15113957e+00,  5.74137172e-01,  9.40159722e-01,  1.42083283e-01,\n",
       "        3.51092291e-01,  2.90266583e-01,  2.52671444e-01,  1.20299466e-01,\n",
       "        2.08160308e-02,  2.35222894e-03,  3.82514937e-01,  1.33538675e-02,\n",
       "        3.09724390e-01, -1.56521013e-01,  8.99566628e-02,  1.15255023e-01,\n",
       "       -1.73458320e-01, -1.45812372e+00, -5.47316267e-01,  3.08817022e-01,\n",
       "       -2.05673879e-01, -1.21605345e+00, -4.11679297e-02,  1.13206012e-01,\n",
       "        1.47523366e-01,  5.04865218e-02,  1.55773980e-01,  2.17093779e-01,\n",
       "        1.15093633e-01,  6.58374915e-02, -2.98261451e-01,  2.22363433e-02,\n",
       "       -3.96586112e-01,  6.90862734e-02, -8.17537725e-02,  3.88918640e-01,\n",
       "       -2.57422809e-01, -2.70430953e-02, -1.93311245e+00, -1.93311245e+00,\n",
       "       -2.13978802e-01, -1.73653764e-02,  9.91042449e-02, -1.90784649e+00,\n",
       "       -7.55238909e-01, -4.15149070e-01, -6.04423395e-01, -2.97136159e+00,\n",
       "       -2.07281161e+00, -3.93111591e-01, -2.72721095e+00, -7.23068883e-01,\n",
       "       -1.06160451e-01, -1.81361046e-01, -1.71804895e-01, -4.59256767e-01,\n",
       "        4.23198376e-01, -1.58405624e-02,  3.27242420e-01, -3.73730855e-02,\n",
       "       -4.57306871e-01, -2.36220840e-01, -1.88483803e+00, -1.90646324e+00,\n",
       "       -1.76739012e+00, -1.20709914e+00, -2.09535866e+00, -2.06574480e+00,\n",
       "       -2.00488480e+00, -2.25195536e+00,  1.11062971e+00, -7.49344065e-01,\n",
       "        9.35068761e-01,  8.81333556e-01,  9.22562290e-01,  8.78041073e-01,\n",
       "        6.85088615e-01,  6.90359145e-01,  4.62997748e-01,  1.07450035e+00,\n",
       "        1.21369799e+00,  9.09189665e-01,  5.35657351e-01,  6.51404126e-01,\n",
       "        2.31637606e+00,  6.19527617e-01,  8.67763488e-01,  5.36304118e-01,\n",
       "        6.50903533e-01,  7.55392780e-01, -9.91658801e-01,  5.62642120e-01,\n",
       "        3.06796378e-01,  7.34604026e-01,  6.55247560e-01, -9.46407531e-02,\n",
       "       -9.04286720e-01, -6.13895376e-01,  6.54109481e-01,  1.33583022e-01,\n",
       "        2.26479128e-02,  7.23703277e-02, -9.83504760e-01, -3.85238194e+00,\n",
       "       -2.35136469e+00, -3.33328693e+00, -3.64021336e+00, -7.13869786e+00,\n",
       "       -1.69502290e+00, -7.41593451e-01, -4.51874493e+00, -4.87303441e+00,\n",
       "       -4.59649709e+00, -3.23984511e-01, -2.59209029e-01, -2.86272002e-02,\n",
       "       -1.86714046e-01,  8.34974605e-01,  6.31138456e-02,  6.88645250e-01,\n",
       "       -9.33354363e-02,  3.25952384e-01,  5.72010313e-01,  7.81415457e-01,\n",
       "       -7.93041028e-01, -2.72746438e-01,  1.21350033e-01, -1.11574391e+00,\n",
       "       -6.40905488e-01, -1.06594039e+00, -1.37738839e+00, -3.41894371e+00,\n",
       "        2.30106379e-03, -9.43164121e-02,  1.20536745e-01, -6.14443758e-01,\n",
       "       -3.37682286e-01,  5.41321804e-01,  7.66226327e-01,  7.74831821e-01,\n",
       "        6.58328771e-01, -4.79061318e-01,  6.25511768e-02,  7.02191754e-01,\n",
       "       -3.02639624e-01, -9.68425776e-01, -1.15965177e-01,  4.92429807e-01,\n",
       "        1.66864635e-01,  7.09007624e-02,  3.15800764e-01, -1.52912927e+00,\n",
       "       -5.95438880e-01,  4.47183180e-01,  2.28073900e-03,  2.77448819e-01,\n",
       "        2.62625463e-01, -1.74711568e+00,  8.19412962e-02, -7.70000955e-02,\n",
       "       -1.06061322e-01, -1.21897823e+00, -2.19327703e+00,  4.32287332e+00,\n",
       "       -2.60337952e-01, -1.80337643e+00, -1.78618611e+00, -6.83776477e-01,\n",
       "        7.95024676e-01, -5.44543846e-01, -1.92981829e+00,  4.38953460e+00,\n",
       "        4.43253973e+00, -1.59504215e+00, -1.01004447e+00, -1.63107556e+00,\n",
       "       -2.56498778e-01, -6.54463516e-01,  1.99650272e-01,  1.44389955e-01,\n",
       "        2.32566823e+00,  2.73475886e-01,  6.68969638e-02, -1.11416397e+00,\n",
       "        3.28279679e+00,  3.95051181e+00,  2.76034579e+00, -1.06709874e+00,\n",
       "       -5.88963889e-01,  2.17032226e-02,  1.38770709e+00,  2.14926480e+00,\n",
       "        2.10698079e+00,  2.08135612e+00,  2.16116939e+00,  2.29846438e+00,\n",
       "        2.10499822e+00,  1.95865705e+00,  2.39038043e+00,  2.34025986e+00,\n",
       "        2.67936046e+00,  1.37738556e+00,  2.73231156e+00,  2.52519849e+00,\n",
       "        2.26974017e+00,  2.04532108e+00,  2.18787696e+00,  3.55709771e+00,\n",
       "        1.99364680e+00,  2.38383457e+00,  2.39765190e+00,  1.68024627e+00,\n",
       "        2.36974768e+00,  2.26264885e+00])"
      ]
     },
     "execution_count": 80,
     "metadata": {},
     "output_type": "execute_result"
    }
   ],
   "source": [
    "pc1_data"
   ]
  },
  {
   "cell_type": "code",
   "execution_count": 81,
   "metadata": {},
   "outputs": [
    {
     "data": {
      "text/plain": [
       "(214,)"
      ]
     },
     "execution_count": 81,
     "metadata": {},
     "output_type": "execute_result"
    }
   ],
   "source": [
    "pc1_data.shape"
   ]
  },
  {
   "cell_type": "code",
   "execution_count": 82,
   "metadata": {},
   "outputs": [],
   "source": [
    "# validate with inbuild library"
   ]
  },
  {
   "cell_type": "code",
   "execution_count": 86,
   "metadata": {},
   "outputs": [],
   "source": [
    "from sklearn.decomposition import PCA\n",
    "pca=PCA(n_components=2)"
   ]
  },
  {
   "cell_type": "code",
   "execution_count": 88,
   "metadata": {},
   "outputs": [
    {
     "data": {
      "text/plain": [
       "array([-1.15113957e+00,  5.74137172e-01,  9.40159722e-01,  1.42083283e-01,\n",
       "        3.51092291e-01,  2.90266583e-01,  2.52671444e-01,  1.20299466e-01,\n",
       "        2.08160308e-02,  2.35222894e-03,  3.82514937e-01,  1.33538675e-02,\n",
       "        3.09724390e-01, -1.56521013e-01,  8.99566628e-02,  1.15255023e-01,\n",
       "       -1.73458320e-01, -1.45812372e+00, -5.47316267e-01,  3.08817022e-01,\n",
       "       -2.05673879e-01, -1.21605345e+00, -4.11679297e-02,  1.13206012e-01,\n",
       "        1.47523366e-01,  5.04865218e-02,  1.55773980e-01,  2.17093779e-01,\n",
       "        1.15093633e-01,  6.58374915e-02, -2.98261451e-01,  2.22363433e-02,\n",
       "       -3.96586112e-01,  6.90862734e-02, -8.17537725e-02,  3.88918640e-01,\n",
       "       -2.57422809e-01, -2.70430953e-02, -1.93311245e+00, -1.93311245e+00,\n",
       "       -2.13978802e-01, -1.73653764e-02,  9.91042449e-02, -1.90784649e+00,\n",
       "       -7.55238909e-01, -4.15149070e-01, -6.04423395e-01, -2.97136159e+00,\n",
       "       -2.07281161e+00, -3.93111591e-01, -2.72721095e+00, -7.23068883e-01,\n",
       "       -1.06160451e-01, -1.81361046e-01, -1.71804895e-01, -4.59256767e-01,\n",
       "        4.23198376e-01, -1.58405624e-02,  3.27242420e-01, -3.73730855e-02,\n",
       "       -4.57306871e-01, -2.36220840e-01, -1.88483803e+00, -1.90646324e+00,\n",
       "       -1.76739012e+00, -1.20709914e+00, -2.09535866e+00, -2.06574480e+00,\n",
       "       -2.00488480e+00, -2.25195536e+00,  1.11062971e+00, -7.49344065e-01,\n",
       "        9.35068761e-01,  8.81333556e-01,  9.22562290e-01,  8.78041073e-01,\n",
       "        6.85088615e-01,  6.90359145e-01,  4.62997748e-01,  1.07450035e+00,\n",
       "        1.21369799e+00,  9.09189665e-01,  5.35657351e-01,  6.51404126e-01,\n",
       "        2.31637606e+00,  6.19527617e-01,  8.67763488e-01,  5.36304118e-01,\n",
       "        6.50903533e-01,  7.55392780e-01, -9.91658801e-01,  5.62642120e-01,\n",
       "        3.06796378e-01,  7.34604026e-01,  6.55247560e-01, -9.46407531e-02,\n",
       "       -9.04286720e-01, -6.13895376e-01,  6.54109481e-01,  1.33583022e-01,\n",
       "        2.26479128e-02,  7.23703277e-02, -9.83504760e-01, -3.85238194e+00,\n",
       "       -2.35136469e+00, -3.33328693e+00, -3.64021336e+00, -7.13869786e+00,\n",
       "       -1.69502290e+00, -7.41593451e-01, -4.51874493e+00, -4.87303441e+00,\n",
       "       -4.59649709e+00, -3.23984511e-01, -2.59209029e-01, -2.86272002e-02,\n",
       "       -1.86714046e-01,  8.34974605e-01,  6.31138456e-02,  6.88645250e-01,\n",
       "       -9.33354363e-02,  3.25952384e-01,  5.72010313e-01,  7.81415457e-01,\n",
       "       -7.93041028e-01, -2.72746438e-01,  1.21350033e-01, -1.11574391e+00,\n",
       "       -6.40905488e-01, -1.06594039e+00, -1.37738839e+00, -3.41894371e+00,\n",
       "        2.30106379e-03, -9.43164121e-02,  1.20536745e-01, -6.14443758e-01,\n",
       "       -3.37682286e-01,  5.41321804e-01,  7.66226327e-01,  7.74831821e-01,\n",
       "        6.58328771e-01, -4.79061318e-01,  6.25511768e-02,  7.02191754e-01,\n",
       "       -3.02639624e-01, -9.68425776e-01, -1.15965177e-01,  4.92429807e-01,\n",
       "        1.66864635e-01,  7.09007624e-02,  3.15800764e-01, -1.52912927e+00,\n",
       "       -5.95438880e-01,  4.47183180e-01,  2.28073900e-03,  2.77448819e-01,\n",
       "        2.62625463e-01, -1.74711568e+00,  8.19412962e-02, -7.70000955e-02,\n",
       "       -1.06061322e-01, -1.21897823e+00, -2.19327703e+00,  4.32287332e+00,\n",
       "       -2.60337952e-01, -1.80337643e+00, -1.78618611e+00, -6.83776477e-01,\n",
       "        7.95024676e-01, -5.44543846e-01, -1.92981829e+00,  4.38953460e+00,\n",
       "        4.43253973e+00, -1.59504215e+00, -1.01004447e+00, -1.63107556e+00,\n",
       "       -2.56498778e-01, -6.54463516e-01,  1.99650272e-01,  1.44389955e-01,\n",
       "        2.32566823e+00,  2.73475886e-01,  6.68969638e-02, -1.11416397e+00,\n",
       "        3.28279679e+00,  3.95051181e+00,  2.76034579e+00, -1.06709874e+00,\n",
       "       -5.88963889e-01,  2.17032226e-02,  1.38770709e+00,  2.14926480e+00,\n",
       "        2.10698079e+00,  2.08135612e+00,  2.16116939e+00,  2.29846438e+00,\n",
       "        2.10499822e+00,  1.95865705e+00,  2.39038043e+00,  2.34025986e+00,\n",
       "        2.67936046e+00,  1.37738556e+00,  2.73231156e+00,  2.52519849e+00,\n",
       "        2.26974017e+00,  2.04532108e+00,  2.18787696e+00,  3.55709771e+00,\n",
       "        1.99364680e+00,  2.38383457e+00,  2.39765190e+00,  1.68024627e+00,\n",
       "        2.36974768e+00,  2.26264885e+00])"
      ]
     },
     "execution_count": 88,
     "metadata": {},
     "output_type": "execute_result"
    }
   ],
   "source": [
    "pc1_data"
   ]
  },
  {
   "cell_type": "code",
   "execution_count": 87,
   "metadata": {},
   "outputs": [
    {
     "data": {
      "text/plain": [
       "array([[ 1.15113957e+00, -5.29487638e-01],\n",
       "       [-5.74137172e-01, -7.59787774e-01],\n",
       "       [-9.40159722e-01, -9.29835966e-01],\n",
       "       [-1.42083283e-01, -9.61677440e-01],\n",
       "       [-3.51092291e-01, -1.09124921e+00],\n",
       "       [-2.90266583e-01, -1.32400756e+00],\n",
       "       [-2.52671444e-01, -1.11614958e+00],\n",
       "       [-1.20299466e-01, -1.22184622e+00],\n",
       "       [-2.08160308e-02, -3.21932609e-01],\n",
       "       [-2.35222894e-03, -1.06581344e+00],\n",
       "       [-3.82514937e-01, -1.38013403e+00],\n",
       "       [-1.33538675e-02, -1.10471913e+00],\n",
       "       [-3.09724390e-01, -1.42304024e+00],\n",
       "       [ 1.56521013e-01, -1.23592823e+00],\n",
       "       [-8.99566628e-02, -1.18125211e+00],\n",
       "       [-1.15255023e-01, -1.16028212e+00],\n",
       "       [ 1.73458320e-01, -1.18243967e+00],\n",
       "       [ 1.45812372e+00,  9.88413780e-02],\n",
       "       [ 5.47316267e-01, -2.95660130e-01],\n",
       "       [-3.08817022e-01, -7.63162157e-01],\n",
       "       [ 2.05673879e-01, -9.99182661e-01],\n",
       "       [ 1.21605345e+00, -4.36896108e-01],\n",
       "       [ 4.11679297e-02, -1.02788338e+00],\n",
       "       [-1.13206012e-01, -1.02762181e+00],\n",
       "       [-1.47523366e-01, -9.33767049e-01],\n",
       "       [-5.04865218e-02, -1.04723075e+00],\n",
       "       [-1.55773980e-01, -7.38149546e-01],\n",
       "       [-2.17093779e-01, -1.03946718e+00],\n",
       "       [-1.15093633e-01, -1.05293936e+00],\n",
       "       [-6.58374915e-02, -9.02875839e-01],\n",
       "       [ 2.98261451e-01, -1.16489328e+00],\n",
       "       [-2.22363433e-02, -1.16273745e+00],\n",
       "       [ 3.96586112e-01, -1.07307343e+00],\n",
       "       [-6.90862734e-02, -1.16390421e+00],\n",
       "       [ 8.17537725e-02, -9.66019429e-01],\n",
       "       [-3.88918640e-01, -1.00978004e+00],\n",
       "       [ 2.57422809e-01, -9.89360442e-02],\n",
       "       [ 2.70430953e-02, -9.41150868e-01],\n",
       "       [ 1.93311245e+00, -1.42114298e-01],\n",
       "       [ 1.93311245e+00, -1.42114298e-01],\n",
       "       [ 2.13978802e-01, -1.06505169e+00],\n",
       "       [ 1.73653764e-02, -1.10093167e+00],\n",
       "       [-9.91042449e-02, -7.46806921e-01],\n",
       "       [ 1.90784649e+00, -1.35146218e-01],\n",
       "       [ 7.55238909e-01, -1.19430193e+00],\n",
       "       [ 4.15149070e-01, -2.93287264e-01],\n",
       "       [ 6.04423395e-01, -7.80199849e-01],\n",
       "       [ 2.97136159e+00,  4.63140502e-01],\n",
       "       [ 2.07281161e+00, -1.93673881e-01],\n",
       "       [ 3.93111591e-01, -3.40258187e-01],\n",
       "       [ 2.72721095e+00, -1.13038577e-01],\n",
       "       [ 7.23068883e-01, -4.74891927e-01],\n",
       "       [ 1.06160451e-01, -4.14506038e-01],\n",
       "       [ 1.81361046e-01, -4.09957896e-01],\n",
       "       [ 1.71804895e-01, -5.10287786e-01],\n",
       "       [ 4.59256767e-01, -9.72071790e-01],\n",
       "       [-4.23198376e-01, -1.81655603e+00],\n",
       "       [ 1.58405624e-02, -9.57454062e-01],\n",
       "       [-3.27242420e-01, -1.10236197e+00],\n",
       "       [ 3.73730855e-02, -1.05432062e+00],\n",
       "       [ 4.57306871e-01, -5.51911400e-01],\n",
       "       [ 2.36220840e-01,  5.68330203e-01],\n",
       "       [ 1.88483803e+00, -2.96475700e-01],\n",
       "       [ 1.90646324e+00,  1.85186825e-01],\n",
       "       [ 1.76739012e+00, -2.34851172e-01],\n",
       "       [ 1.20709914e+00, -1.68166022e-02],\n",
       "       [ 2.09535866e+00, -4.27013874e-01],\n",
       "       [ 2.06574480e+00, -4.47085324e-01],\n",
       "       [ 2.00488480e+00, -3.63498656e-01],\n",
       "       [ 2.25195536e+00,  2.79739773e-02],\n",
       "       [-1.11062971e+00, -3.60459191e-01],\n",
       "       [ 7.49344065e-01, -8.70094723e-01],\n",
       "       [-9.35068761e-01, -1.20394562e+00],\n",
       "       [-8.81333556e-01, -9.72313068e-01],\n",
       "       [-9.22562290e-01, -1.19692928e+00],\n",
       "       [-8.78041073e-01, -1.20892921e+00],\n",
       "       [-6.85088615e-01, -8.41639892e-01],\n",
       "       [-6.90359145e-01, -1.06629931e+00],\n",
       "       [-4.62997748e-01, -9.88247287e-01],\n",
       "       [-1.07450035e+00, -9.64788704e-01],\n",
       "       [-1.21369799e+00, -7.79098155e-01],\n",
       "       [-9.09189665e-01, -1.13899985e+00],\n",
       "       [-5.35657351e-01, -1.06978417e+00],\n",
       "       [-6.51404126e-01, -1.11647242e+00],\n",
       "       [-2.31637606e+00, -5.73982461e-01],\n",
       "       [-6.19527617e-01, -8.77061910e-01],\n",
       "       [-8.67763488e-01, -1.07801813e+00],\n",
       "       [-5.36304118e-01, -9.23478860e-01],\n",
       "       [-6.50903533e-01, -1.06424608e+00],\n",
       "       [-7.55392780e-01, -1.09926663e+00],\n",
       "       [ 9.91658801e-01, -1.02189999e+00],\n",
       "       [-5.62642120e-01, -1.06581042e+00],\n",
       "       [-3.06796378e-01, -9.64066395e-01],\n",
       "       [-7.34604026e-01, -9.22386904e-01],\n",
       "       [-6.55247560e-01, -1.14303255e+00],\n",
       "       [ 9.46407531e-02, -4.56164629e-01],\n",
       "       [ 9.04286720e-01, -8.98187688e-01],\n",
       "       [ 6.13895376e-01, -1.40234153e+00],\n",
       "       [-6.54109481e-01, -7.10902736e-01],\n",
       "       [-1.33583022e-01, -4.11998638e-01],\n",
       "       [-2.26479128e-02, -8.10349081e-01],\n",
       "       [-7.23703277e-02, -5.16663086e-01],\n",
       "       [ 9.83504760e-01, -1.02010847e+00],\n",
       "       [ 3.85238194e+00,  1.34506467e+00],\n",
       "       [ 2.35136469e+00,  1.14019846e+00],\n",
       "       [ 3.33328693e+00,  2.02616879e+00],\n",
       "       [ 3.64021336e+00,  6.19344465e+00],\n",
       "       [ 7.13869786e+00,  4.00443669e+00],\n",
       "       [ 1.69502290e+00,  2.07414559e+00],\n",
       "       [ 7.41593451e-01,  7.85341417e-01],\n",
       "       [ 4.51874493e+00,  2.02772563e+00],\n",
       "       [ 4.87303441e+00,  2.11110882e+00],\n",
       "       [ 4.59649709e+00,  2.69944760e+00],\n",
       "       [ 3.23984511e-01, -9.15170462e-01],\n",
       "       [ 2.59209029e-01, -1.01845622e+00],\n",
       "       [ 2.86272002e-02, -8.03704365e-01],\n",
       "       [ 1.86714046e-01, -8.88809019e-01],\n",
       "       [-8.34974605e-01, -5.23690716e-01],\n",
       "       [-6.31138456e-02, -1.09080518e+00],\n",
       "       [-6.88645250e-01, -8.44544670e-01],\n",
       "       [ 9.33354363e-02, -7.97513650e-01],\n",
       "       [-3.25952384e-01, -1.16131445e+00],\n",
       "       [-5.72010313e-01, -9.28041764e-01],\n",
       "       [-7.81415457e-01, -6.41887105e-01],\n",
       "       [ 7.93041028e-01, -6.04328270e-01],\n",
       "       [ 2.72746438e-01, -7.60850930e-01],\n",
       "       [-1.21350033e-01, -1.06270367e+00],\n",
       "       [ 1.11574391e+00,  6.20438569e-01],\n",
       "       [ 6.40905488e-01,  9.00575079e-01],\n",
       "       [ 1.06594039e+00,  1.36757767e+00],\n",
       "       [ 1.37738839e+00,  1.60336370e+00],\n",
       "       [ 3.41894371e+00,  3.13489973e+00],\n",
       "       [-2.30106379e-03, -1.02447346e+00],\n",
       "       [ 9.43164121e-02, -6.45011377e-01],\n",
       "       [-1.20536745e-01, -1.01574215e+00],\n",
       "       [ 6.14443758e-01, -1.09156288e+00],\n",
       "       [ 3.37682286e-01, -1.29110463e+00],\n",
       "       [-5.41321804e-01, -1.03138006e+00],\n",
       "       [-7.66226327e-01, -1.21918683e+00],\n",
       "       [-7.74831821e-01, -1.08145439e+00],\n",
       "       [-6.58328771e-01, -7.80730458e-01],\n",
       "       [ 4.79061318e-01, -1.00897795e+00],\n",
       "       [-6.25511768e-02, -1.22086276e+00],\n",
       "       [-7.02191754e-01, -7.51136992e-01],\n",
       "       [ 3.02639624e-01, -1.04410159e+00],\n",
       "       [ 9.68425776e-01, -1.14896334e+00],\n",
       "       [ 1.15965177e-01, -7.37970348e-01],\n",
       "       [-4.92429807e-01, -9.56241961e-01],\n",
       "       [-1.66864635e-01, -9.65406470e-01],\n",
       "       [-7.09007624e-02, -1.30120252e+00],\n",
       "       [-3.15800764e-01, -7.53169864e-01],\n",
       "       [ 1.52912927e+00,  5.44240128e-02],\n",
       "       [ 5.95438880e-01, -9.54422853e-01],\n",
       "       [-4.47183180e-01, -9.57421674e-01],\n",
       "       [-2.28073900e-03, -9.59297592e-01],\n",
       "       [-2.77448819e-01, -1.01028758e+00],\n",
       "       [-2.62625463e-01, -7.71749068e-01],\n",
       "       [ 1.74711568e+00, -1.83206568e-01],\n",
       "       [-8.19412962e-02, -3.43555681e-01],\n",
       "       [ 7.70000955e-02, -2.78969006e-01],\n",
       "       [ 1.06061322e-01, -2.83081850e-01],\n",
       "       [ 1.21897823e+00, -6.73372800e-01],\n",
       "       [ 2.19327703e+00, -1.60194716e-01],\n",
       "       [-4.32287332e+00,  2.65385680e+00],\n",
       "       [ 2.60337952e-01,  5.48033322e-01],\n",
       "       [ 1.80337643e+00,  5.28727703e-01],\n",
       "       [ 1.78618611e+00,  3.12751888e-01],\n",
       "       [ 6.83776477e-01,  1.39728332e+00],\n",
       "       [-7.95024676e-01,  7.94729609e-01],\n",
       "       [ 5.44543846e-01,  1.76724509e+00],\n",
       "       [ 1.92981829e+00,  2.49244227e+00],\n",
       "       [-4.38953460e+00, -1.03449577e-01],\n",
       "       [-4.43253973e+00, -1.68680125e-01],\n",
       "       [ 1.59504215e+00,  2.11331608e+00],\n",
       "       [ 1.01004447e+00,  8.84077930e-01],\n",
       "       [ 1.63107556e+00,  1.31861732e+00],\n",
       "       [ 2.56498778e-01,  6.39225236e-01],\n",
       "       [ 6.54463516e-01,  3.42545752e-01],\n",
       "       [-1.99650272e-01,  7.40225310e-01],\n",
       "       [-1.44389955e-01,  6.39849281e-01],\n",
       "       [-2.32566823e+00, -4.62400329e-01],\n",
       "       [-2.73475886e-01,  1.78882182e+00],\n",
       "       [-6.68969638e-02,  2.24369392e+00],\n",
       "       [ 1.11416397e+00,  1.45711253e+00],\n",
       "       [-3.28279679e+00, -4.17913576e-02],\n",
       "       [-3.95051181e+00, -7.28506609e-01],\n",
       "       [-2.76034579e+00,  1.26705494e+00],\n",
       "       [ 1.06709874e+00, -7.14334989e-02],\n",
       "       [ 5.88963889e-01,  1.91167950e+00],\n",
       "       [-2.17032226e-02,  3.47383505e+00],\n",
       "       [-1.38770709e+00,  1.08914537e+00],\n",
       "       [-2.14926480e+00,  2.29560843e+00],\n",
       "       [-2.10698079e+00,  2.13071878e+00],\n",
       "       [-2.08135612e+00,  3.07840526e+00],\n",
       "       [-2.16116939e+00,  2.89977062e+00],\n",
       "       [-2.29846438e+00,  2.21466938e+00],\n",
       "       [-2.10499822e+00,  2.37404264e+00],\n",
       "       [-1.95865705e+00,  2.46318823e+00],\n",
       "       [-2.39038043e+00,  2.40058515e+00],\n",
       "       [-2.34025986e+00,  2.43366642e+00],\n",
       "       [-2.67936046e+00,  2.13082037e+00],\n",
       "       [-1.37738556e+00, -8.70759297e-01],\n",
       "       [-2.73231156e+00,  2.03728730e+00],\n",
       "       [-2.52519849e+00,  3.12098266e+00],\n",
       "       [-2.26974017e+00,  2.34831576e+00],\n",
       "       [-2.04532108e+00,  3.07594965e+00],\n",
       "       [-2.18787696e+00,  2.85648463e+00],\n",
       "       [-3.55709771e+00,  3.46675073e+00],\n",
       "       [-1.99364680e+00,  2.59939654e+00],\n",
       "       [-2.38383457e+00,  3.06167702e+00],\n",
       "       [-2.39765190e+00,  3.10823570e+00],\n",
       "       [-1.68024627e+00,  3.28482346e+00],\n",
       "       [-2.36974768e+00,  2.75687280e+00],\n",
       "       [-2.26264885e+00,  3.02859155e+00]])"
      ]
     },
     "execution_count": 87,
     "metadata": {},
     "output_type": "execute_result"
    }
   ],
   "source": [
    "pca.fit_transform(df1)"
   ]
  },
  {
   "cell_type": "code",
   "execution_count": 89,
   "metadata": {},
   "outputs": [
    {
     "data": {
      "text/plain": [
       "array([[ 0.87286765,  0.28495326,  1.25463857, ..., -0.14576634,\n",
       "        -0.35287683, -0.5864509 ],\n",
       "       [-0.24933347,  0.59181718,  0.63616803, ..., -0.79373376,\n",
       "        -0.35287683, -0.5864509 ],\n",
       "       [-0.72131806,  0.14993314,  0.60142249, ..., -0.82894938,\n",
       "        -0.35287683, -0.5864509 ],\n",
       "       ...,\n",
       "       [ 0.75404635,  1.16872135, -1.86551055, ..., -0.36410319,\n",
       "         2.95320036, -0.5864509 ],\n",
       "       [-0.61239854,  1.19327046, -1.86551055, ..., -0.33593069,\n",
       "         2.81208731, -0.5864509 ],\n",
       "       [-0.41436305,  1.00915211, -1.86551055, ..., -0.23732695,\n",
       "         3.01367739, -0.5864509 ]])"
      ]
     },
     "execution_count": 89,
     "metadata": {},
     "output_type": "execute_result"
    }
   ],
   "source": [
    "df_scaled"
   ]
  },
  {
   "cell_type": "code",
   "execution_count": 90,
   "metadata": {},
   "outputs": [
    {
     "data": {
      "text/html": [
       "<div>\n",
       "<style scoped>\n",
       "    .dataframe tbody tr th:only-of-type {\n",
       "        vertical-align: middle;\n",
       "    }\n",
       "\n",
       "    .dataframe tbody tr th {\n",
       "        vertical-align: top;\n",
       "    }\n",
       "\n",
       "    .dataframe thead th {\n",
       "        text-align: right;\n",
       "    }\n",
       "</style>\n",
       "<table border=\"1\" class=\"dataframe\">\n",
       "  <thead>\n",
       "    <tr style=\"text-align: right;\">\n",
       "      <th></th>\n",
       "      <th>0</th>\n",
       "      <th>1</th>\n",
       "      <th>2</th>\n",
       "      <th>3</th>\n",
       "      <th>4</th>\n",
       "      <th>5</th>\n",
       "      <th>6</th>\n",
       "      <th>7</th>\n",
       "      <th>8</th>\n",
       "    </tr>\n",
       "  </thead>\n",
       "  <tbody>\n",
       "    <tr>\n",
       "      <th>0</th>\n",
       "      <td>0.872868</td>\n",
       "      <td>0.284953</td>\n",
       "      <td>1.254639</td>\n",
       "      <td>-0.692442</td>\n",
       "      <td>-1.127082</td>\n",
       "      <td>-0.671705</td>\n",
       "      <td>-0.145766</td>\n",
       "      <td>-0.352877</td>\n",
       "      <td>-0.586451</td>\n",
       "    </tr>\n",
       "    <tr>\n",
       "      <th>1</th>\n",
       "      <td>-0.249333</td>\n",
       "      <td>0.591817</td>\n",
       "      <td>0.636168</td>\n",
       "      <td>-0.170460</td>\n",
       "      <td>0.102319</td>\n",
       "      <td>-0.026213</td>\n",
       "      <td>-0.793734</td>\n",
       "      <td>-0.352877</td>\n",
       "      <td>-0.586451</td>\n",
       "    </tr>\n",
       "    <tr>\n",
       "      <th>2</th>\n",
       "      <td>-0.721318</td>\n",
       "      <td>0.149933</td>\n",
       "      <td>0.601422</td>\n",
       "      <td>0.190912</td>\n",
       "      <td>0.438787</td>\n",
       "      <td>-0.164533</td>\n",
       "      <td>-0.828949</td>\n",
       "      <td>-0.352877</td>\n",
       "      <td>-0.586451</td>\n",
       "    </tr>\n",
       "    <tr>\n",
       "      <th>3</th>\n",
       "      <td>-0.232831</td>\n",
       "      <td>-0.242853</td>\n",
       "      <td>0.698710</td>\n",
       "      <td>-0.310994</td>\n",
       "      <td>-0.052974</td>\n",
       "      <td>0.112107</td>\n",
       "      <td>-0.519052</td>\n",
       "      <td>-0.352877</td>\n",
       "      <td>-0.586451</td>\n",
       "    </tr>\n",
       "    <tr>\n",
       "      <th>4</th>\n",
       "      <td>-0.312045</td>\n",
       "      <td>-0.169205</td>\n",
       "      <td>0.650066</td>\n",
       "      <td>-0.411375</td>\n",
       "      <td>0.555256</td>\n",
       "      <td>0.081369</td>\n",
       "      <td>-0.624699</td>\n",
       "      <td>-0.352877</td>\n",
       "      <td>-0.586451</td>\n",
       "    </tr>\n",
       "    <tr>\n",
       "      <th>...</th>\n",
       "      <td>...</td>\n",
       "      <td>...</td>\n",
       "      <td>...</td>\n",
       "      <td>...</td>\n",
       "      <td>...</td>\n",
       "      <td>...</td>\n",
       "      <td>...</td>\n",
       "      <td>...</td>\n",
       "      <td>...</td>\n",
       "    </tr>\n",
       "    <tr>\n",
       "      <th>209</th>\n",
       "      <td>-0.704815</td>\n",
       "      <td>0.898681</td>\n",
       "      <td>-1.865511</td>\n",
       "      <td>2.881125</td>\n",
       "      <td>-0.052974</td>\n",
       "      <td>-0.640968</td>\n",
       "      <td>0.157088</td>\n",
       "      <td>1.783978</td>\n",
       "      <td>-0.586451</td>\n",
       "    </tr>\n",
       "    <tr>\n",
       "      <th>210</th>\n",
       "      <td>-0.500178</td>\n",
       "      <td>1.856097</td>\n",
       "      <td>-1.865511</td>\n",
       "      <td>1.094342</td>\n",
       "      <td>0.529374</td>\n",
       "      <td>-0.763919</td>\n",
       "      <td>-0.392276</td>\n",
       "      <td>2.852405</td>\n",
       "      <td>-0.586451</td>\n",
       "    </tr>\n",
       "    <tr>\n",
       "      <th>211</th>\n",
       "      <td>0.754046</td>\n",
       "      <td>1.168721</td>\n",
       "      <td>-1.865511</td>\n",
       "      <td>1.154570</td>\n",
       "      <td>0.995252</td>\n",
       "      <td>-0.763919</td>\n",
       "      <td>-0.364103</td>\n",
       "      <td>2.953200</td>\n",
       "      <td>-0.586451</td>\n",
       "    </tr>\n",
       "    <tr>\n",
       "      <th>212</th>\n",
       "      <td>-0.612399</td>\n",
       "      <td>1.193270</td>\n",
       "      <td>-1.865511</td>\n",
       "      <td>0.993960</td>\n",
       "      <td>1.241133</td>\n",
       "      <td>-0.763919</td>\n",
       "      <td>-0.335931</td>\n",
       "      <td>2.812087</td>\n",
       "      <td>-0.586451</td>\n",
       "    </tr>\n",
       "    <tr>\n",
       "      <th>213</th>\n",
       "      <td>-0.414363</td>\n",
       "      <td>1.009152</td>\n",
       "      <td>-1.865511</td>\n",
       "      <td>1.275028</td>\n",
       "      <td>0.917606</td>\n",
       "      <td>-0.763919</td>\n",
       "      <td>-0.237327</td>\n",
       "      <td>3.013677</td>\n",
       "      <td>-0.586451</td>\n",
       "    </tr>\n",
       "  </tbody>\n",
       "</table>\n",
       "<p>214 rows × 9 columns</p>\n",
       "</div>"
      ],
      "text/plain": [
       "            0         1         2         3         4         5         6  \\\n",
       "0    0.872868  0.284953  1.254639 -0.692442 -1.127082 -0.671705 -0.145766   \n",
       "1   -0.249333  0.591817  0.636168 -0.170460  0.102319 -0.026213 -0.793734   \n",
       "2   -0.721318  0.149933  0.601422  0.190912  0.438787 -0.164533 -0.828949   \n",
       "3   -0.232831 -0.242853  0.698710 -0.310994 -0.052974  0.112107 -0.519052   \n",
       "4   -0.312045 -0.169205  0.650066 -0.411375  0.555256  0.081369 -0.624699   \n",
       "..        ...       ...       ...       ...       ...       ...       ...   \n",
       "209 -0.704815  0.898681 -1.865511  2.881125 -0.052974 -0.640968  0.157088   \n",
       "210 -0.500178  1.856097 -1.865511  1.094342  0.529374 -0.763919 -0.392276   \n",
       "211  0.754046  1.168721 -1.865511  1.154570  0.995252 -0.763919 -0.364103   \n",
       "212 -0.612399  1.193270 -1.865511  0.993960  1.241133 -0.763919 -0.335931   \n",
       "213 -0.414363  1.009152 -1.865511  1.275028  0.917606 -0.763919 -0.237327   \n",
       "\n",
       "            7         8  \n",
       "0   -0.352877 -0.586451  \n",
       "1   -0.352877 -0.586451  \n",
       "2   -0.352877 -0.586451  \n",
       "3   -0.352877 -0.586451  \n",
       "4   -0.352877 -0.586451  \n",
       "..        ...       ...  \n",
       "209  1.783978 -0.586451  \n",
       "210  2.852405 -0.586451  \n",
       "211  2.953200 -0.586451  \n",
       "212  2.812087 -0.586451  \n",
       "213  3.013677 -0.586451  \n",
       "\n",
       "[214 rows x 9 columns]"
      ]
     },
     "execution_count": 90,
     "metadata": {},
     "output_type": "execute_result"
    }
   ],
   "source": [
    "df1"
   ]
  },
  {
   "cell_type": "code",
   "execution_count": 91,
   "metadata": {},
   "outputs": [],
   "source": [
    "pca=PCA()"
   ]
  },
  {
   "cell_type": "code",
   "execution_count": 93,
   "metadata": {},
   "outputs": [],
   "source": [
    "principle_component=pca.fit_transform(df1)"
   ]
  },
  {
   "cell_type": "code",
   "execution_count": 99,
   "metadata": {},
   "outputs": [
    {
     "data": {
      "text/plain": [
       "Text(0, 0.5, 'evr')"
      ]
     },
     "execution_count": 99,
     "metadata": {},
     "output_type": "execute_result"
    },
    {
     "data": {
      "image/png": "[encoded data removed]",
      "text/plain": [
       "<Figure size 432x288 with 1 Axes>"
      ]
     },
     "metadata": {
      "needs_background": "light"
     },
     "output_type": "display_data"
    }
   ],
   "source": [
    "import matplotlib.pyplot as plt\n",
    "plt.figure()\n",
    "plt.plot(np.cumsum(pca.explained_variance_ratio_))\n",
    "plt.xlabel(\"number of component required\")\n",
    "plt.ylabel('evr')"
   ]
  },
  {
   "cell_type": "code",
   "execution_count": 97,
   "metadata": {},
   "outputs": [
    {
     "data": {
      "text/plain": [
       "array([2.79018192e-01, 2.27785798e-01, 1.56093777e-01, 1.28651383e-01,\n",
       "       1.01555805e-01, 5.86261325e-02, 4.09953826e-02, 7.09477197e-03,\n",
       "       1.78757536e-04])"
      ]
     },
     "execution_count": 97,
     "metadata": {},
     "output_type": "execute_result"
    }
   ],
   "source": [
    "pca.explained_variance_ratio_"
   ]
  },
  {
   "cell_type": "code",
   "execution_count": 12,
   "metadata": {},
   "outputs": [],
   "source": [
    "import pandas as pd\n",
    "import numpy as np\n",
    "import matplotlib.pyplot as plt\n",
    "%matplotlib inline"
   ]
  },
  {
   "cell_type": "code",
   "execution_count": 13,
   "metadata": {},
   "outputs": [],
   "source": [
    "data=pd.read_csv('glass.csv')"
   ]
  },
  {
   "cell_type": "code",
   "execution_count": 14,
   "metadata": {},
   "outputs": [
    {
     "data": {
      "text/plain": [
       "RI      0\n",
       "Na      0\n",
       "Mg      0\n",
       "Al      0\n",
       "Si      0\n",
       "K       0\n",
       "Ca      0\n",
       "Ba      0\n",
       "Fe      0\n",
       "Type    0\n",
       "dtype: int64"
      ]
     },
     "execution_count": 14,
     "metadata": {},
     "output_type": "execute_result"
    }
   ],
   "source": [
    "data.isna().sum()# check null value"
   ]
  },
  {
   "cell_type": "code",
   "execution_count": 15,
   "metadata": {},
   "outputs": [],
   "source": [
    "data=data.drop(labels=['Type'], axis=1)# we can drop the value of the unneccessary file"
   ]
  },
  {
   "cell_type": "code",
   "execution_count": 16,
   "metadata": {},
   "outputs": [
    {
     "data": {
      "text/html": [
       "<div>\n",
       "<style scoped>\n",
       "    .dataframe tbody tr th:only-of-type {\n",
       "        vertical-align: middle;\n",
       "    }\n",
       "\n",
       "    .dataframe tbody tr th {\n",
       "        vertical-align: top;\n",
       "    }\n",
       "\n",
       "    .dataframe thead th {\n",
       "        text-align: right;\n",
       "    }\n",
       "</style>\n",
       "<table border=\"1\" class=\"dataframe\">\n",
       "  <thead>\n",
       "    <tr style=\"text-align: right;\">\n",
       "      <th></th>\n",
       "      <th>RI</th>\n",
       "      <th>Na</th>\n",
       "      <th>Mg</th>\n",
       "      <th>Al</th>\n",
       "      <th>Si</th>\n",
       "      <th>K</th>\n",
       "      <th>Ca</th>\n",
       "      <th>Ba</th>\n",
       "      <th>Fe</th>\n",
       "    </tr>\n",
       "  </thead>\n",
       "  <tbody>\n",
       "    <tr>\n",
       "      <th>0</th>\n",
       "      <td>1.52101</td>\n",
       "      <td>13.64</td>\n",
       "      <td>4.49</td>\n",
       "      <td>1.10</td>\n",
       "      <td>71.78</td>\n",
       "      <td>0.06</td>\n",
       "      <td>8.75</td>\n",
       "      <td>0.00</td>\n",
       "      <td>0.0</td>\n",
       "    </tr>\n",
       "    <tr>\n",
       "      <th>1</th>\n",
       "      <td>1.51761</td>\n",
       "      <td>13.89</td>\n",
       "      <td>3.60</td>\n",
       "      <td>1.36</td>\n",
       "      <td>72.73</td>\n",
       "      <td>0.48</td>\n",
       "      <td>7.83</td>\n",
       "      <td>0.00</td>\n",
       "      <td>0.0</td>\n",
       "    </tr>\n",
       "    <tr>\n",
       "      <th>2</th>\n",
       "      <td>1.51618</td>\n",
       "      <td>13.53</td>\n",
       "      <td>3.55</td>\n",
       "      <td>1.54</td>\n",
       "      <td>72.99</td>\n",
       "      <td>0.39</td>\n",
       "      <td>7.78</td>\n",
       "      <td>0.00</td>\n",
       "      <td>0.0</td>\n",
       "    </tr>\n",
       "    <tr>\n",
       "      <th>3</th>\n",
       "      <td>1.51766</td>\n",
       "      <td>13.21</td>\n",
       "      <td>3.69</td>\n",
       "      <td>1.29</td>\n",
       "      <td>72.61</td>\n",
       "      <td>0.57</td>\n",
       "      <td>8.22</td>\n",
       "      <td>0.00</td>\n",
       "      <td>0.0</td>\n",
       "    </tr>\n",
       "    <tr>\n",
       "      <th>4</th>\n",
       "      <td>1.51742</td>\n",
       "      <td>13.27</td>\n",
       "      <td>3.62</td>\n",
       "      <td>1.24</td>\n",
       "      <td>73.08</td>\n",
       "      <td>0.55</td>\n",
       "      <td>8.07</td>\n",
       "      <td>0.00</td>\n",
       "      <td>0.0</td>\n",
       "    </tr>\n",
       "    <tr>\n",
       "      <th>...</th>\n",
       "      <td>...</td>\n",
       "      <td>...</td>\n",
       "      <td>...</td>\n",
       "      <td>...</td>\n",
       "      <td>...</td>\n",
       "      <td>...</td>\n",
       "      <td>...</td>\n",
       "      <td>...</td>\n",
       "      <td>...</td>\n",
       "    </tr>\n",
       "    <tr>\n",
       "      <th>209</th>\n",
       "      <td>1.51623</td>\n",
       "      <td>14.14</td>\n",
       "      <td>0.00</td>\n",
       "      <td>2.88</td>\n",
       "      <td>72.61</td>\n",
       "      <td>0.08</td>\n",
       "      <td>9.18</td>\n",
       "      <td>1.06</td>\n",
       "      <td>0.0</td>\n",
       "    </tr>\n",
       "    <tr>\n",
       "      <th>210</th>\n",
       "      <td>1.51685</td>\n",
       "      <td>14.92</td>\n",
       "      <td>0.00</td>\n",
       "      <td>1.99</td>\n",
       "      <td>73.06</td>\n",
       "      <td>0.00</td>\n",
       "      <td>8.40</td>\n",
       "      <td>1.59</td>\n",
       "      <td>0.0</td>\n",
       "    </tr>\n",
       "    <tr>\n",
       "      <th>211</th>\n",
       "      <td>1.52065</td>\n",
       "      <td>14.36</td>\n",
       "      <td>0.00</td>\n",
       "      <td>2.02</td>\n",
       "      <td>73.42</td>\n",
       "      <td>0.00</td>\n",
       "      <td>8.44</td>\n",
       "      <td>1.64</td>\n",
       "      <td>0.0</td>\n",
       "    </tr>\n",
       "    <tr>\n",
       "      <th>212</th>\n",
       "      <td>1.51651</td>\n",
       "      <td>14.38</td>\n",
       "      <td>0.00</td>\n",
       "      <td>1.94</td>\n",
       "      <td>73.61</td>\n",
       "      <td>0.00</td>\n",
       "      <td>8.48</td>\n",
       "      <td>1.57</td>\n",
       "      <td>0.0</td>\n",
       "    </tr>\n",
       "    <tr>\n",
       "      <th>213</th>\n",
       "      <td>1.51711</td>\n",
       "      <td>14.23</td>\n",
       "      <td>0.00</td>\n",
       "      <td>2.08</td>\n",
       "      <td>73.36</td>\n",
       "      <td>0.00</td>\n",
       "      <td>8.62</td>\n",
       "      <td>1.67</td>\n",
       "      <td>0.0</td>\n",
       "    </tr>\n",
       "  </tbody>\n",
       "</table>\n",
       "<p>214 rows × 9 columns</p>\n",
       "</div>"
      ],
      "text/plain": [
       "          RI     Na    Mg    Al     Si     K    Ca    Ba   Fe\n",
       "0    1.52101  13.64  4.49  1.10  71.78  0.06  8.75  0.00  0.0\n",
       "1    1.51761  13.89  3.60  1.36  72.73  0.48  7.83  0.00  0.0\n",
       "2    1.51618  13.53  3.55  1.54  72.99  0.39  7.78  0.00  0.0\n",
       "3    1.51766  13.21  3.69  1.29  72.61  0.57  8.22  0.00  0.0\n",
       "4    1.51742  13.27  3.62  1.24  73.08  0.55  8.07  0.00  0.0\n",
       "..       ...    ...   ...   ...    ...   ...   ...   ...  ...\n",
       "209  1.51623  14.14  0.00  2.88  72.61  0.08  9.18  1.06  0.0\n",
       "210  1.51685  14.92  0.00  1.99  73.06  0.00  8.40  1.59  0.0\n",
       "211  1.52065  14.36  0.00  2.02  73.42  0.00  8.44  1.64  0.0\n",
       "212  1.51651  14.38  0.00  1.94  73.61  0.00  8.48  1.57  0.0\n",
       "213  1.51711  14.23  0.00  2.08  73.36  0.00  8.62  1.67  0.0\n",
       "\n",
       "[214 rows x 9 columns]"
      ]
     },
     "execution_count": 16,
     "metadata": {},
     "output_type": "execute_result"
    }
   ],
   "source": [
    "data"
   ]
  },
  {
   "cell_type": "code",
   "execution_count": 17,
   "metadata": {},
   "outputs": [
    {
     "data": {
      "text/html": [
       "<div>\n",
       "<style scoped>\n",
       "    .dataframe tbody tr th:only-of-type {\n",
       "        vertical-align: middle;\n",
       "    }\n",
       "\n",
       "    .dataframe tbody tr th {\n",
       "        vertical-align: top;\n",
       "    }\n",
       "\n",
       "    .dataframe thead th {\n",
       "        text-align: right;\n",
       "    }\n",
       "</style>\n",
       "<table border=\"1\" class=\"dataframe\">\n",
       "  <thead>\n",
       "    <tr style=\"text-align: right;\">\n",
       "      <th></th>\n",
       "      <th>RI</th>\n",
       "      <th>Na</th>\n",
       "      <th>Mg</th>\n",
       "      <th>Al</th>\n",
       "      <th>Si</th>\n",
       "      <th>K</th>\n",
       "      <th>Ca</th>\n",
       "      <th>Ba</th>\n",
       "      <th>Fe</th>\n",
       "    </tr>\n",
       "  </thead>\n",
       "  <tbody>\n",
       "    <tr>\n",
       "      <th>count</th>\n",
       "      <td>214.000000</td>\n",
       "      <td>214.000000</td>\n",
       "      <td>214.000000</td>\n",
       "      <td>214.000000</td>\n",
       "      <td>214.000000</td>\n",
       "      <td>214.000000</td>\n",
       "      <td>214.000000</td>\n",
       "      <td>214.000000</td>\n",
       "      <td>214.000000</td>\n",
       "    </tr>\n",
       "    <tr>\n",
       "      <th>mean</th>\n",
       "      <td>1.518365</td>\n",
       "      <td>13.407850</td>\n",
       "      <td>2.684533</td>\n",
       "      <td>1.444907</td>\n",
       "      <td>72.650935</td>\n",
       "      <td>0.497056</td>\n",
       "      <td>8.956963</td>\n",
       "      <td>0.175047</td>\n",
       "      <td>0.057009</td>\n",
       "    </tr>\n",
       "    <tr>\n",
       "      <th>std</th>\n",
       "      <td>0.003037</td>\n",
       "      <td>0.816604</td>\n",
       "      <td>1.442408</td>\n",
       "      <td>0.499270</td>\n",
       "      <td>0.774546</td>\n",
       "      <td>0.652192</td>\n",
       "      <td>1.423153</td>\n",
       "      <td>0.497219</td>\n",
       "      <td>0.097439</td>\n",
       "    </tr>\n",
       "    <tr>\n",
       "      <th>min</th>\n",
       "      <td>1.511150</td>\n",
       "      <td>10.730000</td>\n",
       "      <td>0.000000</td>\n",
       "      <td>0.290000</td>\n",
       "      <td>69.810000</td>\n",
       "      <td>0.000000</td>\n",
       "      <td>5.430000</td>\n",
       "      <td>0.000000</td>\n",
       "      <td>0.000000</td>\n",
       "    </tr>\n",
       "    <tr>\n",
       "      <th>25%</th>\n",
       "      <td>1.516523</td>\n",
       "      <td>12.907500</td>\n",
       "      <td>2.115000</td>\n",
       "      <td>1.190000</td>\n",
       "      <td>72.280000</td>\n",
       "      <td>0.122500</td>\n",
       "      <td>8.240000</td>\n",
       "      <td>0.000000</td>\n",
       "      <td>0.000000</td>\n",
       "    </tr>\n",
       "    <tr>\n",
       "      <th>50%</th>\n",
       "      <td>1.517680</td>\n",
       "      <td>13.300000</td>\n",
       "      <td>3.480000</td>\n",
       "      <td>1.360000</td>\n",
       "      <td>72.790000</td>\n",
       "      <td>0.555000</td>\n",
       "      <td>8.600000</td>\n",
       "      <td>0.000000</td>\n",
       "      <td>0.000000</td>\n",
       "    </tr>\n",
       "    <tr>\n",
       "      <th>75%</th>\n",
       "      <td>1.519157</td>\n",
       "      <td>13.825000</td>\n",
       "      <td>3.600000</td>\n",
       "      <td>1.630000</td>\n",
       "      <td>73.087500</td>\n",
       "      <td>0.610000</td>\n",
       "      <td>9.172500</td>\n",
       "      <td>0.000000</td>\n",
       "      <td>0.100000</td>\n",
       "    </tr>\n",
       "    <tr>\n",
       "      <th>max</th>\n",
       "      <td>1.533930</td>\n",
       "      <td>17.380000</td>\n",
       "      <td>4.490000</td>\n",
       "      <td>3.500000</td>\n",
       "      <td>75.410000</td>\n",
       "      <td>6.210000</td>\n",
       "      <td>16.190000</td>\n",
       "      <td>3.150000</td>\n",
       "      <td>0.510000</td>\n",
       "    </tr>\n",
       "  </tbody>\n",
       "</table>\n",
       "</div>"
      ],
      "text/plain": [
       "               RI          Na          Mg          Al          Si           K  \\\n",
       "count  214.000000  214.000000  214.000000  214.000000  214.000000  214.000000   \n",
       "mean     1.518365   13.407850    2.684533    1.444907   72.650935    0.497056   \n",
       "std      0.003037    0.816604    1.442408    0.499270    0.774546    0.652192   \n",
       "min      1.511150   10.730000    0.000000    0.290000   69.810000    0.000000   \n",
       "25%      1.516523   12.907500    2.115000    1.190000   72.280000    0.122500   \n",
       "50%      1.517680   13.300000    3.480000    1.360000   72.790000    0.555000   \n",
       "75%      1.519157   13.825000    3.600000    1.630000   73.087500    0.610000   \n",
       "max      1.533930   17.380000    4.490000    3.500000   75.410000    6.210000   \n",
       "\n",
       "               Ca          Ba          Fe  \n",
       "count  214.000000  214.000000  214.000000  \n",
       "mean     8.956963    0.175047    0.057009  \n",
       "std      1.423153    0.497219    0.097439  \n",
       "min      5.430000    0.000000    0.000000  \n",
       "25%      8.240000    0.000000    0.000000  \n",
       "50%      8.600000    0.000000    0.000000  \n",
       "75%      9.172500    0.000000    0.100000  \n",
       "max     16.190000    3.150000    0.510000  "
      ]
     },
     "execution_count": 17,
     "metadata": {},
     "output_type": "execute_result"
    }
   ],
   "source": [
    "data.describe()"
   ]
  },
  {
   "cell_type": "code",
   "execution_count": 21,
   "metadata": {},
   "outputs": [],
   "source": [
    "from sklearn.preprocessing import StandardScaler\n",
    "scalar=StandardScaler()\n",
    "scaled_data=scalar.fit_transform(data)"
   ]
  },
  {
   "cell_type": "code",
   "execution_count": 24,
   "metadata": {},
   "outputs": [],
   "source": [
    "df=pd.DataFrame(scaled_data, columns=data.columns)"
   ]
  },
  {
   "cell_type": "code",
   "execution_count": 25,
   "metadata": {},
   "outputs": [
    {
     "data": {
      "text/html": [
       "<div>\n",
       "<style scoped>\n",
       "    .dataframe tbody tr th:only-of-type {\n",
       "        vertical-align: middle;\n",
       "    }\n",
       "\n",
       "    .dataframe tbody tr th {\n",
       "        vertical-align: top;\n",
       "    }\n",
       "\n",
       "    .dataframe thead th {\n",
       "        text-align: right;\n",
       "    }\n",
       "</style>\n",
       "<table border=\"1\" class=\"dataframe\">\n",
       "  <thead>\n",
       "    <tr style=\"text-align: right;\">\n",
       "      <th></th>\n",
       "      <th>RI</th>\n",
       "      <th>Na</th>\n",
       "      <th>Mg</th>\n",
       "      <th>Al</th>\n",
       "      <th>Si</th>\n",
       "      <th>K</th>\n",
       "      <th>Ca</th>\n",
       "      <th>Ba</th>\n",
       "      <th>Fe</th>\n",
       "    </tr>\n",
       "  </thead>\n",
       "  <tbody>\n",
       "    <tr>\n",
       "      <th>count</th>\n",
       "      <td>2.140000e+02</td>\n",
       "      <td>2.140000e+02</td>\n",
       "      <td>2.140000e+02</td>\n",
       "      <td>2.140000e+02</td>\n",
       "      <td>2.140000e+02</td>\n",
       "      <td>2.140000e+02</td>\n",
       "      <td>2.140000e+02</td>\n",
       "      <td>2.140000e+02</td>\n",
       "      <td>2.140000e+02</td>\n",
       "    </tr>\n",
       "    <tr>\n",
       "      <th>mean</th>\n",
       "      <td>-2.668608e-14</td>\n",
       "      <td>2.179980e-15</td>\n",
       "      <td>-2.801497e-16</td>\n",
       "      <td>-3.434428e-16</td>\n",
       "      <td>9.966067e-16</td>\n",
       "      <td>7.470660e-17</td>\n",
       "      <td>-3.137418e-16</td>\n",
       "      <td>-1.763906e-16</td>\n",
       "      <td>-6.121791e-17</td>\n",
       "    </tr>\n",
       "    <tr>\n",
       "      <th>std</th>\n",
       "      <td>1.002345e+00</td>\n",
       "      <td>1.002345e+00</td>\n",
       "      <td>1.002345e+00</td>\n",
       "      <td>1.002345e+00</td>\n",
       "      <td>1.002345e+00</td>\n",
       "      <td>1.002345e+00</td>\n",
       "      <td>1.002345e+00</td>\n",
       "      <td>1.002345e+00</td>\n",
       "      <td>1.002345e+00</td>\n",
       "    </tr>\n",
       "    <tr>\n",
       "      <th>min</th>\n",
       "      <td>-2.381516e+00</td>\n",
       "      <td>-3.286943e+00</td>\n",
       "      <td>-1.865511e+00</td>\n",
       "      <td>-2.318616e+00</td>\n",
       "      <td>-3.676472e+00</td>\n",
       "      <td>-7.639186e-01</td>\n",
       "      <td>-2.484084e+00</td>\n",
       "      <td>-3.528768e-01</td>\n",
       "      <td>-5.864509e-01</td>\n",
       "    </tr>\n",
       "    <tr>\n",
       "      <th>25%</th>\n",
       "      <td>-6.082728e-01</td>\n",
       "      <td>-6.141580e-01</td>\n",
       "      <td>-3.957744e-01</td>\n",
       "      <td>-5.117560e-01</td>\n",
       "      <td>-4.800288e-01</td>\n",
       "      <td>-5.756501e-01</td>\n",
       "      <td>-5.049657e-01</td>\n",
       "      <td>-3.528768e-01</td>\n",
       "      <td>-5.864509e-01</td>\n",
       "    </tr>\n",
       "    <tr>\n",
       "      <th>50%</th>\n",
       "      <td>-2.262293e-01</td>\n",
       "      <td>-1.323817e-01</td>\n",
       "      <td>5.527787e-01</td>\n",
       "      <td>-1.704602e-01</td>\n",
       "      <td>1.799655e-01</td>\n",
       "      <td>8.905322e-02</td>\n",
       "      <td>-2.514132e-01</td>\n",
       "      <td>-3.528768e-01</td>\n",
       "      <td>-5.864509e-01</td>\n",
       "    </tr>\n",
       "    <tr>\n",
       "      <th>75%</th>\n",
       "      <td>2.614331e-01</td>\n",
       "      <td>5.120326e-01</td>\n",
       "      <td>6.361680e-01</td>\n",
       "      <td>3.715977e-01</td>\n",
       "      <td>5.649621e-01</td>\n",
       "      <td>1.735820e-01</td>\n",
       "      <td>1.518057e-01</td>\n",
       "      <td>-3.528768e-01</td>\n",
       "      <td>4.422417e-01</td>\n",
       "    </tr>\n",
       "    <tr>\n",
       "      <th>max</th>\n",
       "      <td>5.137232e+00</td>\n",
       "      <td>4.875637e+00</td>\n",
       "      <td>1.254639e+00</td>\n",
       "      <td>4.125851e+00</td>\n",
       "      <td>3.570524e+00</td>\n",
       "      <td>8.780145e+00</td>\n",
       "      <td>5.094318e+00</td>\n",
       "      <td>5.997210e+00</td>\n",
       "      <td>4.659881e+00</td>\n",
       "    </tr>\n",
       "  </tbody>\n",
       "</table>\n",
       "</div>"
      ],
      "text/plain": [
       "                 RI            Na            Mg            Al            Si  \\\n",
       "count  2.140000e+02  2.140000e+02  2.140000e+02  2.140000e+02  2.140000e+02   \n",
       "mean  -2.668608e-14  2.179980e-15 -2.801497e-16 -3.434428e-16  9.966067e-16   \n",
       "std    1.002345e+00  1.002345e+00  1.002345e+00  1.002345e+00  1.002345e+00   \n",
       "min   -2.381516e+00 -3.286943e+00 -1.865511e+00 -2.318616e+00 -3.676472e+00   \n",
       "25%   -6.082728e-01 -6.141580e-01 -3.957744e-01 -5.117560e-01 -4.800288e-01   \n",
       "50%   -2.262293e-01 -1.323817e-01  5.527787e-01 -1.704602e-01  1.799655e-01   \n",
       "75%    2.614331e-01  5.120326e-01  6.361680e-01  3.715977e-01  5.649621e-01   \n",
       "max    5.137232e+00  4.875637e+00  1.254639e+00  4.125851e+00  3.570524e+00   \n",
       "\n",
       "                  K            Ca            Ba            Fe  \n",
       "count  2.140000e+02  2.140000e+02  2.140000e+02  2.140000e+02  \n",
       "mean   7.470660e-17 -3.137418e-16 -1.763906e-16 -6.121791e-17  \n",
       "std    1.002345e+00  1.002345e+00  1.002345e+00  1.002345e+00  \n",
       "min   -7.639186e-01 -2.484084e+00 -3.528768e-01 -5.864509e-01  \n",
       "25%   -5.756501e-01 -5.049657e-01 -3.528768e-01 -5.864509e-01  \n",
       "50%    8.905322e-02 -2.514132e-01 -3.528768e-01 -5.864509e-01  \n",
       "75%    1.735820e-01  1.518057e-01 -3.528768e-01  4.422417e-01  \n",
       "max    8.780145e+00  5.094318e+00  5.997210e+00  4.659881e+00  "
      ]
     },
     "execution_count": 25,
     "metadata": {},
     "output_type": "execute_result"
    }
   ],
   "source": [
    "df.describe()"
   ]
  },
  {
   "cell_type": "code",
   "execution_count": 31,
   "metadata": {},
   "outputs": [
    {
     "data": {
      "image/png": "[encoded data removed]",
      "text/plain": [
       "<Figure size 432x288 with 1 Axes>"
      ]
     },
     "metadata": {
      "needs_background": "light"
     },
     "output_type": "display_data"
    }
   ],
   "source": [
    "from sklearn.decomposition import PCA\n",
    "pca=PCA()\n",
    "pca.fit_transform(df)\n",
    "plt.figure()\n",
    "plt.plot(np.cumsum(pca.explained_variance_ratio_))\n",
    "plt.xlabel('Number of columns')\n",
    "plt.ylabel('evr')\n",
    "plt.show()"
   ]
  },
  {
   "cell_type": "code",
   "execution_count": 30,
   "metadata": {},
   "outputs": [
    {
     "data": {
      "text/plain": [
       "array([2.79018192e-01, 2.27785798e-01, 1.56093777e-01, 1.28651383e-01,\n",
       "       1.01555805e-01, 5.86261325e-02, 4.09953826e-02, 7.09477197e-03,\n",
       "       1.78757536e-04])"
      ]
     },
     "execution_count": 30,
     "metadata": {},
     "output_type": "execute_result"
    }
   ],
   "source": [
    "pca.explained_variance_ratio_"
   ]
  },
  {
   "cell_type": "code",
   "execution_count": 28,
   "metadata": {},
   "outputs": [
    {
     "data": {
      "text/html": [
       "<div>\n",
       "<style scoped>\n",
       "    .dataframe tbody tr th:only-of-type {\n",
       "        vertical-align: middle;\n",
       "    }\n",
       "\n",
       "    .dataframe tbody tr th {\n",
       "        vertical-align: top;\n",
       "    }\n",
       "\n",
       "    .dataframe thead th {\n",
       "        text-align: right;\n",
       "    }\n",
       "</style>\n",
       "<table border=\"1\" class=\"dataframe\">\n",
       "  <thead>\n",
       "    <tr style=\"text-align: right;\">\n",
       "      <th></th>\n",
       "      <th>0</th>\n",
       "      <th>1</th>\n",
       "      <th>2</th>\n",
       "      <th>3</th>\n",
       "      <th>4</th>\n",
       "      <th>5</th>\n",
       "      <th>6</th>\n",
       "      <th>7</th>\n",
       "      <th>8</th>\n",
       "    </tr>\n",
       "  </thead>\n",
       "  <tbody>\n",
       "    <tr>\n",
       "      <th>0</th>\n",
       "      <td>1.151140</td>\n",
       "      <td>-0.529488</td>\n",
       "      <td>-0.372096</td>\n",
       "      <td>1.728901</td>\n",
       "      <td>-0.251936</td>\n",
       "      <td>0.340210</td>\n",
       "      <td>-0.395600</td>\n",
       "      <td>-0.197160</td>\n",
       "      <td>0.016346</td>\n",
       "    </tr>\n",
       "    <tr>\n",
       "      <th>1</th>\n",
       "      <td>-0.574137</td>\n",
       "      <td>-0.759788</td>\n",
       "      <td>-0.556708</td>\n",
       "      <td>0.760232</td>\n",
       "      <td>-0.257071</td>\n",
       "      <td>-0.115960</td>\n",
       "      <td>-0.024158</td>\n",
       "      <td>-0.284214</td>\n",
       "      <td>-0.010790</td>\n",
       "    </tr>\n",
       "    <tr>\n",
       "      <th>2</th>\n",
       "      <td>-0.940160</td>\n",
       "      <td>-0.929836</td>\n",
       "      <td>-0.554907</td>\n",
       "      <td>0.206254</td>\n",
       "      <td>-0.237506</td>\n",
       "      <td>0.126630</td>\n",
       "      <td>-0.367518</td>\n",
       "      <td>-0.095941</td>\n",
       "      <td>0.021640</td>\n",
       "    </tr>\n",
       "    <tr>\n",
       "      <th>3</th>\n",
       "      <td>-0.142083</td>\n",
       "      <td>-0.961677</td>\n",
       "      <td>-0.117125</td>\n",
       "      <td>0.415724</td>\n",
       "      <td>-0.476299</td>\n",
       "      <td>0.285805</td>\n",
       "      <td>-0.052497</td>\n",
       "      <td>-0.002959</td>\n",
       "      <td>0.092035</td>\n",
       "    </tr>\n",
       "    <tr>\n",
       "      <th>4</th>\n",
       "      <td>-0.351092</td>\n",
       "      <td>-1.091249</td>\n",
       "      <td>-0.485079</td>\n",
       "      <td>0.069102</td>\n",
       "      <td>-0.432090</td>\n",
       "      <td>0.298032</td>\n",
       "      <td>0.158570</td>\n",
       "      <td>-0.191316</td>\n",
       "      <td>0.002315</td>\n",
       "    </tr>\n",
       "    <tr>\n",
       "      <th>...</th>\n",
       "      <td>...</td>\n",
       "      <td>...</td>\n",
       "      <td>...</td>\n",
       "      <td>...</td>\n",
       "      <td>...</td>\n",
       "      <td>...</td>\n",
       "      <td>...</td>\n",
       "      <td>...</td>\n",
       "      <td>...</td>\n",
       "    </tr>\n",
       "    <tr>\n",
       "      <th>209</th>\n",
       "      <td>-2.383835</td>\n",
       "      <td>3.061677</td>\n",
       "      <td>0.090445</td>\n",
       "      <td>-0.376611</td>\n",
       "      <td>0.103227</td>\n",
       "      <td>0.231162</td>\n",
       "      <td>-1.320186</td>\n",
       "      <td>0.189401</td>\n",
       "      <td>-0.028657</td>\n",
       "    </tr>\n",
       "    <tr>\n",
       "      <th>210</th>\n",
       "      <td>-2.397652</td>\n",
       "      <td>3.108236</td>\n",
       "      <td>-1.117502</td>\n",
       "      <td>0.288454</td>\n",
       "      <td>0.624723</td>\n",
       "      <td>0.618056</td>\n",
       "      <td>0.582361</td>\n",
       "      <td>0.131651</td>\n",
       "      <td>-0.013663</td>\n",
       "    </tr>\n",
       "    <tr>\n",
       "      <th>211</th>\n",
       "      <td>-1.680246</td>\n",
       "      <td>3.284823</td>\n",
       "      <td>-0.930349</td>\n",
       "      <td>-0.171014</td>\n",
       "      <td>0.451687</td>\n",
       "      <td>1.247320</td>\n",
       "      <td>0.674122</td>\n",
       "      <td>-0.891710</td>\n",
       "      <td>0.046284</td>\n",
       "    </tr>\n",
       "    <tr>\n",
       "      <th>212</th>\n",
       "      <td>-2.369748</td>\n",
       "      <td>2.756873</td>\n",
       "      <td>-1.234701</td>\n",
       "      <td>-0.525285</td>\n",
       "      <td>0.515008</td>\n",
       "      <td>1.003352</td>\n",
       "      <td>0.678899</td>\n",
       "      <td>0.074460</td>\n",
       "      <td>-0.027301</td>\n",
       "    </tr>\n",
       "    <tr>\n",
       "      <th>213</th>\n",
       "      <td>-2.262649</td>\n",
       "      <td>3.028592</td>\n",
       "      <td>-0.890845</td>\n",
       "      <td>-0.414491</td>\n",
       "      <td>0.505474</td>\n",
       "      <td>1.213617</td>\n",
       "      <td>0.462461</td>\n",
       "      <td>0.063315</td>\n",
       "      <td>-0.019450</td>\n",
       "    </tr>\n",
       "  </tbody>\n",
       "</table>\n",
       "<p>214 rows × 9 columns</p>\n",
       "</div>"
      ],
      "text/plain": [
       "            0         1         2         3         4         5         6  \\\n",
       "0    1.151140 -0.529488 -0.372096  1.728901 -0.251936  0.340210 -0.395600   \n",
       "1   -0.574137 -0.759788 -0.556708  0.760232 -0.257071 -0.115960 -0.024158   \n",
       "2   -0.940160 -0.929836 -0.554907  0.206254 -0.237506  0.126630 -0.367518   \n",
       "3   -0.142083 -0.961677 -0.117125  0.415724 -0.476299  0.285805 -0.052497   \n",
       "4   -0.351092 -1.091249 -0.485079  0.069102 -0.432090  0.298032  0.158570   \n",
       "..        ...       ...       ...       ...       ...       ...       ...   \n",
       "209 -2.383835  3.061677  0.090445 -0.376611  0.103227  0.231162 -1.320186   \n",
       "210 -2.397652  3.108236 -1.117502  0.288454  0.624723  0.618056  0.582361   \n",
       "211 -1.680246  3.284823 -0.930349 -0.171014  0.451687  1.247320  0.674122   \n",
       "212 -2.369748  2.756873 -1.234701 -0.525285  0.515008  1.003352  0.678899   \n",
       "213 -2.262649  3.028592 -0.890845 -0.414491  0.505474  1.213617  0.462461   \n",
       "\n",
       "            7         8  \n",
       "0   -0.197160  0.016346  \n",
       "1   -0.284214 -0.010790  \n",
       "2   -0.095941  0.021640  \n",
       "3   -0.002959  0.092035  \n",
       "4   -0.191316  0.002315  \n",
       "..        ...       ...  \n",
       "209  0.189401 -0.028657  \n",
       "210  0.131651 -0.013663  \n",
       "211 -0.891710  0.046284  \n",
       "212  0.074460 -0.027301  \n",
       "213  0.063315 -0.019450  \n",
       "\n",
       "[214 rows x 9 columns]"
      ]
     },
     "execution_count": 28,
     "metadata": {},
     "output_type": "execute_result"
    }
   ],
   "source": [
    "df1=pd.DataFrame(pca.fit_transform(df))\n",
    "df1"
   ]
  },
  {
   "cell_type": "code",
   "execution_count": 32,
   "metadata": {},
   "outputs": [],
   "source": [
    "pca1=PCA(n_components=5)"
   ]
  },
  {
   "cell_type": "code",
   "execution_count": 33,
   "metadata": {},
   "outputs": [
    {
     "data": {
      "text/plain": [
       "PCA(n_components=5)"
      ]
     },
     "execution_count": 33,
     "metadata": {},
     "output_type": "execute_result"
    }
   ],
   "source": [
    "pca1"
   ]
  },
  {
   "cell_type": "code",
   "execution_count": 35,
   "metadata": {},
   "outputs": [],
   "source": [
    "New_data=pca1.fit_transform(df)"
   ]
  },
  {
   "cell_type": "code",
   "execution_count": 42,
   "metadata": {},
   "outputs": [],
   "source": [
    "x=pd.DataFrame(New_data, columns=['PC1', 'PC2', 'P3', 'PC4', 'PC5'])"
   ]
  },
  {
   "cell_type": "code",
   "execution_count": 43,
   "metadata": {},
   "outputs": [
    {
     "data": {
      "text/html": [
       "<div>\n",
       "<style scoped>\n",
       "    .dataframe tbody tr th:only-of-type {\n",
       "        vertical-align: middle;\n",
       "    }\n",
       "\n",
       "    .dataframe tbody tr th {\n",
       "        vertical-align: top;\n",
       "    }\n",
       "\n",
       "    .dataframe thead th {\n",
       "        text-align: right;\n",
       "    }\n",
       "</style>\n",
       "<table border=\"1\" class=\"dataframe\">\n",
       "  <thead>\n",
       "    <tr style=\"text-align: right;\">\n",
       "      <th></th>\n",
       "      <th>RI</th>\n",
       "      <th>Na</th>\n",
       "      <th>Mg</th>\n",
       "      <th>Al</th>\n",
       "      <th>Si</th>\n",
       "      <th>K</th>\n",
       "      <th>Ca</th>\n",
       "      <th>Ba</th>\n",
       "      <th>Fe</th>\n",
       "    </tr>\n",
       "  </thead>\n",
       "  <tbody>\n",
       "    <tr>\n",
       "      <th>0</th>\n",
       "      <td>1.52101</td>\n",
       "      <td>13.64</td>\n",
       "      <td>4.49</td>\n",
       "      <td>1.10</td>\n",
       "      <td>71.78</td>\n",
       "      <td>0.06</td>\n",
       "      <td>8.75</td>\n",
       "      <td>0.00</td>\n",
       "      <td>0.0</td>\n",
       "    </tr>\n",
       "    <tr>\n",
       "      <th>1</th>\n",
       "      <td>1.51761</td>\n",
       "      <td>13.89</td>\n",
       "      <td>3.60</td>\n",
       "      <td>1.36</td>\n",
       "      <td>72.73</td>\n",
       "      <td>0.48</td>\n",
       "      <td>7.83</td>\n",
       "      <td>0.00</td>\n",
       "      <td>0.0</td>\n",
       "    </tr>\n",
       "    <tr>\n",
       "      <th>2</th>\n",
       "      <td>1.51618</td>\n",
       "      <td>13.53</td>\n",
       "      <td>3.55</td>\n",
       "      <td>1.54</td>\n",
       "      <td>72.99</td>\n",
       "      <td>0.39</td>\n",
       "      <td>7.78</td>\n",
       "      <td>0.00</td>\n",
       "      <td>0.0</td>\n",
       "    </tr>\n",
       "    <tr>\n",
       "      <th>3</th>\n",
       "      <td>1.51766</td>\n",
       "      <td>13.21</td>\n",
       "      <td>3.69</td>\n",
       "      <td>1.29</td>\n",
       "      <td>72.61</td>\n",
       "      <td>0.57</td>\n",
       "      <td>8.22</td>\n",
       "      <td>0.00</td>\n",
       "      <td>0.0</td>\n",
       "    </tr>\n",
       "    <tr>\n",
       "      <th>4</th>\n",
       "      <td>1.51742</td>\n",
       "      <td>13.27</td>\n",
       "      <td>3.62</td>\n",
       "      <td>1.24</td>\n",
       "      <td>73.08</td>\n",
       "      <td>0.55</td>\n",
       "      <td>8.07</td>\n",
       "      <td>0.00</td>\n",
       "      <td>0.0</td>\n",
       "    </tr>\n",
       "    <tr>\n",
       "      <th>...</th>\n",
       "      <td>...</td>\n",
       "      <td>...</td>\n",
       "      <td>...</td>\n",
       "      <td>...</td>\n",
       "      <td>...</td>\n",
       "      <td>...</td>\n",
       "      <td>...</td>\n",
       "      <td>...</td>\n",
       "      <td>...</td>\n",
       "    </tr>\n",
       "    <tr>\n",
       "      <th>209</th>\n",
       "      <td>1.51623</td>\n",
       "      <td>14.14</td>\n",
       "      <td>0.00</td>\n",
       "      <td>2.88</td>\n",
       "      <td>72.61</td>\n",
       "      <td>0.08</td>\n",
       "      <td>9.18</td>\n",
       "      <td>1.06</td>\n",
       "      <td>0.0</td>\n",
       "    </tr>\n",
       "    <tr>\n",
       "      <th>210</th>\n",
       "      <td>1.51685</td>\n",
       "      <td>14.92</td>\n",
       "      <td>0.00</td>\n",
       "      <td>1.99</td>\n",
       "      <td>73.06</td>\n",
       "      <td>0.00</td>\n",
       "      <td>8.40</td>\n",
       "      <td>1.59</td>\n",
       "      <td>0.0</td>\n",
       "    </tr>\n",
       "    <tr>\n",
       "      <th>211</th>\n",
       "      <td>1.52065</td>\n",
       "      <td>14.36</td>\n",
       "      <td>0.00</td>\n",
       "      <td>2.02</td>\n",
       "      <td>73.42</td>\n",
       "      <td>0.00</td>\n",
       "      <td>8.44</td>\n",
       "      <td>1.64</td>\n",
       "      <td>0.0</td>\n",
       "    </tr>\n",
       "    <tr>\n",
       "      <th>212</th>\n",
       "      <td>1.51651</td>\n",
       "      <td>14.38</td>\n",
       "      <td>0.00</td>\n",
       "      <td>1.94</td>\n",
       "      <td>73.61</td>\n",
       "      <td>0.00</td>\n",
       "      <td>8.48</td>\n",
       "      <td>1.57</td>\n",
       "      <td>0.0</td>\n",
       "    </tr>\n",
       "    <tr>\n",
       "      <th>213</th>\n",
       "      <td>1.51711</td>\n",
       "      <td>14.23</td>\n",
       "      <td>0.00</td>\n",
       "      <td>2.08</td>\n",
       "      <td>73.36</td>\n",
       "      <td>0.00</td>\n",
       "      <td>8.62</td>\n",
       "      <td>1.67</td>\n",
       "      <td>0.0</td>\n",
       "    </tr>\n",
       "  </tbody>\n",
       "</table>\n",
       "<p>214 rows × 9 columns</p>\n",
       "</div>"
      ],
      "text/plain": [
       "          RI     Na    Mg    Al     Si     K    Ca    Ba   Fe\n",
       "0    1.52101  13.64  4.49  1.10  71.78  0.06  8.75  0.00  0.0\n",
       "1    1.51761  13.89  3.60  1.36  72.73  0.48  7.83  0.00  0.0\n",
       "2    1.51618  13.53  3.55  1.54  72.99  0.39  7.78  0.00  0.0\n",
       "3    1.51766  13.21  3.69  1.29  72.61  0.57  8.22  0.00  0.0\n",
       "4    1.51742  13.27  3.62  1.24  73.08  0.55  8.07  0.00  0.0\n",
       "..       ...    ...   ...   ...    ...   ...   ...   ...  ...\n",
       "209  1.51623  14.14  0.00  2.88  72.61  0.08  9.18  1.06  0.0\n",
       "210  1.51685  14.92  0.00  1.99  73.06  0.00  8.40  1.59  0.0\n",
       "211  1.52065  14.36  0.00  2.02  73.42  0.00  8.44  1.64  0.0\n",
       "212  1.51651  14.38  0.00  1.94  73.61  0.00  8.48  1.57  0.0\n",
       "213  1.51711  14.23  0.00  2.08  73.36  0.00  8.62  1.67  0.0\n",
       "\n",
       "[214 rows x 9 columns]"
      ]
     },
     "execution_count": 43,
     "metadata": {},
     "output_type": "execute_result"
    }
   ],
   "source": [
    "data"
   ]
  },
  {
   "cell_type": "code",
   "execution_count": 44,
   "metadata": {},
   "outputs": [],
   "source": [
    "data1=pd.read_csv('glass.csv')"
   ]
  },
  {
   "cell_type": "code",
   "execution_count": 49,
   "metadata": {},
   "outputs": [],
   "source": [
    "y=data1.Type"
   ]
  },
  {
   "cell_type": "code",
   "execution_count": 50,
   "metadata": {},
   "outputs": [
    {
     "data": {
      "text/html": [
       "<div>\n",
       "<style scoped>\n",
       "    .dataframe tbody tr th:only-of-type {\n",
       "        vertical-align: middle;\n",
       "    }\n",
       "\n",
       "    .dataframe tbody tr th {\n",
       "        vertical-align: top;\n",
       "    }\n",
       "\n",
       "    .dataframe thead th {\n",
       "        text-align: right;\n",
       "    }\n",
       "</style>\n",
       "<table border=\"1\" class=\"dataframe\">\n",
       "  <thead>\n",
       "    <tr style=\"text-align: right;\">\n",
       "      <th></th>\n",
       "      <th>PC1</th>\n",
       "      <th>PC2</th>\n",
       "      <th>P3</th>\n",
       "      <th>PC4</th>\n",
       "      <th>PC5</th>\n",
       "    </tr>\n",
       "  </thead>\n",
       "  <tbody>\n",
       "    <tr>\n",
       "      <th>0</th>\n",
       "      <td>1.151140</td>\n",
       "      <td>-0.529488</td>\n",
       "      <td>-0.372096</td>\n",
       "      <td>1.728901</td>\n",
       "      <td>-0.251936</td>\n",
       "    </tr>\n",
       "    <tr>\n",
       "      <th>1</th>\n",
       "      <td>-0.574137</td>\n",
       "      <td>-0.759788</td>\n",
       "      <td>-0.556708</td>\n",
       "      <td>0.760232</td>\n",
       "      <td>-0.257071</td>\n",
       "    </tr>\n",
       "    <tr>\n",
       "      <th>2</th>\n",
       "      <td>-0.940160</td>\n",
       "      <td>-0.929836</td>\n",
       "      <td>-0.554907</td>\n",
       "      <td>0.206254</td>\n",
       "      <td>-0.237506</td>\n",
       "    </tr>\n",
       "    <tr>\n",
       "      <th>3</th>\n",
       "      <td>-0.142083</td>\n",
       "      <td>-0.961677</td>\n",
       "      <td>-0.117125</td>\n",
       "      <td>0.415724</td>\n",
       "      <td>-0.476299</td>\n",
       "    </tr>\n",
       "    <tr>\n",
       "      <th>4</th>\n",
       "      <td>-0.351092</td>\n",
       "      <td>-1.091249</td>\n",
       "      <td>-0.485079</td>\n",
       "      <td>0.069102</td>\n",
       "      <td>-0.432090</td>\n",
       "    </tr>\n",
       "    <tr>\n",
       "      <th>...</th>\n",
       "      <td>...</td>\n",
       "      <td>...</td>\n",
       "      <td>...</td>\n",
       "      <td>...</td>\n",
       "      <td>...</td>\n",
       "    </tr>\n",
       "    <tr>\n",
       "      <th>209</th>\n",
       "      <td>-2.383835</td>\n",
       "      <td>3.061677</td>\n",
       "      <td>0.090445</td>\n",
       "      <td>-0.376611</td>\n",
       "      <td>0.103227</td>\n",
       "    </tr>\n",
       "    <tr>\n",
       "      <th>210</th>\n",
       "      <td>-2.397652</td>\n",
       "      <td>3.108236</td>\n",
       "      <td>-1.117502</td>\n",
       "      <td>0.288454</td>\n",
       "      <td>0.624723</td>\n",
       "    </tr>\n",
       "    <tr>\n",
       "      <th>211</th>\n",
       "      <td>-1.680246</td>\n",
       "      <td>3.284823</td>\n",
       "      <td>-0.930349</td>\n",
       "      <td>-0.171014</td>\n",
       "      <td>0.451687</td>\n",
       "    </tr>\n",
       "    <tr>\n",
       "      <th>212</th>\n",
       "      <td>-2.369748</td>\n",
       "      <td>2.756873</td>\n",
       "      <td>-1.234701</td>\n",
       "      <td>-0.525285</td>\n",
       "      <td>0.515008</td>\n",
       "    </tr>\n",
       "    <tr>\n",
       "      <th>213</th>\n",
       "      <td>-2.262649</td>\n",
       "      <td>3.028592</td>\n",
       "      <td>-0.890845</td>\n",
       "      <td>-0.414491</td>\n",
       "      <td>0.505474</td>\n",
       "    </tr>\n",
       "  </tbody>\n",
       "</table>\n",
       "<p>214 rows × 5 columns</p>\n",
       "</div>"
      ],
      "text/plain": [
       "          PC1       PC2        P3       PC4       PC5\n",
       "0    1.151140 -0.529488 -0.372096  1.728901 -0.251936\n",
       "1   -0.574137 -0.759788 -0.556708  0.760232 -0.257071\n",
       "2   -0.940160 -0.929836 -0.554907  0.206254 -0.237506\n",
       "3   -0.142083 -0.961677 -0.117125  0.415724 -0.476299\n",
       "4   -0.351092 -1.091249 -0.485079  0.069102 -0.432090\n",
       "..        ...       ...       ...       ...       ...\n",
       "209 -2.383835  3.061677  0.090445 -0.376611  0.103227\n",
       "210 -2.397652  3.108236 -1.117502  0.288454  0.624723\n",
       "211 -1.680246  3.284823 -0.930349 -0.171014  0.451687\n",
       "212 -2.369748  2.756873 -1.234701 -0.525285  0.515008\n",
       "213 -2.262649  3.028592 -0.890845 -0.414491  0.505474\n",
       "\n",
       "[214 rows x 5 columns]"
      ]
     },
     "execution_count": 50,
     "metadata": {},
     "output_type": "execute_result"
    }
   ],
   "source": [
    "x"
   ]
  },
  {
   "cell_type": "code",
   "execution_count": 51,
   "metadata": {},
   "outputs": [
    {
     "data": {
      "text/plain": [
       "0      1\n",
       "1      1\n",
       "2      1\n",
       "3      1\n",
       "4      1\n",
       "      ..\n",
       "209    7\n",
       "210    7\n",
       "211    7\n",
       "212    7\n",
       "213    7\n",
       "Name: Type, Length: 214, dtype: int64"
      ]
     },
     "execution_count": 51,
     "metadata": {},
     "output_type": "execute_result"
    }
   ],
   "source": [
    "y"
   ]
  },
  {
   "cell_type": "code",
   "execution_count": 52,
   "metadata": {},
   "outputs": [],
   "source": [
    "from sklearn.tree import DecisionTreeClassifier\n",
    "from sklearn import tree"
   ]
  },
  {
   "cell_type": "code",
   "execution_count": 54,
   "metadata": {},
   "outputs": [
    {
     "data": {
      "text/plain": [
       "DecisionTreeClassifier()"
      ]
     },
     "execution_count": 54,
     "metadata": {},
     "output_type": "execute_result"
    }
   ],
   "source": [
    "dt_model=DecisionTreeClassifier()\n",
    "dt_model.fit(x,y)"
   ]
  },
  {
   "cell_type": "code",
   "execution_count": 55,
   "metadata": {},
   "outputs": [
    {
     "data": {
      "text/html": [
       "<div>\n",
       "<style scoped>\n",
       "    .dataframe tbody tr th:only-of-type {\n",
       "        vertical-align: middle;\n",
       "    }\n",
       "\n",
       "    .dataframe tbody tr th {\n",
       "        vertical-align: top;\n",
       "    }\n",
       "\n",
       "    .dataframe thead th {\n",
       "        text-align: right;\n",
       "    }\n",
       "</style>\n",
       "<table border=\"1\" class=\"dataframe\">\n",
       "  <thead>\n",
       "    <tr style=\"text-align: right;\">\n",
       "      <th></th>\n",
       "      <th>RI</th>\n",
       "      <th>Na</th>\n",
       "      <th>Mg</th>\n",
       "      <th>Al</th>\n",
       "      <th>Si</th>\n",
       "      <th>K</th>\n",
       "      <th>Ca</th>\n",
       "      <th>Ba</th>\n",
       "      <th>Fe</th>\n",
       "      <th>Type</th>\n",
       "    </tr>\n",
       "  </thead>\n",
       "  <tbody>\n",
       "    <tr>\n",
       "      <th>0</th>\n",
       "      <td>1.52101</td>\n",
       "      <td>13.64</td>\n",
       "      <td>4.49</td>\n",
       "      <td>1.10</td>\n",
       "      <td>71.78</td>\n",
       "      <td>0.06</td>\n",
       "      <td>8.75</td>\n",
       "      <td>0.00</td>\n",
       "      <td>0.0</td>\n",
       "      <td>1</td>\n",
       "    </tr>\n",
       "    <tr>\n",
       "      <th>1</th>\n",
       "      <td>1.51761</td>\n",
       "      <td>13.89</td>\n",
       "      <td>3.60</td>\n",
       "      <td>1.36</td>\n",
       "      <td>72.73</td>\n",
       "      <td>0.48</td>\n",
       "      <td>7.83</td>\n",
       "      <td>0.00</td>\n",
       "      <td>0.0</td>\n",
       "      <td>1</td>\n",
       "    </tr>\n",
       "    <tr>\n",
       "      <th>2</th>\n",
       "      <td>1.51618</td>\n",
       "      <td>13.53</td>\n",
       "      <td>3.55</td>\n",
       "      <td>1.54</td>\n",
       "      <td>72.99</td>\n",
       "      <td>0.39</td>\n",
       "      <td>7.78</td>\n",
       "      <td>0.00</td>\n",
       "      <td>0.0</td>\n",
       "      <td>1</td>\n",
       "    </tr>\n",
       "    <tr>\n",
       "      <th>3</th>\n",
       "      <td>1.51766</td>\n",
       "      <td>13.21</td>\n",
       "      <td>3.69</td>\n",
       "      <td>1.29</td>\n",
       "      <td>72.61</td>\n",
       "      <td>0.57</td>\n",
       "      <td>8.22</td>\n",
       "      <td>0.00</td>\n",
       "      <td>0.0</td>\n",
       "      <td>1</td>\n",
       "    </tr>\n",
       "    <tr>\n",
       "      <th>4</th>\n",
       "      <td>1.51742</td>\n",
       "      <td>13.27</td>\n",
       "      <td>3.62</td>\n",
       "      <td>1.24</td>\n",
       "      <td>73.08</td>\n",
       "      <td>0.55</td>\n",
       "      <td>8.07</td>\n",
       "      <td>0.00</td>\n",
       "      <td>0.0</td>\n",
       "      <td>1</td>\n",
       "    </tr>\n",
       "    <tr>\n",
       "      <th>...</th>\n",
       "      <td>...</td>\n",
       "      <td>...</td>\n",
       "      <td>...</td>\n",
       "      <td>...</td>\n",
       "      <td>...</td>\n",
       "      <td>...</td>\n",
       "      <td>...</td>\n",
       "      <td>...</td>\n",
       "      <td>...</td>\n",
       "      <td>...</td>\n",
       "    </tr>\n",
       "    <tr>\n",
       "      <th>209</th>\n",
       "      <td>1.51623</td>\n",
       "      <td>14.14</td>\n",
       "      <td>0.00</td>\n",
       "      <td>2.88</td>\n",
       "      <td>72.61</td>\n",
       "      <td>0.08</td>\n",
       "      <td>9.18</td>\n",
       "      <td>1.06</td>\n",
       "      <td>0.0</td>\n",
       "      <td>7</td>\n",
       "    </tr>\n",
       "    <tr>\n",
       "      <th>210</th>\n",
       "      <td>1.51685</td>\n",
       "      <td>14.92</td>\n",
       "      <td>0.00</td>\n",
       "      <td>1.99</td>\n",
       "      <td>73.06</td>\n",
       "      <td>0.00</td>\n",
       "      <td>8.40</td>\n",
       "      <td>1.59</td>\n",
       "      <td>0.0</td>\n",
       "      <td>7</td>\n",
       "    </tr>\n",
       "    <tr>\n",
       "      <th>211</th>\n",
       "      <td>1.52065</td>\n",
       "      <td>14.36</td>\n",
       "      <td>0.00</td>\n",
       "      <td>2.02</td>\n",
       "      <td>73.42</td>\n",
       "      <td>0.00</td>\n",
       "      <td>8.44</td>\n",
       "      <td>1.64</td>\n",
       "      <td>0.0</td>\n",
       "      <td>7</td>\n",
       "    </tr>\n",
       "    <tr>\n",
       "      <th>212</th>\n",
       "      <td>1.51651</td>\n",
       "      <td>14.38</td>\n",
       "      <td>0.00</td>\n",
       "      <td>1.94</td>\n",
       "      <td>73.61</td>\n",
       "      <td>0.00</td>\n",
       "      <td>8.48</td>\n",
       "      <td>1.57</td>\n",
       "      <td>0.0</td>\n",
       "      <td>7</td>\n",
       "    </tr>\n",
       "    <tr>\n",
       "      <th>213</th>\n",
       "      <td>1.51711</td>\n",
       "      <td>14.23</td>\n",
       "      <td>0.00</td>\n",
       "      <td>2.08</td>\n",
       "      <td>73.36</td>\n",
       "      <td>0.00</td>\n",
       "      <td>8.62</td>\n",
       "      <td>1.67</td>\n",
       "      <td>0.0</td>\n",
       "      <td>7</td>\n",
       "    </tr>\n",
       "  </tbody>\n",
       "</table>\n",
       "<p>214 rows × 10 columns</p>\n",
       "</div>"
      ],
      "text/plain": [
       "          RI     Na    Mg    Al     Si     K    Ca    Ba   Fe  Type\n",
       "0    1.52101  13.64  4.49  1.10  71.78  0.06  8.75  0.00  0.0     1\n",
       "1    1.51761  13.89  3.60  1.36  72.73  0.48  7.83  0.00  0.0     1\n",
       "2    1.51618  13.53  3.55  1.54  72.99  0.39  7.78  0.00  0.0     1\n",
       "3    1.51766  13.21  3.69  1.29  72.61  0.57  8.22  0.00  0.0     1\n",
       "4    1.51742  13.27  3.62  1.24  73.08  0.55  8.07  0.00  0.0     1\n",
       "..       ...    ...   ...   ...    ...   ...   ...   ...  ...   ...\n",
       "209  1.51623  14.14  0.00  2.88  72.61  0.08  9.18  1.06  0.0     7\n",
       "210  1.51685  14.92  0.00  1.99  73.06  0.00  8.40  1.59  0.0     7\n",
       "211  1.52065  14.36  0.00  2.02  73.42  0.00  8.44  1.64  0.0     7\n",
       "212  1.51651  14.38  0.00  1.94  73.61  0.00  8.48  1.57  0.0     7\n",
       "213  1.51711  14.23  0.00  2.08  73.36  0.00  8.62  1.67  0.0     7\n",
       "\n",
       "[214 rows x 10 columns]"
      ]
     },
     "execution_count": 55,
     "metadata": {},
     "output_type": "execute_result"
    }
   ],
   "source": [
    "data1"
   ]
  },
  {
   "cell_type": "code",
   "execution_count": 58,
   "metadata": {},
   "outputs": [
    {
     "data": {
      "text/plain": [
       "array([[-14.79669374,  -6.33840708, -37.61313627, -40.78614602,\n",
       "          1.49953006]])"
      ]
     },
     "execution_count": 58,
     "metadata": {},
     "output_type": "execute_result"
    }
   ],
   "source": [
    "pca1.transform([[1.52101, 13.64, 4.49, 1.10, 71.78, 0.06, 8.75, 0.00, 0.0]])"
   ]
  },
  {
   "cell_type": "code",
   "execution_count": 60,
   "metadata": {},
   "outputs": [
    {
     "ename": "NameError",
     "evalue": "name 'scaler' is not defined",
     "output_type": "error",
     "traceback": [
      "\u001b[1;31m---------------------------------------------------------------------------\u001b[0m",
      "\u001b[1;31mNameError\u001b[0m                                 Traceback (most recent call last)",
      "\u001b[1;32m<ipython-input-60-693ff4462be9>\u001b[0m in \u001b[0;36m<module>\u001b[1;34m\u001b[0m\n\u001b[1;32m----> 1\u001b[1;33m \u001b[0mdt_model\u001b[0m\u001b[1;33m.\u001b[0m\u001b[0mpredict\u001b[0m\u001b[1;33m(\u001b[0m\u001b[0mpca1\u001b[0m\u001b[1;33m.\u001b[0m\u001b[0mtransform\u001b[0m\u001b[1;33m(\u001b[0m\u001b[0mscaler\u001b[0m\u001b[1;33m.\u001b[0m\u001b[0mfit_tranform\u001b[0m\u001b[1;33m[\u001b[0m\u001b[1;33m[\u001b[0m\u001b[1;36m1.52101\u001b[0m\u001b[1;33m,\u001b[0m \u001b[1;36m13.64\u001b[0m\u001b[1;33m,\u001b[0m \u001b[1;36m4.49\u001b[0m\u001b[1;33m,\u001b[0m \u001b[1;36m1.10\u001b[0m\u001b[1;33m,\u001b[0m \u001b[1;36m71.78\u001b[0m\u001b[1;33m,\u001b[0m \u001b[1;36m0.06\u001b[0m\u001b[1;33m,\u001b[0m \u001b[1;36m8.75\u001b[0m\u001b[1;33m,\u001b[0m \u001b[1;36m0.00\u001b[0m\u001b[1;33m,\u001b[0m \u001b[1;36m0.0\u001b[0m\u001b[1;33m]\u001b[0m\u001b[1;33m]\u001b[0m\u001b[1;33m)\u001b[0m\u001b[1;33m)\u001b[0m\u001b[1;33m\u001b[0m\u001b[1;33m\u001b[0m\u001b[0m\n\u001b[0m",
      "\u001b[1;31mNameError\u001b[0m: name 'scaler' is not defined"
     ]
    }
   ],
   "source": [
    "dt_model.predict(pca1.transform(scaler.fit_tranform[[1.52101, 13.64, 4.49, 1.10, 71.78, 0.06, 8.75, 0.00, 0.0]]))"
   ]
  },
  {
   "cell_type": "code",
   "execution_count": null,
   "metadata": {},
   "outputs": [],
   "source": []
  }
 ],
 "metadata": {
  "kernelspec": {
   "display_name": "Python 3",
   "language": "python",
   "name": "python3"
  },
  "language_info": {
   "codemirror_mode": {
    "name": "ipython",
    "version": 3
   },
   "file_extension": ".py",
   "mimetype": "text/x-python",
   "name": "python",
   "nbconvert_exporter": "python",
   "pygments_lexer": "ipython3",
   "version": "3.8.5"
  }
 },
 "nbformat": 4,
 "nbformat_minor": 4
}
