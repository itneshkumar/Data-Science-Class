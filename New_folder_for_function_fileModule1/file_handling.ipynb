{
 "cells": [
  {
   "cell_type": "code",
   "execution_count": 10,
   "id": "surrounded-milton",
   "metadata": {},
   "outputs": [],
   "source": [
    "f=open('test.txt','w')"
   ]
  },
  {
   "cell_type": "code",
   "execution_count": 11,
   "id": "german-major",
   "metadata": {},
   "outputs": [],
   "source": [
    "f.write(r\"my name is itnesh kumar\")\n",
    "f.close()"
   ]
  },
  {
   "cell_type": "code",
   "execution_count": 13,
   "id": "wrapped-devices",
   "metadata": {},
   "outputs": [
    {
     "ename": "ValueError",
     "evalue": "I/O operation on closed file.",
     "output_type": "error",
     "traceback": [
      "\u001b[1;31m---------------------------------------------------------------------------\u001b[0m",
      "\u001b[1;31mValueError\u001b[0m                                Traceback (most recent call last)",
      "\u001b[1;32m<ipython-input-13-571e9fb02258>\u001b[0m in \u001b[0;36m<module>\u001b[1;34m\u001b[0m\n\u001b[1;32m----> 1\u001b[1;33m \u001b[0mf\u001b[0m\u001b[1;33m.\u001b[0m\u001b[0mread\u001b[0m\u001b[1;33m(\u001b[0m\u001b[1;33m)\u001b[0m\u001b[1;33m\u001b[0m\u001b[1;33m\u001b[0m\u001b[0m\n\u001b[0m",
      "\u001b[1;31mValueError\u001b[0m: I/O operation on closed file."
     ]
    }
   ],
   "source": [
    "f.read()"
   ]
  },
  {
   "cell_type": "code",
   "execution_count": 40,
   "id": "hidden-rings",
   "metadata": {},
   "outputs": [],
   "source": [
    "f=open('test.txt')"
   ]
  },
  {
   "cell_type": "code",
   "execution_count": 41,
   "id": "sharing-discretion",
   "metadata": {},
   "outputs": [
    {
     "data": {
      "text/plain": [
       "\"my name is itnesh kumar\\nwhat is your name \\nso i don't know \\nwhat will i do\\n\""
      ]
     },
     "execution_count": 41,
     "metadata": {},
     "output_type": "execute_result"
    }
   ],
   "source": [
    "f.read()"
   ]
  },
  {
   "cell_type": "code",
   "execution_count": 42,
   "id": "sexual-instruction",
   "metadata": {},
   "outputs": [
    {
     "data": {
      "text/plain": [
       "2"
      ]
     },
     "execution_count": 42,
     "metadata": {},
     "output_type": "execute_result"
    }
   ],
   "source": [
    "f.seek(2)"
   ]
  },
  {
   "cell_type": "code",
   "execution_count": 43,
   "id": "alien-worst",
   "metadata": {},
   "outputs": [
    {
     "data": {
      "text/plain": [
       "\" name is itnesh kumar\\nwhat is your name \\nso i don't know \\nwhat will i do\\n\""
      ]
     },
     "execution_count": 43,
     "metadata": {},
     "output_type": "execute_result"
    }
   ],
   "source": [
    "f.read()"
   ]
  },
  {
   "cell_type": "code",
   "execution_count": 44,
   "id": "prerequisite-physics",
   "metadata": {},
   "outputs": [
    {
     "name": "stdout",
     "output_type": "stream",
     "text": [
      "Line1: Geeks\n",
      "Line2: for\n",
      "Line3: Geeks\n"
     ]
    }
   ],
   "source": [
    "# Python code to\n",
    "# demonstrate readlines()\n",
    " \n",
    "\n",
    "L = [\"Geeks\\n\", \"for\\n\", \"Geeks\\n\"]\n",
    " \n",
    "# writing to file\n",
    "\n",
    "file1 = open('myfile.txt', 'w')\n",
    "file1.writelines(L)\n",
    "file1.close()\n",
    " \n",
    "# Using readlines()\n",
    "\n",
    "file1 = open('myfile.txt', 'r')\n",
    "\n",
    "Lines = file1.readlines()\n",
    " \n",
    "\n",
    "count = 0\n",
    "# Strips the newline character\n",
    "\n",
    "for line in Lines:\n",
    "\n",
    "    count += 1\n",
    "\n",
    "    print(\"Line{}: {}\".format(count, line.strip()))"
   ]
  },
  {
   "cell_type": "code",
   "execution_count": 46,
   "id": "danish-florist",
   "metadata": {},
   "outputs": [],
   "source": [
    "f=open('test.txt','r')"
   ]
  },
  {
   "cell_type": "code",
   "execution_count": 47,
   "id": "arabic-protection",
   "metadata": {},
   "outputs": [
    {
     "ename": "NameError",
     "evalue": "name 'write' is not defined",
     "output_type": "error",
     "traceback": [
      "\u001b[1;31m---------------------------------------------------------------------------\u001b[0m",
      "\u001b[1;31mNameError\u001b[0m                                 Traceback (most recent call last)",
      "\u001b[1;32m<ipython-input-47-5e77063b5956>\u001b[0m in \u001b[0;36m<module>\u001b[1;34m\u001b[0m\n\u001b[1;32m----> 1\u001b[1;33m \u001b[0mf\u001b[0m\u001b[1;33m=\u001b[0m\u001b[0mwrite\u001b[0m\u001b[1;33m(\u001b[0m\u001b[1;34m'what is you'\u001b[0m\u001b[1;33m)\u001b[0m\u001b[1;33m\u001b[0m\u001b[1;33m\u001b[0m\u001b[0m\n\u001b[0m",
      "\u001b[1;31mNameError\u001b[0m: name 'write' is not defined"
     ]
    }
   ],
   "source": [
    "f=write('what is you')"
   ]
  },
  {
   "cell_type": "code",
   "execution_count": 48,
   "id": "continental-ratio",
   "metadata": {},
   "outputs": [
    {
     "data": {
      "text/plain": [
       "\"my name is itnesh kumar\\nwhat is your name \\nso i don't know \\nwhat will i do\\n\""
      ]
     },
     "execution_count": 48,
     "metadata": {},
     "output_type": "execute_result"
    }
   ],
   "source": [
    "f.read()"
   ]
  },
  {
   "cell_type": "code",
   "execution_count": 52,
   "id": "colonial-classics",
   "metadata": {},
   "outputs": [
    {
     "data": {
      "text/plain": [
       "10"
      ]
     },
     "execution_count": 52,
     "metadata": {},
     "output_type": "execute_result"
    }
   ],
   "source": [
    "f.seek(10)"
   ]
  },
  {
   "cell_type": "code",
   "execution_count": 53,
   "id": "right-trust",
   "metadata": {},
   "outputs": [
    {
     "data": {
      "text/plain": [
       "' itnesh kumar\\nwhat is y'"
      ]
     },
     "execution_count": 53,
     "metadata": {},
     "output_type": "execute_result"
    }
   ],
   "source": [
    "f.read(23)"
   ]
  },
  {
   "cell_type": "code",
   "execution_count": 54,
   "id": "equipped-berlin",
   "metadata": {},
   "outputs": [],
   "source": [
    "f.close()"
   ]
  },
  {
   "cell_type": "code",
   "execution_count": 55,
   "id": "coral-significance",
   "metadata": {},
   "outputs": [
    {
     "ename": "ValueError",
     "evalue": "I/O operation on closed file.",
     "output_type": "error",
     "traceback": [
      "\u001b[1;31m---------------------------------------------------------------------------\u001b[0m",
      "\u001b[1;31mValueError\u001b[0m                                Traceback (most recent call last)",
      "\u001b[1;32m<ipython-input-55-571e9fb02258>\u001b[0m in \u001b[0;36m<module>\u001b[1;34m\u001b[0m\n\u001b[1;32m----> 1\u001b[1;33m \u001b[0mf\u001b[0m\u001b[1;33m.\u001b[0m\u001b[0mread\u001b[0m\u001b[1;33m(\u001b[0m\u001b[1;33m)\u001b[0m\u001b[1;33m\u001b[0m\u001b[1;33m\u001b[0m\u001b[0m\n\u001b[0m",
      "\u001b[1;31mValueError\u001b[0m: I/O operation on closed file."
     ]
    }
   ],
   "source": [
    "f.read()"
   ]
  },
  {
   "cell_type": "code",
   "execution_count": 65,
   "id": "moved-surname",
   "metadata": {},
   "outputs": [],
   "source": [
    "f=open('test.txt','a')"
   ]
  },
  {
   "cell_type": "code",
   "execution_count": 67,
   "id": "analyzed-jacket",
   "metadata": {},
   "outputs": [
    {
     "data": {
      "text/plain": [
       "18"
      ]
     },
     "execution_count": 67,
     "metadata": {},
     "output_type": "execute_result"
    }
   ],
   "source": [
    "f.write('what are you doing')"
   ]
  },
  {
   "cell_type": "code",
   "execution_count": 68,
   "id": "tested-metabolism",
   "metadata": {},
   "outputs": [],
   "source": [
    "f.close()"
   ]
  },
  {
   "cell_type": "code",
   "execution_count": 69,
   "id": "recorded-planner",
   "metadata": {},
   "outputs": [
    {
     "ename": "ValueError",
     "evalue": "I/O operation on closed file.",
     "output_type": "error",
     "traceback": [
      "\u001b[1;31m---------------------------------------------------------------------------\u001b[0m",
      "\u001b[1;31mValueError\u001b[0m                                Traceback (most recent call last)",
      "\u001b[1;32m<ipython-input-69-571e9fb02258>\u001b[0m in \u001b[0;36m<module>\u001b[1;34m\u001b[0m\n\u001b[1;32m----> 1\u001b[1;33m \u001b[0mf\u001b[0m\u001b[1;33m.\u001b[0m\u001b[0mread\u001b[0m\u001b[1;33m(\u001b[0m\u001b[1;33m)\u001b[0m\u001b[1;33m\u001b[0m\u001b[1;33m\u001b[0m\u001b[0m\n\u001b[0m",
      "\u001b[1;31mValueError\u001b[0m: I/O operation on closed file."
     ]
    }
   ],
   "source": [
    "f.read()"
   ]
  },
  {
   "cell_type": "code",
   "execution_count": 76,
   "id": "sweet-mixer",
   "metadata": {},
   "outputs": [],
   "source": [
    "f=open('test1.txt','wb')"
   ]
  },
  {
   "cell_type": "code",
   "execution_count": 77,
   "id": "utility-palestinian",
   "metadata": {},
   "outputs": [
    {
     "data": {
      "text/plain": [
       "18"
      ]
     },
     "execution_count": 77,
     "metadata": {},
     "output_type": "execute_result"
    }
   ],
   "source": [
    "f.write(b'itnesh is good boy')"
   ]
  },
  {
   "cell_type": "code",
   "execution_count": 79,
   "id": "authorized-consequence",
   "metadata": {},
   "outputs": [
    {
     "data": {
      "text/plain": [
       "9"
      ]
     },
     "execution_count": 79,
     "metadata": {},
     "output_type": "execute_result"
    }
   ],
   "source": [
    "f.seek(-9,2)"
   ]
  },
  {
   "cell_type": "code",
   "execution_count": 86,
   "id": "recovered-limitation",
   "metadata": {},
   "outputs": [],
   "source": [
    "f=open('test2.txt','r')"
   ]
  },
  {
   "cell_type": "code",
   "execution_count": 88,
   "id": "nervous-reading",
   "metadata": {},
   "outputs": [
    {
     "data": {
      "text/plain": [
       "'sf\\n'"
      ]
     },
     "execution_count": 88,
     "metadata": {},
     "output_type": "execute_result"
    }
   ],
   "source": [
    "f.readline(5)"
   ]
  },
  {
   "cell_type": "code",
   "execution_count": 89,
   "id": "dirty-priest",
   "metadata": {},
   "outputs": [],
   "source": [
    "f.close()"
   ]
  },
  {
   "cell_type": "code",
   "execution_count": 90,
   "id": "german-marshall",
   "metadata": {},
   "outputs": [],
   "source": [
    "f=open('test2.txt','r')"
   ]
  },
  {
   "cell_type": "code",
   "execution_count": 91,
   "id": "enabling-nicholas",
   "metadata": {},
   "outputs": [
    {
     "name": "stdout",
     "output_type": "stream",
     "text": [
      "dfaeff\n",
      "sf\n",
      "dff\n",
      "fsd\n",
      "fsda\n",
      "fsfds\n",
      "s\n",
      "fd\n",
      "\n",
      "fsd\n",
      "fd\n",
      "\n",
      "df\n",
      "\n",
      "d\n",
      "df\n",
      "df\n",
      "fsd\n",
      "dsf\n"
     ]
    }
   ],
   "source": [
    "for i in f:\n",
    "    print(i, end=\"\")"
   ]
  },
  {
   "cell_type": "code",
   "execution_count": 92,
   "id": "distinct-aviation",
   "metadata": {},
   "outputs": [],
   "source": [
    "f.close()"
   ]
  },
  {
   "cell_type": "code",
   "execution_count": 95,
   "id": "proper-blend",
   "metadata": {},
   "outputs": [],
   "source": [
    "f=open('test2.txt','r+')"
   ]
  },
  {
   "cell_type": "code",
   "execution_count": 96,
   "id": "emotional-validity",
   "metadata": {},
   "outputs": [
    {
     "data": {
      "text/plain": [
       "['dfaeff\\n',\n",
       " 'sf\\n',\n",
       " 'dff\\n',\n",
       " 'fsd\\n',\n",
       " 'fsda\\n',\n",
       " 'fsfds\\n',\n",
       " 's\\n',\n",
       " 'fd\\n',\n",
       " '\\n',\n",
       " 'fsd\\n',\n",
       " 'fd\\n',\n",
       " '\\n',\n",
       " 'df\\n',\n",
       " '\\n',\n",
       " 'd\\n',\n",
       " 'df\\n',\n",
       " 'df\\n',\n",
       " 'fsd\\n',\n",
       " 'dsf\\n']"
      ]
     },
     "execution_count": 96,
     "metadata": {},
     "output_type": "execute_result"
    }
   ],
   "source": [
    "list(f)"
   ]
  },
  {
   "cell_type": "code",
   "execution_count": 97,
   "id": "saving-removal",
   "metadata": {},
   "outputs": [
    {
     "data": {
      "text/plain": [
       "21"
      ]
     },
     "execution_count": 97,
     "metadata": {},
     "output_type": "execute_result"
    }
   ],
   "source": [
    "f.write('no any what will i do')"
   ]
  },
  {
   "cell_type": "code",
   "execution_count": 98,
   "id": "accurate-cookie",
   "metadata": {},
   "outputs": [],
   "source": [
    "f.close()"
   ]
  },
  {
   "cell_type": "code",
   "execution_count": 103,
   "id": "headed-pearl",
   "metadata": {},
   "outputs": [],
   "source": [
    "f=open('test2.txt','r+')"
   ]
  },
  {
   "cell_type": "code",
   "execution_count": 100,
   "id": "productive-protection",
   "metadata": {},
   "outputs": [],
   "source": [
    "f.writelines('what is you want to do')"
   ]
  },
  {
   "cell_type": "code",
   "execution_count": 101,
   "id": "adjustable-contractor",
   "metadata": {},
   "outputs": [],
   "source": [
    "f.close()"
   ]
  },
  {
   "cell_type": "code",
   "execution_count": 104,
   "id": "stuffed-still",
   "metadata": {},
   "outputs": [
    {
     "data": {
      "text/plain": [
       "324"
      ]
     },
     "execution_count": 104,
     "metadata": {},
     "output_type": "execute_result"
    }
   ],
   "source": [
    "f.seek(324)"
   ]
  },
  {
   "cell_type": "code",
   "execution_count": 105,
   "id": "thrown-penalty",
   "metadata": {},
   "outputs": [],
   "source": [
    "f.writelines('what is you want to do')"
   ]
  },
  {
   "cell_type": "code",
   "execution_count": 106,
   "id": "medieval-panic",
   "metadata": {},
   "outputs": [],
   "source": [
    "f.close()"
   ]
  },
  {
   "cell_type": "code",
   "execution_count": 107,
   "id": "activated-condition",
   "metadata": {},
   "outputs": [],
   "source": [
    "f=open('test2.txt','r+')"
   ]
  },
  {
   "cell_type": "code",
   "execution_count": 108,
   "id": "paperback-birthday",
   "metadata": {},
   "outputs": [
    {
     "data": {
      "text/plain": [
       "5"
      ]
     },
     "execution_count": 108,
     "metadata": {},
     "output_type": "execute_result"
    }
   ],
   "source": [
    "f.fileno()"
   ]
  },
  {
   "cell_type": "code",
   "execution_count": 109,
   "id": "proper-queue",
   "metadata": {},
   "outputs": [
    {
     "name": "stdout",
     "output_type": "stream",
     "text": [
      "Writing test5.txt\n"
     ]
    }
   ],
   "source": [
    "%%writefile test5.txt\n",
    "my name is itnesh"
   ]
  },
  {
   "cell_type": "code",
   "execution_count": null,
   "id": "absolute-providence",
   "metadata": {},
   "outputs": [],
   "source": []
  }
 ],
 "metadata": {
  "kernelspec": {
   "display_name": "Python 3",
   "language": "python",
   "name": "python3"
  },
  "language_info": {
   "codemirror_mode": {
    "name": "ipython",
    "version": 3
   },
   "file_extension": ".py",
   "mimetype": "text/x-python",
   "name": "python",
   "nbconvert_exporter": "python",
   "pygments_lexer": "ipython3",
   "version": "3.8.5"
  }
 },
 "nbformat": 4,
 "nbformat_minor": 5
}
