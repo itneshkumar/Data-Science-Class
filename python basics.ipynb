{
 "cells": [
  {
   "cell_type": "markdown",
   "id": "extreme-object",
   "metadata": {},
   "source": [
    "## interger generator|"
   ]
  },
  {
   "cell_type": "code",
   "execution_count": 1,
   "id": "optional-flesh",
   "metadata": {},
   "outputs": [
    {
     "data": {
      "text/plain": [
       "[0, 1, 2, 3, 4, 5, 6, 7, 8, 9]"
      ]
     },
     "execution_count": 1,
     "metadata": {},
     "output_type": "execute_result"
    }
   ],
   "source": [
    "list(range(10))"
   ]
  },
  {
   "cell_type": "markdown",
   "id": "surprising-andrew",
   "metadata": {},
   "source": [
    "* It Start from zero but exclude last digit"
   ]
  },
  {
   "cell_type": "code",
   "execution_count": 2,
   "id": "molecular-politics",
   "metadata": {},
   "outputs": [
    {
     "data": {
      "text/plain": [
       "[3, 4, 5, 6, 7, 8, 9]"
      ]
     },
     "execution_count": 2,
     "metadata": {},
     "output_type": "execute_result"
    }
   ],
   "source": [
    "list(range(3,10))"
   ]
  },
  {
   "cell_type": "markdown",
   "id": "linear-prison",
   "metadata": {},
   "source": [
    "_it start from begining but exclude the last number_"
   ]
  },
  {
   "cell_type": "code",
   "execution_count": 5,
   "id": "surgical-camel",
   "metadata": {},
   "outputs": [
    {
     "data": {
      "text/plain": [
       "[10, 9, 8, 7, 6, 5, 4]"
      ]
     },
     "execution_count": 5,
     "metadata": {},
     "output_type": "execute_result"
    }
   ],
   "source": [
    "list(range(10,3,-1))"
   ]
  },
  {
   "cell_type": "code",
   "execution_count": 6,
   "id": "amateur-clark",
   "metadata": {},
   "outputs": [],
   "source": [
    "a='itnesh'"
   ]
  },
  {
   "cell_type": "code",
   "execution_count": 7,
   "id": "expensive-beast",
   "metadata": {},
   "outputs": [
    {
     "ename": "TypeError",
     "evalue": "'float' object cannot be interpreted as an integer",
     "output_type": "error",
     "traceback": [
      "\u001b[1;31m---------------------------------------------------------------------------\u001b[0m",
      "\u001b[1;31mTypeError\u001b[0m                                 Traceback (most recent call last)",
      "\u001b[1;32m<ipython-input-7-3bed62377599>\u001b[0m in \u001b[0;36m<module>\u001b[1;34m\u001b[0m\n\u001b[1;32m----> 1\u001b[1;33m \u001b[0mlist\u001b[0m\u001b[1;33m(\u001b[0m\u001b[0mrange\u001b[0m\u001b[1;33m(\u001b[0m\u001b[1;36m2\u001b[0m\u001b[1;33m,\u001b[0m\u001b[1;36m5.5\u001b[0m\u001b[1;33m)\u001b[0m\u001b[1;33m)\u001b[0m\u001b[1;33m\u001b[0m\u001b[1;33m\u001b[0m\u001b[0m\n\u001b[0m",
      "\u001b[1;31mTypeError\u001b[0m: 'float' object cannot be interpreted as an integer"
     ]
    }
   ],
   "source": [
    "list(range(2,5.5))"
   ]
  },
  {
   "cell_type": "markdown",
   "id": "quiet-address",
   "metadata": {},
   "source": [
    "- this range don't support any floting number"
   ]
  },
  {
   "cell_type": "markdown",
   "id": "empty-travel",
   "metadata": {},
   "source": [
    "## use of for loop"
   ]
  },
  {
   "cell_type": "code",
   "execution_count": 1,
   "id": "south-franchise",
   "metadata": {},
   "outputs": [],
   "source": [
    "a=[1,4,53,63,61,71,7]"
   ]
  },
  {
   "cell_type": "code",
   "execution_count": 2,
   "id": "chicken-warren",
   "metadata": {},
   "outputs": [
    {
     "name": "stdout",
     "output_type": "stream",
     "text": [
      "1\n",
      "4\n",
      "53\n",
      "63\n",
      "61\n",
      "71\n",
      "7\n"
     ]
    }
   ],
   "source": [
    "for i in a:\n",
    "    print(i)"
   ]
  },
  {
   "cell_type": "code",
   "execution_count": 3,
   "id": "widespread-destination",
   "metadata": {},
   "outputs": [],
   "source": [
    "m=[]\n",
    "for i in a:\n",
    "    if i > 10:\n",
    "        m.append(i+2)\n",
    "    else:\n",
    "        m.append(i)\n",
    "    "
   ]
  },
  {
   "cell_type": "markdown",
   "id": "seasonal-cartridge",
   "metadata": {},
   "source": [
    "* append function is used to add the data in any list wheter it is blanck or filled list, it add the data in last of list"
   ]
  },
  {
   "cell_type": "code",
   "execution_count": 4,
   "id": "italic-image",
   "metadata": {},
   "outputs": [
    {
     "data": {
      "text/plain": [
       "[1, 4, 55, 65, 63, 73, 7]"
      ]
     },
     "execution_count": 4,
     "metadata": {},
     "output_type": "execute_result"
    }
   ],
   "source": [
    "m"
   ]
  },
  {
   "cell_type": "code",
   "execution_count": 12,
   "id": "valued-disaster",
   "metadata": {},
   "outputs": [
    {
     "name": "stdout",
     "output_type": "stream",
     "text": [
      "m is not greater than 15\n",
      "enter m is integer\n"
     ]
    }
   ],
   "source": [
    "m=15\n",
    "if m==15:\n",
    "    print('m is not greater than 15')\n",
    "    if type(m)== int:\n",
    "        print('enter m is integer')\n",
    "    elif type(m)==str:\n",
    "        print('enter m is string')\n",
    "    else:\n",
    "        print('no any data is given')\n",
    "elif m < 30:\n",
    "    print(' m is lesser than 30')\n",
    "else:\n",
    "    print('non of the condition is true')"
   ]
  },
  {
   "cell_type": "code",
   "execution_count": 13,
   "id": "adapted-valve",
   "metadata": {},
   "outputs": [
    {
     "name": "stdout",
     "output_type": "stream",
     "text": [
      "2\n",
      "3\n",
      "5\n",
      "6\n",
      "73\n",
      "4\n",
      "nothing is left\n"
     ]
    }
   ],
   "source": [
    "l=[2,3,5,6,73,4]\n",
    "for i in l:\n",
    "    print(i)\n",
    "else:\n",
    "    print('nothing is left')"
   ]
  },
  {
   "cell_type": "code",
   "execution_count": 44,
   "id": "neutral-fantasy",
   "metadata": {},
   "outputs": [
    {
     "name": "stdout",
     "output_type": "stream",
     "text": [
      "0\n",
      "1\n",
      "2\n",
      "3\n",
      "4 0\n",
      "4 1\n",
      "4 2\n",
      "4 3\n",
      "4 4\n",
      "4 5\n",
      "5 0\n",
      "5 1\n",
      "5 2\n",
      "5 3\n"
     ]
    }
   ],
   "source": [
    "l=[2,5,6,6,['e','t',4,4,6,6],[9,4,6,6]]\n",
    "for i in range(len(l)):\n",
    "    if type(l[i])==list:\n",
    "        for j in range(len(l[i])):\n",
    "            print(i,j)\n",
    "            if type(l[i][j])==str:\n",
    "                continue\n",
    "                print(l)\n",
    "    else:\n",
    "        print(i)\n",
    "   "
   ]
  },
  {
   "cell_type": "code",
   "execution_count": null,
   "id": "digital-script",
   "metadata": {},
   "outputs": [],
   "source": []
  },
  {
   "cell_type": "code",
   "execution_count": null,
   "id": "vertical-sponsorship",
   "metadata": {},
   "outputs": [],
   "source": []
  },
  {
   "cell_type": "code",
   "execution_count": null,
   "id": "located-following",
   "metadata": {},
   "outputs": [],
   "source": []
  }
 ],
 "metadata": {
  "kernelspec": {
   "display_name": "Python 3",
   "language": "python",
   "name": "python3"
  },
  "language_info": {
   "codemirror_mode": {
    "name": "ipython",
    "version": 3
   },
   "file_extension": ".py",
   "mimetype": "text/x-python",
   "name": "python",
   "nbconvert_exporter": "python",
   "pygments_lexer": "ipython3",
   "version": "3.8.5"
  }
 },
 "nbformat": 4,
 "nbformat_minor": 5
}
